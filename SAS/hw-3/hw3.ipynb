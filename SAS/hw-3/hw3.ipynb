{
  "cells": [
    {
      "cell_type": "markdown",
      "source": [
        "# Домашнее задание № 3 Построение заявочной скоринговой модели\n",
        "**Общая информация:**\n",
        "- ⚡Дата выдачи: 14 марта 2023\n",
        "- ⏰ Мягкий дедлайн 23:59MSK 27.03.2023\n",
        "- ⏰ Жесткий дедлайн 23:59MSK 30.03.2023\n",
        "- ✍ работы должны быть высланы на почту maria.vorobyova.ser@gmail.com с темой HSE_CS_[направление]_ФИО, например HSE_CS_ПАД_ИВАНОВ_ИВАН_ИВАНОВИЧ\n",
        "\n",
        "**Оценивание и штрафы:**\n",
        "\n",
        "Максимальный балл за работу — 10 баллов. За каждый день просрочки снимается 1 балл. После жесткого дедлайна сдача невозможна. \n",
        "\n",
        "Задание должно быть выполнено самостоятельно, «похожие» решения будут рассмотрены как \"плагиат\" и все похожие работы будут оценены баллом 0.\n",
        "\n",
        "_Оценка будет снижена, если_ \n",
        "- нет комментариев \n",
        "- код написан плохо, непонятно\n",
        "- сделаны неверные выводы\n",
        "\n",
        "**Что нужно сделать?**\n",
        "\n",
        "Необходимо построить модель, оценивающую вероятность дефолта клиента на стадии заведения кредитной заявки. Идти нужно строго по ноутбуку и выполнять задания каждого блока.\n",
        "\n",
        "Перед началом выполнения работы необходимо скачать 2 датасета:\n",
        " - Данные с одобренными кредитными заявками [датасет](https://drive.google.com/file/d/1YUEMYCmvLs786AyIUV4l4NZg6k4Sb1cj/view?usp=share_link)\n",
        " - Данные с отказанными кредитными заявками [датасет](https://drive.google.com/file/d/1Q1YS4HKJVkTkIRTQsxSzutuKiM5mxUqx/view?usp=share_link)\n",
        "\n",
        "Описание датасета:\n",
        "\n",
        "1. target - целевая переменная (1- клиент достиг просрочку 90 дней в первый год кредита, 0 - иначе)\n",
        "2. INCOME_TYPE - тип подтверждения дохода                \n",
        "3. EDUCATION_  -  образование               \n",
        "4. CUSTOMER_CATEGORY_  - категория клиента         \n",
        "5. income   - доход клиента                  \n",
        "6. DEPENDANT_NUMBER   - количество иждевенцев         \n",
        "7. IS_EMPL    - это сотрудник банка                  \n",
        "8. COUNT_ACTIVE_CREDIT_NO_CC  - количество октрытых кредитов без учета кредитных карт\n",
        "9. CNT_MNTH_FROM_LAST_PMNT    - сколько месяцев прошло с момента последнего платежа по предудущему кредиту\n",
        "10. age  - возраст клиента                     \n",
        "11. experience  - стаж клиента               \n",
        "12. inquiry_14_day   - количество запросов в бюро кредитных историй за последние 14 дней          \n",
        "13. inquiry_21_day   - количество запросов в бюро кредитных историй за последние 21 день                  \n",
        "14. count_mnth_act_passport - сколько месяцев прошло с момента выдачи выдачи паспорта     \n",
        "15. UID  - ID заявки    \n",
        "\n",
        "Желаем вам удачи!✌\n",
        "\n",
        "Ссылка на слайды [семинара](https://drive.google.com/file/d/18ox08w_016lopYZYu248Z6HHcYytsvus/view?usp=sharing) "
      ],
      "metadata": {
        "id": "hPOTWKJAdEsE"
      }
    },
    {
      "cell_type": "code",
      "source": [
        "# import библиотек\n",
        "import numpy as np\n",
        "import pandas as pd\n",
        "from sklearn.linear_model import LogisticRegression\n",
        "from sklearn import metrics\n",
        "from sklearn.metrics import f1_score\n",
        "from sklearn.metrics import roc_auc_score\n",
        "from sklearn.metrics import roc_curve\n",
        "\n",
        "# чтобы отобразить больше столбцов и строк\n",
        "# pd.options.display.max_rows = 50\n",
        "pd.options.display.max_columns = 200\n",
        "\n",
        "import warnings\n",
        "warnings.filterwarnings('error')\n",
        "\n",
        "# для работы с датами, временем\n",
        "from datetime import timedelta\n",
        "import datetime as dt\n",
        "\n",
        "# для построения графиков\n",
        "import matplotlib.pyplot as plt\n",
        "# %matplotlib inline\n",
        "plt.rcParams['figure.figsize'] = [10, 8]\n",
        "import seaborn as sns"
      ],
      "metadata": {
        "id": "aLcRyNilZcA4"
      },
      "execution_count": 1,
      "outputs": []
    },
    {
      "cell_type": "code",
      "execution_count": 2,
      "metadata": {
        "ExecuteTime": {
          "end_time": "2020-10-15T12:35:33.373219Z",
          "start_time": "2020-10-15T12:35:33.301636Z"
        },
        "id": "GbKaJGuNYJK-"
      },
      "outputs": [],
      "source": [
        "# считать данные\n",
        "df_accept = pd.read_csv('accept.csv')\n",
        "df_reject = pd.read_csv('reject.csv')"
      ]
    },
    {
      "cell_type": "markdown",
      "source": [
        "# Explatory Data Analysis. Максимально - 2 балла\n",
        "\n",
        "- 0 баллов, если задание не выполнено\n",
        "- 1 балл, если посчитаны статистики,есть какие-то графики (важно, ПОЛЕЗНЫЕ графики), но не сделаны выводы\n",
        "- 2 балла, если посчитаны статистики и есть графики (важно, ПОЛЕЗНЫЕ графики) и сделаны ВЫВОДЫ (важно, что выводы правильные)"
      ],
      "metadata": {
        "id": "gDzD86tue2VD"
      }
    },
    {
      "cell_type": "code",
      "source": [
        "df_accept.head()"
      ],
      "metadata": {
        "colab": {
          "base_uri": "https://localhost:8080/",
          "height": 270
        },
        "id": "W7AgyDX_ghWR",
        "outputId": "e6a36cc7-81e4-430f-e7f8-fd3d1cfb354c"
      },
      "execution_count": 3,
      "outputs": [
        {
          "output_type": "execute_result",
          "data": {
            "text/plain": [
              "   target INCOME_TYPE  EDUCATION_ CUSTOMER_CATEGORY_    income  \\\n",
              "0       0       2NDFL  elementary                NaN   56245.0   \n",
              "1       0       OTHER  elementary          Corporate  119510.0   \n",
              "2       0       2NDFL    advanced                NaN   12020.0   \n",
              "3       0       OTHER    advanced          Corporate   21611.0   \n",
              "4       0       OTHER  elementary                VIP  146841.0   \n",
              "\n",
              "   DEPENDANT_NUMBER  IS_EMPL  COUNT_ACTIVE_CREDIT_NO_CC  \\\n",
              "0               0.0        0                        NaN   \n",
              "1               0.0        1                        1.0   \n",
              "2               0.0        0                        1.0   \n",
              "3               0.0        1                        NaN   \n",
              "4               0.0        1                        0.0   \n",
              "\n",
              "   CNT_MNTH_FROM_LAST_PMNT        age  experience  inquiry_14_day  \\\n",
              "0                      NaN  50.567123    2.131507             NaN   \n",
              "1                 1.115569  28.191781    2.032877             1.0   \n",
              "2                 0.303786  36.437742   17.731507             0.0   \n",
              "3                      NaN  33.333446    1.711528             NaN   \n",
              "4                30.530914  36.531073    0.577648             0.0   \n",
              "\n",
              "   inquiry_21_day  count_mnth_act_passport  UID  \n",
              "0             NaN                 5.536986   10  \n",
              "1             1.0                 8.109589   11  \n",
              "2             0.0                 9.123535   13  \n",
              "3             NaN                 7.972678   15  \n",
              "4             0.0                 7.737705   17  "
            ],
            "text/html": [
              "\n",
              "  <div id=\"df-631f80a3-8326-44a1-b85f-4e61b7383d69\">\n",
              "    <div class=\"colab-df-container\">\n",
              "      <div>\n",
              "<style scoped>\n",
              "    .dataframe tbody tr th:only-of-type {\n",
              "        vertical-align: middle;\n",
              "    }\n",
              "\n",
              "    .dataframe tbody tr th {\n",
              "        vertical-align: top;\n",
              "    }\n",
              "\n",
              "    .dataframe thead th {\n",
              "        text-align: right;\n",
              "    }\n",
              "</style>\n",
              "<table border=\"1\" class=\"dataframe\">\n",
              "  <thead>\n",
              "    <tr style=\"text-align: right;\">\n",
              "      <th></th>\n",
              "      <th>target</th>\n",
              "      <th>INCOME_TYPE</th>\n",
              "      <th>EDUCATION_</th>\n",
              "      <th>CUSTOMER_CATEGORY_</th>\n",
              "      <th>income</th>\n",
              "      <th>DEPENDANT_NUMBER</th>\n",
              "      <th>IS_EMPL</th>\n",
              "      <th>COUNT_ACTIVE_CREDIT_NO_CC</th>\n",
              "      <th>CNT_MNTH_FROM_LAST_PMNT</th>\n",
              "      <th>age</th>\n",
              "      <th>experience</th>\n",
              "      <th>inquiry_14_day</th>\n",
              "      <th>inquiry_21_day</th>\n",
              "      <th>count_mnth_act_passport</th>\n",
              "      <th>UID</th>\n",
              "    </tr>\n",
              "  </thead>\n",
              "  <tbody>\n",
              "    <tr>\n",
              "      <th>0</th>\n",
              "      <td>0</td>\n",
              "      <td>2NDFL</td>\n",
              "      <td>elementary</td>\n",
              "      <td>NaN</td>\n",
              "      <td>56245.0</td>\n",
              "      <td>0.0</td>\n",
              "      <td>0</td>\n",
              "      <td>NaN</td>\n",
              "      <td>NaN</td>\n",
              "      <td>50.567123</td>\n",
              "      <td>2.131507</td>\n",
              "      <td>NaN</td>\n",
              "      <td>NaN</td>\n",
              "      <td>5.536986</td>\n",
              "      <td>10</td>\n",
              "    </tr>\n",
              "    <tr>\n",
              "      <th>1</th>\n",
              "      <td>0</td>\n",
              "      <td>OTHER</td>\n",
              "      <td>elementary</td>\n",
              "      <td>Corporate</td>\n",
              "      <td>119510.0</td>\n",
              "      <td>0.0</td>\n",
              "      <td>1</td>\n",
              "      <td>1.0</td>\n",
              "      <td>1.115569</td>\n",
              "      <td>28.191781</td>\n",
              "      <td>2.032877</td>\n",
              "      <td>1.0</td>\n",
              "      <td>1.0</td>\n",
              "      <td>8.109589</td>\n",
              "      <td>11</td>\n",
              "    </tr>\n",
              "    <tr>\n",
              "      <th>2</th>\n",
              "      <td>0</td>\n",
              "      <td>2NDFL</td>\n",
              "      <td>advanced</td>\n",
              "      <td>NaN</td>\n",
              "      <td>12020.0</td>\n",
              "      <td>0.0</td>\n",
              "      <td>0</td>\n",
              "      <td>1.0</td>\n",
              "      <td>0.303786</td>\n",
              "      <td>36.437742</td>\n",
              "      <td>17.731507</td>\n",
              "      <td>0.0</td>\n",
              "      <td>0.0</td>\n",
              "      <td>9.123535</td>\n",
              "      <td>13</td>\n",
              "    </tr>\n",
              "    <tr>\n",
              "      <th>3</th>\n",
              "      <td>0</td>\n",
              "      <td>OTHER</td>\n",
              "      <td>advanced</td>\n",
              "      <td>Corporate</td>\n",
              "      <td>21611.0</td>\n",
              "      <td>0.0</td>\n",
              "      <td>1</td>\n",
              "      <td>NaN</td>\n",
              "      <td>NaN</td>\n",
              "      <td>33.333446</td>\n",
              "      <td>1.711528</td>\n",
              "      <td>NaN</td>\n",
              "      <td>NaN</td>\n",
              "      <td>7.972678</td>\n",
              "      <td>15</td>\n",
              "    </tr>\n",
              "    <tr>\n",
              "      <th>4</th>\n",
              "      <td>0</td>\n",
              "      <td>OTHER</td>\n",
              "      <td>elementary</td>\n",
              "      <td>VIP</td>\n",
              "      <td>146841.0</td>\n",
              "      <td>0.0</td>\n",
              "      <td>1</td>\n",
              "      <td>0.0</td>\n",
              "      <td>30.530914</td>\n",
              "      <td>36.531073</td>\n",
              "      <td>0.577648</td>\n",
              "      <td>0.0</td>\n",
              "      <td>0.0</td>\n",
              "      <td>7.737705</td>\n",
              "      <td>17</td>\n",
              "    </tr>\n",
              "  </tbody>\n",
              "</table>\n",
              "</div>\n",
              "      <button class=\"colab-df-convert\" onclick=\"convertToInteractive('df-631f80a3-8326-44a1-b85f-4e61b7383d69')\"\n",
              "              title=\"Convert this dataframe to an interactive table.\"\n",
              "              style=\"display:none;\">\n",
              "        \n",
              "  <svg xmlns=\"http://www.w3.org/2000/svg\" height=\"24px\"viewBox=\"0 0 24 24\"\n",
              "       width=\"24px\">\n",
              "    <path d=\"M0 0h24v24H0V0z\" fill=\"none\"/>\n",
              "    <path d=\"M18.56 5.44l.94 2.06.94-2.06 2.06-.94-2.06-.94-.94-2.06-.94 2.06-2.06.94zm-11 1L8.5 8.5l.94-2.06 2.06-.94-2.06-.94L8.5 2.5l-.94 2.06-2.06.94zm10 10l.94 2.06.94-2.06 2.06-.94-2.06-.94-.94-2.06-.94 2.06-2.06.94z\"/><path d=\"M17.41 7.96l-1.37-1.37c-.4-.4-.92-.59-1.43-.59-.52 0-1.04.2-1.43.59L10.3 9.45l-7.72 7.72c-.78.78-.78 2.05 0 2.83L4 21.41c.39.39.9.59 1.41.59.51 0 1.02-.2 1.41-.59l7.78-7.78 2.81-2.81c.8-.78.8-2.07 0-2.86zM5.41 20L4 18.59l7.72-7.72 1.47 1.35L5.41 20z\"/>\n",
              "  </svg>\n",
              "      </button>\n",
              "      \n",
              "  <style>\n",
              "    .colab-df-container {\n",
              "      display:flex;\n",
              "      flex-wrap:wrap;\n",
              "      gap: 12px;\n",
              "    }\n",
              "\n",
              "    .colab-df-convert {\n",
              "      background-color: #E8F0FE;\n",
              "      border: none;\n",
              "      border-radius: 50%;\n",
              "      cursor: pointer;\n",
              "      display: none;\n",
              "      fill: #1967D2;\n",
              "      height: 32px;\n",
              "      padding: 0 0 0 0;\n",
              "      width: 32px;\n",
              "    }\n",
              "\n",
              "    .colab-df-convert:hover {\n",
              "      background-color: #E2EBFA;\n",
              "      box-shadow: 0px 1px 2px rgba(60, 64, 67, 0.3), 0px 1px 3px 1px rgba(60, 64, 67, 0.15);\n",
              "      fill: #174EA6;\n",
              "    }\n",
              "\n",
              "    [theme=dark] .colab-df-convert {\n",
              "      background-color: #3B4455;\n",
              "      fill: #D2E3FC;\n",
              "    }\n",
              "\n",
              "    [theme=dark] .colab-df-convert:hover {\n",
              "      background-color: #434B5C;\n",
              "      box-shadow: 0px 1px 3px 1px rgba(0, 0, 0, 0.15);\n",
              "      filter: drop-shadow(0px 1px 2px rgba(0, 0, 0, 0.3));\n",
              "      fill: #FFFFFF;\n",
              "    }\n",
              "  </style>\n",
              "\n",
              "      <script>\n",
              "        const buttonEl =\n",
              "          document.querySelector('#df-631f80a3-8326-44a1-b85f-4e61b7383d69 button.colab-df-convert');\n",
              "        buttonEl.style.display =\n",
              "          google.colab.kernel.accessAllowed ? 'block' : 'none';\n",
              "\n",
              "        async function convertToInteractive(key) {\n",
              "          const element = document.querySelector('#df-631f80a3-8326-44a1-b85f-4e61b7383d69');\n",
              "          const dataTable =\n",
              "            await google.colab.kernel.invokeFunction('convertToInteractive',\n",
              "                                                     [key], {});\n",
              "          if (!dataTable) return;\n",
              "\n",
              "          const docLinkHtml = 'Like what you see? Visit the ' +\n",
              "            '<a target=\"_blank\" href=https://colab.research.google.com/notebooks/data_table.ipynb>data table notebook</a>'\n",
              "            + ' to learn more about interactive tables.';\n",
              "          element.innerHTML = '';\n",
              "          dataTable['output_type'] = 'display_data';\n",
              "          await google.colab.output.renderOutput(dataTable, element);\n",
              "          const docLink = document.createElement('div');\n",
              "          docLink.innerHTML = docLinkHtml;\n",
              "          element.appendChild(docLink);\n",
              "        }\n",
              "      </script>\n",
              "    </div>\n",
              "  </div>\n",
              "  "
            ]
          },
          "metadata": {},
          "execution_count": 3
        }
      ]
    },
    {
      "cell_type": "code",
      "source": [
        "plt.figure(figsize=(8,6))\n",
        "plt.style.use('fivethirtyeight')\n",
        "\n",
        "slices = df_accept.target.value_counts()\n",
        "labels = df_accept.target.value_counts().reset_index()['index']\n",
        "explode = df_accept.target.value_counts().reset_index()['index']\n",
        "\n",
        "plt.pie(slices,\n",
        "        labels=labels,\n",
        "        explode=explode, \n",
        "        shadow=True,\n",
        "        startangle=180, \n",
        "        autopct='%1.1f%%',\n",
        "        wedgeprops={'edgecolor':'black'}\n",
        "        )\n",
        "\n",
        "\n",
        "plt.title('Target distribution')\n",
        "plt.tight_layout()\n",
        "\n",
        "plt.show()"
      ],
      "metadata": {
        "colab": {
          "base_uri": "https://localhost:8080/",
          "height": 433
        },
        "id": "pUqxNdXekllH",
        "outputId": "a032abeb-b66f-49d7-8c84-d22e1ad11377"
      },
      "execution_count": 4,
      "outputs": [
        {
          "output_type": "display_data",
          "data": {
            "text/plain": [
              "<Figure size 576x432 with 1 Axes>"
            ],
            "image/png": "[encoded data removed]"
          },
          "metadata": {}
        }
      ]
    },
    {
      "cell_type": "code",
      "source": [
        "numeric_columns_a = df_accept.select_dtypes(include=['int','float']).columns\n",
        "categorical_columns_a = df_accept.select_dtypes(include=['object','bool','category']).columns\n",
        "\n",
        "print(\"Number of numerical columns:\", len(numeric_columns_a))\n",
        "print(\"Number of categorical columns:\", len(categorical_columns_a))\n",
        "print(\"Total number of columns in the feature dataframe:\", df_accept.shape[1])"
      ],
      "metadata": {
        "colab": {
          "base_uri": "https://localhost:8080/"
        },
        "id": "t4XcYfhhgfFy",
        "outputId": "99dc1902-0067-4cc5-e477-27fb8506ddc6"
      },
      "execution_count": 5,
      "outputs": [
        {
          "output_type": "stream",
          "name": "stdout",
          "text": [
            "Number of numerical columns: 12\n",
            "Number of categorical columns: 3\n",
            "Total number of columns in the feature dataframe: 15\n"
          ]
        }
      ]
    },
    {
      "cell_type": "code",
      "source": [
        "numeric_columns_a"
      ],
      "metadata": {
        "colab": {
          "base_uri": "https://localhost:8080/"
        },
        "id": "J-BikQfJhNl4",
        "outputId": "17b79b8e-0681-4d87-b70f-ff0d72e0180b"
      },
      "execution_count": 6,
      "outputs": [
        {
          "output_type": "execute_result",
          "data": {
            "text/plain": [
              "Index(['target', 'income', 'DEPENDANT_NUMBER', 'IS_EMPL',\n",
              "       'COUNT_ACTIVE_CREDIT_NO_CC', 'CNT_MNTH_FROM_LAST_PMNT', 'age',\n",
              "       'experience', 'inquiry_14_day', 'inquiry_21_day',\n",
              "       'count_mnth_act_passport', 'UID'],\n",
              "      dtype='object')"
            ]
          },
          "metadata": {},
          "execution_count": 6
        }
      ]
    },
    {
      "cell_type": "code",
      "source": [
        "numeric_columns_r = df_reject.select_dtypes(include=['int','float']).columns\n",
        "categorical_columns_r = df_reject.select_dtypes(include=['object','bool','category']).columns\n",
        "\n",
        "print(\"Number of numerical columns:\", len(numeric_columns_r))\n",
        "print(\"Number of categorical columns:\", len(categorical_columns_r))\n",
        "print(\"Total number of columns in the feature dataframe:\", df_reject.shape[1])"
      ],
      "metadata": {
        "colab": {
          "base_uri": "https://localhost:8080/"
        },
        "id": "l8zR_IaNgfMf",
        "outputId": "b58411d5-e21e-47df-f92d-a523164832b1"
      },
      "execution_count": 7,
      "outputs": [
        {
          "output_type": "stream",
          "name": "stdout",
          "text": [
            "Number of numerical columns: 11\n",
            "Number of categorical columns: 3\n",
            "Total number of columns in the feature dataframe: 14\n"
          ]
        }
      ]
    },
    {
      "cell_type": "code",
      "source": [
        "def summary(df):\n",
        "    print(f'data shape: {df.shape}')\n",
        "    summ = pd.DataFrame(df.dtypes, columns=['data type'])\n",
        "    summ['#missing'] = df.isnull().sum().values * 100\n",
        "    summ['%missing'] = df.isnull().sum().values / len(df)\n",
        "    summ['#unique'] = df.nunique().values\n",
        "    desc = pd.DataFrame(df.describe(include='all').transpose())\n",
        "    summ['min'] = desc['min'].values\n",
        "    summ['max'] = desc['max'].values\n",
        "    summ['first value'] = df.loc[0].values\n",
        "    summ['second value'] = df.loc[1].values\n",
        "    summ['third value'] = df.loc[2].values\n",
        "    \n",
        "    return summ"
      ],
      "metadata": {
        "id": "Uo66iNV5n-yW"
      },
      "execution_count": 8,
      "outputs": []
    },
    {
      "cell_type": "code",
      "source": [
        "summary(df_accept[numeric_columns_a])"
      ],
      "metadata": {
        "colab": {
          "base_uri": "https://localhost:8080/",
          "height": 443
        },
        "id": "yS2x3BN1gbzo",
        "outputId": "c676df39-1c2c-4160-d7ae-a9722ad553b1"
      },
      "execution_count": 9,
      "outputs": [
        {
          "output_type": "stream",
          "name": "stdout",
          "text": [
            "data shape: (32554, 12)\n"
          ]
        },
        {
          "output_type": "execute_result",
          "data": {
            "text/plain": [
              "                          data type  #missing  %missing  #unique         min  \\\n",
              "target                        int64         0  0.000000        2    0.000000   \n",
              "income                      float64     65300  0.020059    18350    0.000000   \n",
              "DEPENDANT_NUMBER            float64      4000  0.001229        5    0.000000   \n",
              "IS_EMPL                       int64         0  0.000000        2    0.000000   \n",
              "COUNT_ACTIVE_CREDIT_NO_CC   float64    836400  0.256927        9    0.000000   \n",
              "CNT_MNTH_FROM_LAST_PMNT     float64   1014500  0.311636    17259  -66.559028   \n",
              "age                         float64         0  0.000000    24297   25.000187   \n",
              "experience                  float64      4700  0.001444    21225 -157.184939   \n",
              "inquiry_14_day              float64    922100  0.283252        7    0.000000   \n",
              "inquiry_21_day              float64    922100  0.283252        9    0.000000   \n",
              "count_mnth_act_passport     float64         0  0.000000    21220   -0.019126   \n",
              "UID                           int64         0  0.000000    32554   10.000000   \n",
              "\n",
              "                                    max   first value   second value  \\\n",
              "target                     1.000000e+00      0.000000       0.000000   \n",
              "income                     1.145038e+07  56245.000000  119510.000000   \n",
              "DEPENDANT_NUMBER           4.000000e+00      0.000000       0.000000   \n",
              "IS_EMPL                    1.000000e+00      0.000000       1.000000   \n",
              "COUNT_ACTIVE_CREDIT_NO_CC  8.000000e+00           NaN       1.000000   \n",
              "CNT_MNTH_FROM_LAST_PMNT    1.365277e+03           NaN       1.115569   \n",
              "age                        6.232055e+01     50.567123      28.191781   \n",
              "experience                 1.011924e+02      2.131507       2.032877   \n",
              "inquiry_14_day             6.000000e+00           NaN       1.000000   \n",
              "inquiry_21_day             8.000000e+00           NaN       1.000000   \n",
              "count_mnth_act_passport    1.561644e+01      5.536986       8.109589   \n",
              "UID                        1.409010e+05     10.000000      11.000000   \n",
              "\n",
              "                            third value  \n",
              "target                         0.000000  \n",
              "income                     12020.000000  \n",
              "DEPENDANT_NUMBER               0.000000  \n",
              "IS_EMPL                        0.000000  \n",
              "COUNT_ACTIVE_CREDIT_NO_CC      1.000000  \n",
              "CNT_MNTH_FROM_LAST_PMNT        0.303786  \n",
              "age                           36.437742  \n",
              "experience                    17.731507  \n",
              "inquiry_14_day                 0.000000  \n",
              "inquiry_21_day                 0.000000  \n",
              "count_mnth_act_passport        9.123535  \n",
              "UID                           13.000000  "
            ],
            "text/html": [
              "\n",
              "  <div id=\"df-6e97fff5-224c-4367-9eda-fa884a7ec104\">\n",
              "    <div class=\"colab-df-container\">\n",
              "      <div>\n",
              "<style scoped>\n",
              "    .dataframe tbody tr th:only-of-type {\n",
              "        vertical-align: middle;\n",
              "    }\n",
              "\n",
              "    .dataframe tbody tr th {\n",
              "        vertical-align: top;\n",
              "    }\n",
              "\n",
              "    .dataframe thead th {\n",
              "        text-align: right;\n",
              "    }\n",
              "</style>\n",
              "<table border=\"1\" class=\"dataframe\">\n",
              "  <thead>\n",
              "    <tr style=\"text-align: right;\">\n",
              "      <th></th>\n",
              "      <th>data type</th>\n",
              "      <th>#missing</th>\n",
              "      <th>%missing</th>\n",
              "      <th>#unique</th>\n",
              "      <th>min</th>\n",
              "      <th>max</th>\n",
              "      <th>first value</th>\n",
              "      <th>second value</th>\n",
              "      <th>third value</th>\n",
              "    </tr>\n",
              "  </thead>\n",
              "  <tbody>\n",
              "    <tr>\n",
              "      <th>target</th>\n",
              "      <td>int64</td>\n",
              "      <td>0</td>\n",
              "      <td>0.000000</td>\n",
              "      <td>2</td>\n",
              "      <td>0.000000</td>\n",
              "      <td>1.000000e+00</td>\n",
              "      <td>0.000000</td>\n",
              "      <td>0.000000</td>\n",
              "      <td>0.000000</td>\n",
              "    </tr>\n",
              "    <tr>\n",
              "      <th>income</th>\n",
              "      <td>float64</td>\n",
              "      <td>65300</td>\n",
              "      <td>0.020059</td>\n",
              "      <td>18350</td>\n",
              "      <td>0.000000</td>\n",
              "      <td>1.145038e+07</td>\n",
              "      <td>56245.000000</td>\n",
              "      <td>119510.000000</td>\n",
              "      <td>12020.000000</td>\n",
              "    </tr>\n",
              "    <tr>\n",
              "      <th>DEPENDANT_NUMBER</th>\n",
              "      <td>float64</td>\n",
              "      <td>4000</td>\n",
              "      <td>0.001229</td>\n",
              "      <td>5</td>\n",
              "      <td>0.000000</td>\n",
              "      <td>4.000000e+00</td>\n",
              "      <td>0.000000</td>\n",
              "      <td>0.000000</td>\n",
              "      <td>0.000000</td>\n",
              "    </tr>\n",
              "    <tr>\n",
              "      <th>IS_EMPL</th>\n",
              "      <td>int64</td>\n",
              "      <td>0</td>\n",
              "      <td>0.000000</td>\n",
              "      <td>2</td>\n",
              "      <td>0.000000</td>\n",
              "      <td>1.000000e+00</td>\n",
              "      <td>0.000000</td>\n",
              "      <td>1.000000</td>\n",
              "      <td>0.000000</td>\n",
              "    </tr>\n",
              "    <tr>\n",
              "      <th>COUNT_ACTIVE_CREDIT_NO_CC</th>\n",
              "      <td>float64</td>\n",
              "      <td>836400</td>\n",
              "      <td>0.256927</td>\n",
              "      <td>9</td>\n",
              "      <td>0.000000</td>\n",
              "      <td>8.000000e+00</td>\n",
              "      <td>NaN</td>\n",
              "      <td>1.000000</td>\n",
              "      <td>1.000000</td>\n",
              "    </tr>\n",
              "    <tr>\n",
              "      <th>CNT_MNTH_FROM_LAST_PMNT</th>\n",
              "      <td>float64</td>\n",
              "      <td>1014500</td>\n",
              "      <td>0.311636</td>\n",
              "      <td>17259</td>\n",
              "      <td>-66.559028</td>\n",
              "      <td>1.365277e+03</td>\n",
              "      <td>NaN</td>\n",
              "      <td>1.115569</td>\n",
              "      <td>0.303786</td>\n",
              "    </tr>\n",
              "    <tr>\n",
              "      <th>age</th>\n",
              "      <td>float64</td>\n",
              "      <td>0</td>\n",
              "      <td>0.000000</td>\n",
              "      <td>24297</td>\n",
              "      <td>25.000187</td>\n",
              "      <td>6.232055e+01</td>\n",
              "      <td>50.567123</td>\n",
              "      <td>28.191781</td>\n",
              "      <td>36.437742</td>\n",
              "    </tr>\n",
              "    <tr>\n",
              "      <th>experience</th>\n",
              "      <td>float64</td>\n",
              "      <td>4700</td>\n",
              "      <td>0.001444</td>\n",
              "      <td>21225</td>\n",
              "      <td>-157.184939</td>\n",
              "      <td>1.011924e+02</td>\n",
              "      <td>2.131507</td>\n",
              "      <td>2.032877</td>\n",
              "      <td>17.731507</td>\n",
              "    </tr>\n",
              "    <tr>\n",
              "      <th>inquiry_14_day</th>\n",
              "      <td>float64</td>\n",
              "      <td>922100</td>\n",
              "      <td>0.283252</td>\n",
              "      <td>7</td>\n",
              "      <td>0.000000</td>\n",
              "      <td>6.000000e+00</td>\n",
              "      <td>NaN</td>\n",
              "      <td>1.000000</td>\n",
              "      <td>0.000000</td>\n",
              "    </tr>\n",
              "    <tr>\n",
              "      <th>inquiry_21_day</th>\n",
              "      <td>float64</td>\n",
              "      <td>922100</td>\n",
              "      <td>0.283252</td>\n",
              "      <td>9</td>\n",
              "      <td>0.000000</td>\n",
              "      <td>8.000000e+00</td>\n",
              "      <td>NaN</td>\n",
              "      <td>1.000000</td>\n",
              "      <td>0.000000</td>\n",
              "    </tr>\n",
              "    <tr>\n",
              "      <th>count_mnth_act_passport</th>\n",
              "      <td>float64</td>\n",
              "      <td>0</td>\n",
              "      <td>0.000000</td>\n",
              "      <td>21220</td>\n",
              "      <td>-0.019126</td>\n",
              "      <td>1.561644e+01</td>\n",
              "      <td>5.536986</td>\n",
              "      <td>8.109589</td>\n",
              "      <td>9.123535</td>\n",
              "    </tr>\n",
              "    <tr>\n",
              "      <th>UID</th>\n",
              "      <td>int64</td>\n",
              "      <td>0</td>\n",
              "      <td>0.000000</td>\n",
              "      <td>32554</td>\n",
              "      <td>10.000000</td>\n",
              "      <td>1.409010e+05</td>\n",
              "      <td>10.000000</td>\n",
              "      <td>11.000000</td>\n",
              "      <td>13.000000</td>\n",
              "    </tr>\n",
              "  </tbody>\n",
              "</table>\n",
              "</div>\n",
              "      <button class=\"colab-df-convert\" onclick=\"convertToInteractive('df-6e97fff5-224c-4367-9eda-fa884a7ec104')\"\n",
              "              title=\"Convert this dataframe to an interactive table.\"\n",
              "              style=\"display:none;\">\n",
              "        \n",
              "  <svg xmlns=\"http://www.w3.org/2000/svg\" height=\"24px\"viewBox=\"0 0 24 24\"\n",
              "       width=\"24px\">\n",
              "    <path d=\"M0 0h24v24H0V0z\" fill=\"none\"/>\n",
              "    <path d=\"M18.56 5.44l.94 2.06.94-2.06 2.06-.94-2.06-.94-.94-2.06-.94 2.06-2.06.94zm-11 1L8.5 8.5l.94-2.06 2.06-.94-2.06-.94L8.5 2.5l-.94 2.06-2.06.94zm10 10l.94 2.06.94-2.06 2.06-.94-2.06-.94-.94-2.06-.94 2.06-2.06.94z\"/><path d=\"M17.41 7.96l-1.37-1.37c-.4-.4-.92-.59-1.43-.59-.52 0-1.04.2-1.43.59L10.3 9.45l-7.72 7.72c-.78.78-.78 2.05 0 2.83L4 21.41c.39.39.9.59 1.41.59.51 0 1.02-.2 1.41-.59l7.78-7.78 2.81-2.81c.8-.78.8-2.07 0-2.86zM5.41 20L4 18.59l7.72-7.72 1.47 1.35L5.41 20z\"/>\n",
              "  </svg>\n",
              "      </button>\n",
              "      \n",
              "  <style>\n",
              "    .colab-df-container {\n",
              "      display:flex;\n",
              "      flex-wrap:wrap;\n",
              "      gap: 12px;\n",
              "    }\n",
              "\n",
              "    .colab-df-convert {\n",
              "      background-color: #E8F0FE;\n",
              "      border: none;\n",
              "      border-radius: 50%;\n",
              "      cursor: pointer;\n",
              "      display: none;\n",
              "      fill: #1967D2;\n",
              "      height: 32px;\n",
              "      padding: 0 0 0 0;\n",
              "      width: 32px;\n",
              "    }\n",
              "\n",
              "    .colab-df-convert:hover {\n",
              "      background-color: #E2EBFA;\n",
              "      box-shadow: 0px 1px 2px rgba(60, 64, 67, 0.3), 0px 1px 3px 1px rgba(60, 64, 67, 0.15);\n",
              "      fill: #174EA6;\n",
              "    }\n",
              "\n",
              "    [theme=dark] .colab-df-convert {\n",
              "      background-color: #3B4455;\n",
              "      fill: #D2E3FC;\n",
              "    }\n",
              "\n",
              "    [theme=dark] .colab-df-convert:hover {\n",
              "      background-color: #434B5C;\n",
              "      box-shadow: 0px 1px 3px 1px rgba(0, 0, 0, 0.15);\n",
              "      filter: drop-shadow(0px 1px 2px rgba(0, 0, 0, 0.3));\n",
              "      fill: #FFFFFF;\n",
              "    }\n",
              "  </style>\n",
              "\n",
              "      <script>\n",
              "        const buttonEl =\n",
              "          document.querySelector('#df-6e97fff5-224c-4367-9eda-fa884a7ec104 button.colab-df-convert');\n",
              "        buttonEl.style.display =\n",
              "          google.colab.kernel.accessAllowed ? 'block' : 'none';\n",
              "\n",
              "        async function convertToInteractive(key) {\n",
              "          const element = document.querySelector('#df-6e97fff5-224c-4367-9eda-fa884a7ec104');\n",
              "          const dataTable =\n",
              "            await google.colab.kernel.invokeFunction('convertToInteractive',\n",
              "                                                     [key], {});\n",
              "          if (!dataTable) return;\n",
              "\n",
              "          const docLinkHtml = 'Like what you see? Visit the ' +\n",
              "            '<a target=\"_blank\" href=https://colab.research.google.com/notebooks/data_table.ipynb>data table notebook</a>'\n",
              "            + ' to learn more about interactive tables.';\n",
              "          element.innerHTML = '';\n",
              "          dataTable['output_type'] = 'display_data';\n",
              "          await google.colab.output.renderOutput(dataTable, element);\n",
              "          const docLink = document.createElement('div');\n",
              "          docLink.innerHTML = docLinkHtml;\n",
              "          element.appendChild(docLink);\n",
              "        }\n",
              "      </script>\n",
              "    </div>\n",
              "  </div>\n",
              "  "
            ]
          },
          "metadata": {},
          "execution_count": 9
        }
      ]
    },
    {
      "cell_type": "code",
      "source": [
        "plt.figure(figsize=(15,10))\n",
        "for id,column in enumerate(numeric_columns_a[:-1]):\n",
        "    plt.subplot(3,4,id+1)\n",
        "    sns.histplot(x=column,data=df_accept, kde=True)\n",
        "    plt.title(f\"{column} Distribution\")\n",
        "    plt.tight_layout()"
      ],
      "metadata": {
        "colab": {
          "base_uri": "https://localhost:8080/",
          "height": 721
        },
        "id": "nRMOcv9Vmhkt",
        "outputId": "ff2f81c4-049e-4fd5-bbb4-af1c4cd258f1"
      },
      "execution_count": 10,
      "outputs": [
        {
          "output_type": "display_data",
          "data": {
            "text/plain": [
              "<Figure size 1080x720 with 11 Axes>"
            ],
            "image/png": "[encoded data removed]"
          },
          "metadata": {}
        }
      ]
    },
    {
      "cell_type": "code",
      "source": [
        "# сколько в выборке \"accept\" 0 и 1\n",
        "df_accept.target.value_counts()"
      ],
      "metadata": {
        "colab": {
          "base_uri": "https://localhost:8080/"
        },
        "id": "D4nI-neInk2L",
        "outputId": "98bf5fd2-7c12-40aa-9708-75716191fb3f"
      },
      "execution_count": 11,
      "outputs": [
        {
          "output_type": "execute_result",
          "data": {
            "text/plain": [
              "0    31857\n",
              "1      697\n",
              "Name: target, dtype: int64"
            ]
          },
          "metadata": {},
          "execution_count": 11
        }
      ]
    },
    {
      "cell_type": "code",
      "source": [
        "df_accept.target.value_counts()[1] / len(df_accept.target) * 100"
      ],
      "metadata": {
        "colab": {
          "base_uri": "https://localhost:8080/"
        },
        "id": "LpgdTKmknr2u",
        "outputId": "62461c8b-253c-4a1e-a0c7-f706af5240fc"
      },
      "execution_count": 12,
      "outputs": [
        {
          "output_type": "execute_result",
          "data": {
            "text/plain": [
              "2.141057934508816"
            ]
          },
          "metadata": {},
          "execution_count": 12
        }
      ]
    },
    {
      "cell_type": "code",
      "source": [
        "def get_interval_analytics(df):\n",
        "    df = df[numeric_columns_r]\n",
        "    missing = df.isnull().sum()\n",
        "    mis_val_percent = 100 * df.isnull().sum() / len(df)\n",
        "    mean = df.mean(axis=0).apply(lambda x: '%.3f' % x)\n",
        "    median = df.median(axis=0).apply(lambda x: '%.3f' % x)\n",
        "    std = df.std(axis=0)\n",
        "    an_table = pd.concat([mis_val_percent, median, mean, std], axis=1)\n",
        "    an_table = an_table.rename(\n",
        "    columns = {0: 'Доля пропущенных значений (в процентах)', \n",
        "               1 : 'Медиана', \n",
        "               2 : 'Среднее значение', \n",
        "               3 : 'Среднеквадратическое отклонение'})\n",
        "    \n",
        "    return an_table"
      ],
      "metadata": {
        "id": "JQHhprWifxNl"
      },
      "execution_count": 13,
      "outputs": []
    },
    {
      "cell_type": "code",
      "source": [
        "get_interval_analytics(df_accept)"
      ],
      "metadata": {
        "colab": {
          "base_uri": "https://localhost:8080/",
          "height": 394
        },
        "id": "0ZJ2InLWf6Sd",
        "outputId": "40ab4e39-b801-458b-dacc-3b9e89858855"
      },
      "execution_count": 14,
      "outputs": [
        {
          "output_type": "execute_result",
          "data": {
            "text/plain": [
              "                           Доля пропущенных значений (в процентах)    Медиана  \\\n",
              "income                                                    2.005898  41463.000   \n",
              "DEPENDANT_NUMBER                                          0.122873      0.000   \n",
              "IS_EMPL                                                   0.000000      0.000   \n",
              "COUNT_ACTIVE_CREDIT_NO_CC                                25.692695      0.000   \n",
              "CNT_MNTH_FROM_LAST_PMNT                                  31.163605      0.928   \n",
              "age                                                       0.000000     34.734   \n",
              "experience                                                0.144375      3.279   \n",
              "inquiry_14_day                                           28.325244      0.000   \n",
              "inquiry_21_day                                           28.325244      0.000   \n",
              "count_mnth_act_passport                                   0.000000      7.781   \n",
              "UID                                                       0.000000  70762.000   \n",
              "\n",
              "                          Среднее значение  Среднеквадратическое отклонение  \n",
              "income                           61331.771                    106932.972771  \n",
              "DEPENDANT_NUMBER                     0.006                         0.096019  \n",
              "IS_EMPL                              0.390                         0.487792  \n",
              "COUNT_ACTIVE_CREDIT_NO_CC            0.662                         0.835298  \n",
              "CNT_MNTH_FROM_LAST_PMNT             20.857                       143.422108  \n",
              "age                                 36.432                         8.219484  \n",
              "experience                           4.890                         5.344778  \n",
              "inquiry_14_day                       0.362                         0.611643  \n",
              "inquiry_21_day                       0.426                         0.685549  \n",
              "count_mnth_act_passport              7.250                         3.341657  \n",
              "UID                              70630.133                     40512.136053  "
            ],
            "text/html": [
              "\n",
              "  <div id=\"df-b972d18e-0aae-4c3a-8cfb-e11d5586e287\">\n",
              "    <div class=\"colab-df-container\">\n",
              "      <div>\n",
              "<style scoped>\n",
              "    .dataframe tbody tr th:only-of-type {\n",
              "        vertical-align: middle;\n",
              "    }\n",
              "\n",
              "    .dataframe tbody tr th {\n",
              "        vertical-align: top;\n",
              "    }\n",
              "\n",
              "    .dataframe thead th {\n",
              "        text-align: right;\n",
              "    }\n",
              "</style>\n",
              "<table border=\"1\" class=\"dataframe\">\n",
              "  <thead>\n",
              "    <tr style=\"text-align: right;\">\n",
              "      <th></th>\n",
              "      <th>Доля пропущенных значений (в процентах)</th>\n",
              "      <th>Медиана</th>\n",
              "      <th>Среднее значение</th>\n",
              "      <th>Среднеквадратическое отклонение</th>\n",
              "    </tr>\n",
              "  </thead>\n",
              "  <tbody>\n",
              "    <tr>\n",
              "      <th>income</th>\n",
              "      <td>2.005898</td>\n",
              "      <td>41463.000</td>\n",
              "      <td>61331.771</td>\n",
              "      <td>106932.972771</td>\n",
              "    </tr>\n",
              "    <tr>\n",
              "      <th>DEPENDANT_NUMBER</th>\n",
              "      <td>0.122873</td>\n",
              "      <td>0.000</td>\n",
              "      <td>0.006</td>\n",
              "      <td>0.096019</td>\n",
              "    </tr>\n",
              "    <tr>\n",
              "      <th>IS_EMPL</th>\n",
              "      <td>0.000000</td>\n",
              "      <td>0.000</td>\n",
              "      <td>0.390</td>\n",
              "      <td>0.487792</td>\n",
              "    </tr>\n",
              "    <tr>\n",
              "      <th>COUNT_ACTIVE_CREDIT_NO_CC</th>\n",
              "      <td>25.692695</td>\n",
              "      <td>0.000</td>\n",
              "      <td>0.662</td>\n",
              "      <td>0.835298</td>\n",
              "    </tr>\n",
              "    <tr>\n",
              "      <th>CNT_MNTH_FROM_LAST_PMNT</th>\n",
              "      <td>31.163605</td>\n",
              "      <td>0.928</td>\n",
              "      <td>20.857</td>\n",
              "      <td>143.422108</td>\n",
              "    </tr>\n",
              "    <tr>\n",
              "      <th>age</th>\n",
              "      <td>0.000000</td>\n",
              "      <td>34.734</td>\n",
              "      <td>36.432</td>\n",
              "      <td>8.219484</td>\n",
              "    </tr>\n",
              "    <tr>\n",
              "      <th>experience</th>\n",
              "      <td>0.144375</td>\n",
              "      <td>3.279</td>\n",
              "      <td>4.890</td>\n",
              "      <td>5.344778</td>\n",
              "    </tr>\n",
              "    <tr>\n",
              "      <th>inquiry_14_day</th>\n",
              "      <td>28.325244</td>\n",
              "      <td>0.000</td>\n",
              "      <td>0.362</td>\n",
              "      <td>0.611643</td>\n",
              "    </tr>\n",
              "    <tr>\n",
              "      <th>inquiry_21_day</th>\n",
              "      <td>28.325244</td>\n",
              "      <td>0.000</td>\n",
              "      <td>0.426</td>\n",
              "      <td>0.685549</td>\n",
              "    </tr>\n",
              "    <tr>\n",
              "      <th>count_mnth_act_passport</th>\n",
              "      <td>0.000000</td>\n",
              "      <td>7.781</td>\n",
              "      <td>7.250</td>\n",
              "      <td>3.341657</td>\n",
              "    </tr>\n",
              "    <tr>\n",
              "      <th>UID</th>\n",
              "      <td>0.000000</td>\n",
              "      <td>70762.000</td>\n",
              "      <td>70630.133</td>\n",
              "      <td>40512.136053</td>\n",
              "    </tr>\n",
              "  </tbody>\n",
              "</table>\n",
              "</div>\n",
              "      <button class=\"colab-df-convert\" onclick=\"convertToInteractive('df-b972d18e-0aae-4c3a-8cfb-e11d5586e287')\"\n",
              "              title=\"Convert this dataframe to an interactive table.\"\n",
              "              style=\"display:none;\">\n",
              "        \n",
              "  <svg xmlns=\"http://www.w3.org/2000/svg\" height=\"24px\"viewBox=\"0 0 24 24\"\n",
              "       width=\"24px\">\n",
              "    <path d=\"M0 0h24v24H0V0z\" fill=\"none\"/>\n",
              "    <path d=\"M18.56 5.44l.94 2.06.94-2.06 2.06-.94-2.06-.94-.94-2.06-.94 2.06-2.06.94zm-11 1L8.5 8.5l.94-2.06 2.06-.94-2.06-.94L8.5 2.5l-.94 2.06-2.06.94zm10 10l.94 2.06.94-2.06 2.06-.94-2.06-.94-.94-2.06-.94 2.06-2.06.94z\"/><path d=\"M17.41 7.96l-1.37-1.37c-.4-.4-.92-.59-1.43-.59-.52 0-1.04.2-1.43.59L10.3 9.45l-7.72 7.72c-.78.78-.78 2.05 0 2.83L4 21.41c.39.39.9.59 1.41.59.51 0 1.02-.2 1.41-.59l7.78-7.78 2.81-2.81c.8-.78.8-2.07 0-2.86zM5.41 20L4 18.59l7.72-7.72 1.47 1.35L5.41 20z\"/>\n",
              "  </svg>\n",
              "      </button>\n",
              "      \n",
              "  <style>\n",
              "    .colab-df-container {\n",
              "      display:flex;\n",
              "      flex-wrap:wrap;\n",
              "      gap: 12px;\n",
              "    }\n",
              "\n",
              "    .colab-df-convert {\n",
              "      background-color: #E8F0FE;\n",
              "      border: none;\n",
              "      border-radius: 50%;\n",
              "      cursor: pointer;\n",
              "      display: none;\n",
              "      fill: #1967D2;\n",
              "      height: 32px;\n",
              "      padding: 0 0 0 0;\n",
              "      width: 32px;\n",
              "    }\n",
              "\n",
              "    .colab-df-convert:hover {\n",
              "      background-color: #E2EBFA;\n",
              "      box-shadow: 0px 1px 2px rgba(60, 64, 67, 0.3), 0px 1px 3px 1px rgba(60, 64, 67, 0.15);\n",
              "      fill: #174EA6;\n",
              "    }\n",
              "\n",
              "    [theme=dark] .colab-df-convert {\n",
              "      background-color: #3B4455;\n",
              "      fill: #D2E3FC;\n",
              "    }\n",
              "\n",
              "    [theme=dark] .colab-df-convert:hover {\n",
              "      background-color: #434B5C;\n",
              "      box-shadow: 0px 1px 3px 1px rgba(0, 0, 0, 0.15);\n",
              "      filter: drop-shadow(0px 1px 2px rgba(0, 0, 0, 0.3));\n",
              "      fill: #FFFFFF;\n",
              "    }\n",
              "  </style>\n",
              "\n",
              "      <script>\n",
              "        const buttonEl =\n",
              "          document.querySelector('#df-b972d18e-0aae-4c3a-8cfb-e11d5586e287 button.colab-df-convert');\n",
              "        buttonEl.style.display =\n",
              "          google.colab.kernel.accessAllowed ? 'block' : 'none';\n",
              "\n",
              "        async function convertToInteractive(key) {\n",
              "          const element = document.querySelector('#df-b972d18e-0aae-4c3a-8cfb-e11d5586e287');\n",
              "          const dataTable =\n",
              "            await google.colab.kernel.invokeFunction('convertToInteractive',\n",
              "                                                     [key], {});\n",
              "          if (!dataTable) return;\n",
              "\n",
              "          const docLinkHtml = 'Like what you see? Visit the ' +\n",
              "            '<a target=\"_blank\" href=https://colab.research.google.com/notebooks/data_table.ipynb>data table notebook</a>'\n",
              "            + ' to learn more about interactive tables.';\n",
              "          element.innerHTML = '';\n",
              "          dataTable['output_type'] = 'display_data';\n",
              "          await google.colab.output.renderOutput(dataTable, element);\n",
              "          const docLink = document.createElement('div');\n",
              "          docLink.innerHTML = docLinkHtml;\n",
              "          element.appendChild(docLink);\n",
              "        }\n",
              "      </script>\n",
              "    </div>\n",
              "  </div>\n",
              "  "
            ]
          },
          "metadata": {},
          "execution_count": 14
        }
      ]
    },
    {
      "cell_type": "code",
      "source": [
        "get_interval_analytics(df_reject)"
      ],
      "metadata": {
        "colab": {
          "base_uri": "https://localhost:8080/",
          "height": 394
        },
        "id": "hem2SwpGf6Vh",
        "outputId": "3dfccc2e-14b5-4d0c-ef1a-5200766501d8"
      },
      "execution_count": 15,
      "outputs": [
        {
          "output_type": "execute_result",
          "data": {
            "text/plain": [
              "                           Доля пропущенных значений (в процентах)    Медиана  \\\n",
              "income                                                    5.106144  29115.000   \n",
              "DEPENDANT_NUMBER                                          0.046760      0.000   \n",
              "IS_EMPL                                                   0.000000      1.000   \n",
              "COUNT_ACTIVE_CREDIT_NO_CC                                41.223230      0.000   \n",
              "CNT_MNTH_FROM_LAST_PMNT                                  51.126905      0.865   \n",
              "age                                                       0.000000     24.109   \n",
              "experience                                                0.074815      1.226   \n",
              "inquiry_14_day                                           43.056205      0.000   \n",
              "inquiry_21_day                                           43.056205      0.000   \n",
              "count_mnth_act_passport                                   0.000000      3.713   \n",
              "UID                                                       0.000000  74767.000   \n",
              "\n",
              "                          Среднее значение  Среднеквадратическое отклонение  \n",
              "income                           33651.243                     21821.837966  \n",
              "DEPENDANT_NUMBER                     0.002                         0.046357  \n",
              "IS_EMPL                              0.543                         0.498149  \n",
              "COUNT_ACTIVE_CREDIT_NO_CC            0.541                         0.730867  \n",
              "CNT_MNTH_FROM_LAST_PMNT             42.478                       228.831924  \n",
              "age                                 24.037                         0.738261  \n",
              "experience                           1.660                         1.394135  \n",
              "inquiry_14_day                       0.341                         0.619647  \n",
              "inquiry_21_day                       0.414                         0.708179  \n",
              "count_mnth_act_passport              3.509                         1.154384  \n",
              "UID                              72713.528                     41248.658196  "
            ],
            "text/html": [
              "\n",
              "  <div id=\"df-1e5e1644-f11b-46af-a268-ce53676cb0f8\">\n",
              "    <div class=\"colab-df-container\">\n",
              "      <div>\n",
              "<style scoped>\n",
              "    .dataframe tbody tr th:only-of-type {\n",
              "        vertical-align: middle;\n",
              "    }\n",
              "\n",
              "    .dataframe tbody tr th {\n",
              "        vertical-align: top;\n",
              "    }\n",
              "\n",
              "    .dataframe thead th {\n",
              "        text-align: right;\n",
              "    }\n",
              "</style>\n",
              "<table border=\"1\" class=\"dataframe\">\n",
              "  <thead>\n",
              "    <tr style=\"text-align: right;\">\n",
              "      <th></th>\n",
              "      <th>Доля пропущенных значений (в процентах)</th>\n",
              "      <th>Медиана</th>\n",
              "      <th>Среднее значение</th>\n",
              "      <th>Среднеквадратическое отклонение</th>\n",
              "    </tr>\n",
              "  </thead>\n",
              "  <tbody>\n",
              "    <tr>\n",
              "      <th>income</th>\n",
              "      <td>5.106144</td>\n",
              "      <td>29115.000</td>\n",
              "      <td>33651.243</td>\n",
              "      <td>21821.837966</td>\n",
              "    </tr>\n",
              "    <tr>\n",
              "      <th>DEPENDANT_NUMBER</th>\n",
              "      <td>0.046760</td>\n",
              "      <td>0.000</td>\n",
              "      <td>0.002</td>\n",
              "      <td>0.046357</td>\n",
              "    </tr>\n",
              "    <tr>\n",
              "      <th>IS_EMPL</th>\n",
              "      <td>0.000000</td>\n",
              "      <td>1.000</td>\n",
              "      <td>0.543</td>\n",
              "      <td>0.498149</td>\n",
              "    </tr>\n",
              "    <tr>\n",
              "      <th>COUNT_ACTIVE_CREDIT_NO_CC</th>\n",
              "      <td>41.223230</td>\n",
              "      <td>0.000</td>\n",
              "      <td>0.541</td>\n",
              "      <td>0.730867</td>\n",
              "    </tr>\n",
              "    <tr>\n",
              "      <th>CNT_MNTH_FROM_LAST_PMNT</th>\n",
              "      <td>51.126905</td>\n",
              "      <td>0.865</td>\n",
              "      <td>42.478</td>\n",
              "      <td>228.831924</td>\n",
              "    </tr>\n",
              "    <tr>\n",
              "      <th>age</th>\n",
              "      <td>0.000000</td>\n",
              "      <td>24.109</td>\n",
              "      <td>24.037</td>\n",
              "      <td>0.738261</td>\n",
              "    </tr>\n",
              "    <tr>\n",
              "      <th>experience</th>\n",
              "      <td>0.074815</td>\n",
              "      <td>1.226</td>\n",
              "      <td>1.660</td>\n",
              "      <td>1.394135</td>\n",
              "    </tr>\n",
              "    <tr>\n",
              "      <th>inquiry_14_day</th>\n",
              "      <td>43.056205</td>\n",
              "      <td>0.000</td>\n",
              "      <td>0.341</td>\n",
              "      <td>0.619647</td>\n",
              "    </tr>\n",
              "    <tr>\n",
              "      <th>inquiry_21_day</th>\n",
              "      <td>43.056205</td>\n",
              "      <td>0.000</td>\n",
              "      <td>0.414</td>\n",
              "      <td>0.708179</td>\n",
              "    </tr>\n",
              "    <tr>\n",
              "      <th>count_mnth_act_passport</th>\n",
              "      <td>0.000000</td>\n",
              "      <td>3.713</td>\n",
              "      <td>3.509</td>\n",
              "      <td>1.154384</td>\n",
              "    </tr>\n",
              "    <tr>\n",
              "      <th>UID</th>\n",
              "      <td>0.000000</td>\n",
              "      <td>74767.000</td>\n",
              "      <td>72713.528</td>\n",
              "      <td>41248.658196</td>\n",
              "    </tr>\n",
              "  </tbody>\n",
              "</table>\n",
              "</div>\n",
              "      <button class=\"colab-df-convert\" onclick=\"convertToInteractive('df-1e5e1644-f11b-46af-a268-ce53676cb0f8')\"\n",
              "              title=\"Convert this dataframe to an interactive table.\"\n",
              "              style=\"display:none;\">\n",
              "        \n",
              "  <svg xmlns=\"http://www.w3.org/2000/svg\" height=\"24px\"viewBox=\"0 0 24 24\"\n",
              "       width=\"24px\">\n",
              "    <path d=\"M0 0h24v24H0V0z\" fill=\"none\"/>\n",
              "    <path d=\"M18.56 5.44l.94 2.06.94-2.06 2.06-.94-2.06-.94-.94-2.06-.94 2.06-2.06.94zm-11 1L8.5 8.5l.94-2.06 2.06-.94-2.06-.94L8.5 2.5l-.94 2.06-2.06.94zm10 10l.94 2.06.94-2.06 2.06-.94-2.06-.94-.94-2.06-.94 2.06-2.06.94z\"/><path d=\"M17.41 7.96l-1.37-1.37c-.4-.4-.92-.59-1.43-.59-.52 0-1.04.2-1.43.59L10.3 9.45l-7.72 7.72c-.78.78-.78 2.05 0 2.83L4 21.41c.39.39.9.59 1.41.59.51 0 1.02-.2 1.41-.59l7.78-7.78 2.81-2.81c.8-.78.8-2.07 0-2.86zM5.41 20L4 18.59l7.72-7.72 1.47 1.35L5.41 20z\"/>\n",
              "  </svg>\n",
              "      </button>\n",
              "      \n",
              "  <style>\n",
              "    .colab-df-container {\n",
              "      display:flex;\n",
              "      flex-wrap:wrap;\n",
              "      gap: 12px;\n",
              "    }\n",
              "\n",
              "    .colab-df-convert {\n",
              "      background-color: #E8F0FE;\n",
              "      border: none;\n",
              "      border-radius: 50%;\n",
              "      cursor: pointer;\n",
              "      display: none;\n",
              "      fill: #1967D2;\n",
              "      height: 32px;\n",
              "      padding: 0 0 0 0;\n",
              "      width: 32px;\n",
              "    }\n",
              "\n",
              "    .colab-df-convert:hover {\n",
              "      background-color: #E2EBFA;\n",
              "      box-shadow: 0px 1px 2px rgba(60, 64, 67, 0.3), 0px 1px 3px 1px rgba(60, 64, 67, 0.15);\n",
              "      fill: #174EA6;\n",
              "    }\n",
              "\n",
              "    [theme=dark] .colab-df-convert {\n",
              "      background-color: #3B4455;\n",
              "      fill: #D2E3FC;\n",
              "    }\n",
              "\n",
              "    [theme=dark] .colab-df-convert:hover {\n",
              "      background-color: #434B5C;\n",
              "      box-shadow: 0px 1px 3px 1px rgba(0, 0, 0, 0.15);\n",
              "      filter: drop-shadow(0px 1px 2px rgba(0, 0, 0, 0.3));\n",
              "      fill: #FFFFFF;\n",
              "    }\n",
              "  </style>\n",
              "\n",
              "      <script>\n",
              "        const buttonEl =\n",
              "          document.querySelector('#df-1e5e1644-f11b-46af-a268-ce53676cb0f8 button.colab-df-convert');\n",
              "        buttonEl.style.display =\n",
              "          google.colab.kernel.accessAllowed ? 'block' : 'none';\n",
              "\n",
              "        async function convertToInteractive(key) {\n",
              "          const element = document.querySelector('#df-1e5e1644-f11b-46af-a268-ce53676cb0f8');\n",
              "          const dataTable =\n",
              "            await google.colab.kernel.invokeFunction('convertToInteractive',\n",
              "                                                     [key], {});\n",
              "          if (!dataTable) return;\n",
              "\n",
              "          const docLinkHtml = 'Like what you see? Visit the ' +\n",
              "            '<a target=\"_blank\" href=https://colab.research.google.com/notebooks/data_table.ipynb>data table notebook</a>'\n",
              "            + ' to learn more about interactive tables.';\n",
              "          element.innerHTML = '';\n",
              "          dataTable['output_type'] = 'display_data';\n",
              "          await google.colab.output.renderOutput(dataTable, element);\n",
              "          const docLink = document.createElement('div');\n",
              "          docLink.innerHTML = docLinkHtml;\n",
              "          element.appendChild(docLink);\n",
              "        }\n",
              "      </script>\n",
              "    </div>\n",
              "  </div>\n",
              "  "
            ]
          },
          "metadata": {},
          "execution_count": 15
        }
      ]
    },
    {
      "cell_type": "code",
      "source": [
        "def get_categorical_analytics(df):\n",
        "    df = df[categorical_columns_r]\n",
        "    missing = df.isnull().sum()\n",
        "    mis_val_percent = 100 * df.isnull().sum() / len(df)\n",
        "    mode = df.mode(axis=0).T.rename(columns={0: \"1\"})\n",
        "    an_table = pd.concat([mode, mis_val_percent], axis=1)\n",
        "    an_table = an_table.rename(\n",
        "    columns = {0 : 'Доля пропущенных значений (в процентах)',\n",
        "               \"1\": 'Мода'})\n",
        "    return an_table"
      ],
      "metadata": {
        "id": "cBVjgc2uf6Zd"
      },
      "execution_count": 16,
      "outputs": []
    },
    {
      "cell_type": "code",
      "source": [
        "get_categorical_analytics(df_accept)"
      ],
      "metadata": {
        "colab": {
          "base_uri": "https://localhost:8080/",
          "height": 143
        },
        "id": "FypIf6UIiH9X",
        "outputId": "17c9851c-f487-4ea7-c88b-cfa4ad0ecba6"
      },
      "execution_count": 17,
      "outputs": [
        {
          "output_type": "execute_result",
          "data": {
            "text/plain": [
              "                          Мода  Доля пропущенных значений (в процентах)\n",
              "INCOME_TYPE              OTHER                                 0.000000\n",
              "EDUCATION_          elementary                                 0.000000\n",
              "CUSTOMER_CATEGORY_   Corporate                                59.774528"
            ],
            "text/html": [
              "\n",
              "  <div id=\"df-fac4d6ff-bfe6-47f0-b20a-b8fe603413e6\">\n",
              "    <div class=\"colab-df-container\">\n",
              "      <div>\n",
              "<style scoped>\n",
              "    .dataframe tbody tr th:only-of-type {\n",
              "        vertical-align: middle;\n",
              "    }\n",
              "\n",
              "    .dataframe tbody tr th {\n",
              "        vertical-align: top;\n",
              "    }\n",
              "\n",
              "    .dataframe thead th {\n",
              "        text-align: right;\n",
              "    }\n",
              "</style>\n",
              "<table border=\"1\" class=\"dataframe\">\n",
              "  <thead>\n",
              "    <tr style=\"text-align: right;\">\n",
              "      <th></th>\n",
              "      <th>Мода</th>\n",
              "      <th>Доля пропущенных значений (в процентах)</th>\n",
              "    </tr>\n",
              "  </thead>\n",
              "  <tbody>\n",
              "    <tr>\n",
              "      <th>INCOME_TYPE</th>\n",
              "      <td>OTHER</td>\n",
              "      <td>0.000000</td>\n",
              "    </tr>\n",
              "    <tr>\n",
              "      <th>EDUCATION_</th>\n",
              "      <td>elementary</td>\n",
              "      <td>0.000000</td>\n",
              "    </tr>\n",
              "    <tr>\n",
              "      <th>CUSTOMER_CATEGORY_</th>\n",
              "      <td>Corporate</td>\n",
              "      <td>59.774528</td>\n",
              "    </tr>\n",
              "  </tbody>\n",
              "</table>\n",
              "</div>\n",
              "      <button class=\"colab-df-convert\" onclick=\"convertToInteractive('df-fac4d6ff-bfe6-47f0-b20a-b8fe603413e6')\"\n",
              "              title=\"Convert this dataframe to an interactive table.\"\n",
              "              style=\"display:none;\">\n",
              "        \n",
              "  <svg xmlns=\"http://www.w3.org/2000/svg\" height=\"24px\"viewBox=\"0 0 24 24\"\n",
              "       width=\"24px\">\n",
              "    <path d=\"M0 0h24v24H0V0z\" fill=\"none\"/>\n",
              "    <path d=\"M18.56 5.44l.94 2.06.94-2.06 2.06-.94-2.06-.94-.94-2.06-.94 2.06-2.06.94zm-11 1L8.5 8.5l.94-2.06 2.06-.94-2.06-.94L8.5 2.5l-.94 2.06-2.06.94zm10 10l.94 2.06.94-2.06 2.06-.94-2.06-.94-.94-2.06-.94 2.06-2.06.94z\"/><path d=\"M17.41 7.96l-1.37-1.37c-.4-.4-.92-.59-1.43-.59-.52 0-1.04.2-1.43.59L10.3 9.45l-7.72 7.72c-.78.78-.78 2.05 0 2.83L4 21.41c.39.39.9.59 1.41.59.51 0 1.02-.2 1.41-.59l7.78-7.78 2.81-2.81c.8-.78.8-2.07 0-2.86zM5.41 20L4 18.59l7.72-7.72 1.47 1.35L5.41 20z\"/>\n",
              "  </svg>\n",
              "      </button>\n",
              "      \n",
              "  <style>\n",
              "    .colab-df-container {\n",
              "      display:flex;\n",
              "      flex-wrap:wrap;\n",
              "      gap: 12px;\n",
              "    }\n",
              "\n",
              "    .colab-df-convert {\n",
              "      background-color: #E8F0FE;\n",
              "      border: none;\n",
              "      border-radius: 50%;\n",
              "      cursor: pointer;\n",
              "      display: none;\n",
              "      fill: #1967D2;\n",
              "      height: 32px;\n",
              "      padding: 0 0 0 0;\n",
              "      width: 32px;\n",
              "    }\n",
              "\n",
              "    .colab-df-convert:hover {\n",
              "      background-color: #E2EBFA;\n",
              "      box-shadow: 0px 1px 2px rgba(60, 64, 67, 0.3), 0px 1px 3px 1px rgba(60, 64, 67, 0.15);\n",
              "      fill: #174EA6;\n",
              "    }\n",
              "\n",
              "    [theme=dark] .colab-df-convert {\n",
              "      background-color: #3B4455;\n",
              "      fill: #D2E3FC;\n",
              "    }\n",
              "\n",
              "    [theme=dark] .colab-df-convert:hover {\n",
              "      background-color: #434B5C;\n",
              "      box-shadow: 0px 1px 3px 1px rgba(0, 0, 0, 0.15);\n",
              "      filter: drop-shadow(0px 1px 2px rgba(0, 0, 0, 0.3));\n",
              "      fill: #FFFFFF;\n",
              "    }\n",
              "  </style>\n",
              "\n",
              "      <script>\n",
              "        const buttonEl =\n",
              "          document.querySelector('#df-fac4d6ff-bfe6-47f0-b20a-b8fe603413e6 button.colab-df-convert');\n",
              "        buttonEl.style.display =\n",
              "          google.colab.kernel.accessAllowed ? 'block' : 'none';\n",
              "\n",
              "        async function convertToInteractive(key) {\n",
              "          const element = document.querySelector('#df-fac4d6ff-bfe6-47f0-b20a-b8fe603413e6');\n",
              "          const dataTable =\n",
              "            await google.colab.kernel.invokeFunction('convertToInteractive',\n",
              "                                                     [key], {});\n",
              "          if (!dataTable) return;\n",
              "\n",
              "          const docLinkHtml = 'Like what you see? Visit the ' +\n",
              "            '<a target=\"_blank\" href=https://colab.research.google.com/notebooks/data_table.ipynb>data table notebook</a>'\n",
              "            + ' to learn more about interactive tables.';\n",
              "          element.innerHTML = '';\n",
              "          dataTable['output_type'] = 'display_data';\n",
              "          await google.colab.output.renderOutput(dataTable, element);\n",
              "          const docLink = document.createElement('div');\n",
              "          docLink.innerHTML = docLinkHtml;\n",
              "          element.appendChild(docLink);\n",
              "        }\n",
              "      </script>\n",
              "    </div>\n",
              "  </div>\n",
              "  "
            ]
          },
          "metadata": {},
          "execution_count": 17
        }
      ]
    },
    {
      "cell_type": "code",
      "source": [
        "get_categorical_analytics(df_reject)"
      ],
      "metadata": {
        "colab": {
          "base_uri": "https://localhost:8080/",
          "height": 143
        },
        "id": "2CvJtJzvf6cg",
        "outputId": "fbd75948-c092-4ebe-c82f-65d0697b556f"
      },
      "execution_count": 18,
      "outputs": [
        {
          "output_type": "execute_result",
          "data": {
            "text/plain": [
              "                          Мода  Доля пропущенных значений (в процентах)\n",
              "INCOME_TYPE              OTHER                                 0.000000\n",
              "EDUCATION_          elementary                                 0.000000\n",
              "CUSTOMER_CATEGORY_   Corporate                                47.152343"
            ],
            "text/html": [
              "\n",
              "  <div id=\"df-0b745481-a313-4cdb-8bf1-beea077b790f\">\n",
              "    <div class=\"colab-df-container\">\n",
              "      <div>\n",
              "<style scoped>\n",
              "    .dataframe tbody tr th:only-of-type {\n",
              "        vertical-align: middle;\n",
              "    }\n",
              "\n",
              "    .dataframe tbody tr th {\n",
              "        vertical-align: top;\n",
              "    }\n",
              "\n",
              "    .dataframe thead th {\n",
              "        text-align: right;\n",
              "    }\n",
              "</style>\n",
              "<table border=\"1\" class=\"dataframe\">\n",
              "  <thead>\n",
              "    <tr style=\"text-align: right;\">\n",
              "      <th></th>\n",
              "      <th>Мода</th>\n",
              "      <th>Доля пропущенных значений (в процентах)</th>\n",
              "    </tr>\n",
              "  </thead>\n",
              "  <tbody>\n",
              "    <tr>\n",
              "      <th>INCOME_TYPE</th>\n",
              "      <td>OTHER</td>\n",
              "      <td>0.000000</td>\n",
              "    </tr>\n",
              "    <tr>\n",
              "      <th>EDUCATION_</th>\n",
              "      <td>elementary</td>\n",
              "      <td>0.000000</td>\n",
              "    </tr>\n",
              "    <tr>\n",
              "      <th>CUSTOMER_CATEGORY_</th>\n",
              "      <td>Corporate</td>\n",
              "      <td>47.152343</td>\n",
              "    </tr>\n",
              "  </tbody>\n",
              "</table>\n",
              "</div>\n",
              "      <button class=\"colab-df-convert\" onclick=\"convertToInteractive('df-0b745481-a313-4cdb-8bf1-beea077b790f')\"\n",
              "              title=\"Convert this dataframe to an interactive table.\"\n",
              "              style=\"display:none;\">\n",
              "        \n",
              "  <svg xmlns=\"http://www.w3.org/2000/svg\" height=\"24px\"viewBox=\"0 0 24 24\"\n",
              "       width=\"24px\">\n",
              "    <path d=\"M0 0h24v24H0V0z\" fill=\"none\"/>\n",
              "    <path d=\"M18.56 5.44l.94 2.06.94-2.06 2.06-.94-2.06-.94-.94-2.06-.94 2.06-2.06.94zm-11 1L8.5 8.5l.94-2.06 2.06-.94-2.06-.94L8.5 2.5l-.94 2.06-2.06.94zm10 10l.94 2.06.94-2.06 2.06-.94-2.06-.94-.94-2.06-.94 2.06-2.06.94z\"/><path d=\"M17.41 7.96l-1.37-1.37c-.4-.4-.92-.59-1.43-.59-.52 0-1.04.2-1.43.59L10.3 9.45l-7.72 7.72c-.78.78-.78 2.05 0 2.83L4 21.41c.39.39.9.59 1.41.59.51 0 1.02-.2 1.41-.59l7.78-7.78 2.81-2.81c.8-.78.8-2.07 0-2.86zM5.41 20L4 18.59l7.72-7.72 1.47 1.35L5.41 20z\"/>\n",
              "  </svg>\n",
              "      </button>\n",
              "      \n",
              "  <style>\n",
              "    .colab-df-container {\n",
              "      display:flex;\n",
              "      flex-wrap:wrap;\n",
              "      gap: 12px;\n",
              "    }\n",
              "\n",
              "    .colab-df-convert {\n",
              "      background-color: #E8F0FE;\n",
              "      border: none;\n",
              "      border-radius: 50%;\n",
              "      cursor: pointer;\n",
              "      display: none;\n",
              "      fill: #1967D2;\n",
              "      height: 32px;\n",
              "      padding: 0 0 0 0;\n",
              "      width: 32px;\n",
              "    }\n",
              "\n",
              "    .colab-df-convert:hover {\n",
              "      background-color: #E2EBFA;\n",
              "      box-shadow: 0px 1px 2px rgba(60, 64, 67, 0.3), 0px 1px 3px 1px rgba(60, 64, 67, 0.15);\n",
              "      fill: #174EA6;\n",
              "    }\n",
              "\n",
              "    [theme=dark] .colab-df-convert {\n",
              "      background-color: #3B4455;\n",
              "      fill: #D2E3FC;\n",
              "    }\n",
              "\n",
              "    [theme=dark] .colab-df-convert:hover {\n",
              "      background-color: #434B5C;\n",
              "      box-shadow: 0px 1px 3px 1px rgba(0, 0, 0, 0.15);\n",
              "      filter: drop-shadow(0px 1px 2px rgba(0, 0, 0, 0.3));\n",
              "      fill: #FFFFFF;\n",
              "    }\n",
              "  </style>\n",
              "\n",
              "      <script>\n",
              "        const buttonEl =\n",
              "          document.querySelector('#df-0b745481-a313-4cdb-8bf1-beea077b790f button.colab-df-convert');\n",
              "        buttonEl.style.display =\n",
              "          google.colab.kernel.accessAllowed ? 'block' : 'none';\n",
              "\n",
              "        async function convertToInteractive(key) {\n",
              "          const element = document.querySelector('#df-0b745481-a313-4cdb-8bf1-beea077b790f');\n",
              "          const dataTable =\n",
              "            await google.colab.kernel.invokeFunction('convertToInteractive',\n",
              "                                                     [key], {});\n",
              "          if (!dataTable) return;\n",
              "\n",
              "          const docLinkHtml = 'Like what you see? Visit the ' +\n",
              "            '<a target=\"_blank\" href=https://colab.research.google.com/notebooks/data_table.ipynb>data table notebook</a>'\n",
              "            + ' to learn more about interactive tables.';\n",
              "          element.innerHTML = '';\n",
              "          dataTable['output_type'] = 'display_data';\n",
              "          await google.colab.output.renderOutput(dataTable, element);\n",
              "          const docLink = document.createElement('div');\n",
              "          docLink.innerHTML = docLinkHtml;\n",
              "          element.appendChild(docLink);\n",
              "        }\n",
              "      </script>\n",
              "    </div>\n",
              "  </div>\n",
              "  "
            ]
          },
          "metadata": {},
          "execution_count": 18
        }
      ]
    },
    {
      "cell_type": "code",
      "source": [
        "sns.set()\n",
        "fig, ax = plt.subplots()\n",
        "ax = sns.countplot(y='EDUCATION_', data=df_accept)\n",
        "ax.set_title('образование')\n",
        "ax.set_ylabel('')\n",
        "ax.set(xlabel='Количество заявок на кредит')\n",
        "\n",
        "plt.show()"
      ],
      "metadata": {
        "id": "8mHT91f7tslq",
        "colab": {
          "base_uri": "https://localhost:8080/",
          "height": 550
        },
        "outputId": "5147b8eb-3af0-4198-9cfa-056947927372"
      },
      "execution_count": 19,
      "outputs": [
        {
          "output_type": "display_data",
          "data": {
            "text/plain": [
              "<Figure size 720x576 with 1 Axes>"
            ],
            "image/png": "[encoded data removed]"
          },
          "metadata": {}
        }
      ]
    },
    {
      "cell_type": "code",
      "source": [
        "# матрица корреляций\n",
        "correlations = df_accept.select_dtypes(include=['float64']).corr()\n",
        "plt.figure(figsize=(8, 8))\n",
        "sns.heatmap(correlations, square=True)\n",
        "\n",
        "plt.show()"
      ],
      "metadata": {
        "id": "jvLxQ_KotwhR",
        "colab": {
          "base_uri": "https://localhost:8080/",
          "height": 652
        },
        "outputId": "bef938b6-79f8-494e-9d51-0cc8324d1ab4"
      },
      "execution_count": 20,
      "outputs": [
        {
          "output_type": "display_data",
          "data": {
            "text/plain": [
              "<Figure size 576x576 with 2 Axes>"
            ],
            "image/png": "[encoded data removed]"
          },
          "metadata": {}
        }
      ]
    },
    {
      "cell_type": "markdown",
      "source": [
        "# Создание дополнительных переменных. Максимально - 1 балл\n",
        "\n",
        "Будьте креативными, чем больше переменных, тем больше балл! При этом переменные должны быть логичными, нелогичные переменные не принимаются\n",
        "\n",
        "- 0 баллов, если задание не выполнено\n",
        "- 0.5 баллов - создана 2 дополнительные переменные \n",
        "- 1 балл создано больше 3 переменных \n"
      ],
      "metadata": {
        "id": "qLMBn4l4oCUF"
      }
    },
    {
      "cell_type": "code",
      "source": [
        "# преобразование WOE\n",
        "def calculate_iv(dataset, feature, target):\n",
        "    lst = []\n",
        "    for i in range(dataset[feature].nunique()):\n",
        "        val = list(dataset[feature].unique())[i]\n",
        "        lst.append({\n",
        "            'Value': val,\n",
        "            'All': dataset[dataset[feature] == val].count()[feature],\n",
        "            'Good': dataset[(dataset[feature] == val) & (dataset[target] == 0)].count()[feature],\n",
        "            'Bad': dataset[(dataset[feature] == val) & (dataset[target] == 1)].count()[feature]\n",
        "        })\n",
        "        \n",
        "    dset = pd.DataFrame(lst)\n",
        "    dset['Distr_Good'] = dset['Good'] / dset['Good'].sum()\n",
        "    dset['Distr_Bad'] = dset['Bad'] / dset['Bad'].sum()\n",
        "    dset['WoE'] = np.log(dset['Distr_Good'] / dset['Distr_Bad'])\n",
        "    dset = dset.replace({'WoE': {np.inf: 0, -np.inf: 0}})\n",
        "    dset['IV'] = (dset['Distr_Good'] - dset['Distr_Bad']) * dset['WoE']\n",
        "    iv = dset['IV'].sum()\n",
        "    \n",
        "    return iv"
      ],
      "metadata": {
        "id": "x61ggZPaqm_Q"
      },
      "execution_count": 21,
      "outputs": []
    },
    {
      "cell_type": "code",
      "source": [
        "def calculate_woe(dataset, feature, target):\n",
        "    lst = []\n",
        "    for i in range(dataset[feature].nunique()):\n",
        "        val = list(dataset[feature].unique())[i]\n",
        "        lst.append({\n",
        "            'Value': val,\n",
        "            'All': dataset[dataset[feature] == val].count()[feature],\n",
        "            'Good': dataset[(dataset[feature] == val) & (dataset[target] == 0)].count()[feature],\n",
        "            'Bad': dataset[(dataset[feature] == val) & (dataset[target] == 1)].count()[feature]\n",
        "        })\n",
        "        \n",
        "    dset = pd.DataFrame(lst)\n",
        "    dset['Distr_Good'] = dset['Good'] / dset['Good'].sum()\n",
        "    dset['Distr_Bad'] = dset['Bad'] / dset['Bad'].sum()\n",
        "    dset['WoE'] = np.log(dset['Distr_Good'] / dset['Distr_Bad'])\n",
        "    dset = dset.replace({'WoE': {np.inf: 0, -np.inf: 0}})\n",
        "    dset['IV'] = (dset['Distr_Good'] - dset['Distr_Bad']) * dset['WoE']\n",
        "    iv = dset['IV'].sum()\n",
        "    dset = dset.sort_values(by='WoE')\n",
        "    \n",
        "    return dset"
      ],
      "metadata": {
        "id": "RnI9eabQlWGf"
      },
      "execution_count": 22,
      "outputs": []
    },
    {
      "cell_type": "code",
      "source": [
        "# преобразование WOE\n",
        "def calculate_woe_iv(dataset, feature, target):\n",
        "    lst = []\n",
        "    for i in range(dataset[feature].nunique()):\n",
        "        val = list(dataset[feature].unique())[i]\n",
        "        lst.append({\n",
        "            'Value': val,\n",
        "            'All': dataset[dataset[feature] == val].count()[feature],\n",
        "            'Good': dataset[(dataset[feature] == val) & (dataset[target] == 0)].count()[feature],\n",
        "            'Bad': dataset[(dataset[feature] == val) & (dataset[target] == 1)].count()[feature]\n",
        "        })\n",
        "        \n",
        "    dset = pd.DataFrame(lst)\n",
        "    dset['Distr_Good'] = dset['Good'] / dset['Good'].sum()\n",
        "    dset['Distr_Bad'] = dset['Bad'] / dset['Bad'].sum()\n",
        "    dset['WoE'] = np.log(dset['Distr_Good'] / dset['Distr_Bad'])\n",
        "    dset = dset.replace({'WoE': {np.inf: 0, -np.inf: 0}})\n",
        "    dset['IV'] = (dset['Distr_Good'] - dset['Distr_Bad']) * dset['WoE']\n",
        "    iv = dset['IV'].sum()\n",
        "    \n",
        "    dset = dset.sort_values(by='WoE')\n",
        "    \n",
        "    return dset, iv"
      ],
      "metadata": {
        "id": "y4BDCC8klWLG"
      },
      "execution_count": 23,
      "outputs": []
    },
    {
      "cell_type": "code",
      "source": [
        "# делим интервальные переменные на бины\n",
        "for feature in numeric_columns_r:\n",
        "    df_accept[feature + '_bin'] = pd.qcut(df_accept[feature], 5, duplicates='drop')\n",
        "    df_accept[feature + '_bin'] = df_accept[feature + '_bin'].cat.add_categories(\"0-0\").fillna(\"0-0\")\n",
        "\n",
        "for feature in numeric_columns_r:\n",
        "    df_accept[feature] = df_accept[feature].fillna(\"0-0\") "
      ],
      "metadata": {
        "id": "zMZuozrUlWQg"
      },
      "execution_count": 24,
      "outputs": []
    },
    {
      "cell_type": "markdown",
      "metadata": {
        "id": "dLgsHhPCYJLK"
      },
      "source": [
        "# Построение модели на одобренных заявках. Максимально - 4 балла\n",
        "Необхоимо построить логистическую регрессию на WoE переменных. \n",
        "\n",
        "Если построена любая другая модель, балл = 0"
      ]
    },
    {
      "cell_type": "code",
      "source": [
        "# Помним про разбиение данных на тест и трейн\n",
        "from sklearn.model_selection import train_test_split\n",
        "train, test, y_train, y_test = train_test_split(df_accept, \n",
        "                                                df_accept['target'],\n",
        "                                                test_size=0.2, \n",
        "                                                random_state=42, \n",
        "                                                stratify=(df_accept['target']))"
      ],
      "metadata": {
        "id": "tLbc0tssuWM-"
      },
      "execution_count": 25,
      "outputs": []
    },
    {
      "cell_type": "markdown",
      "source": [
        "Необходимо расчитать WoE преобразование - максимально - 3 балла\n",
        "\n",
        "\n",
        "\n",
        "Расчет WoE должен быть в 2 этапа:\n",
        "\n",
        "1 шаг. Fine Classing (1 балл). Разбиение на большое количество бинов(интервалов)\n",
        "  - обычно интервальные переменные делят по  20, 30 и так далее интервалов\n",
        "  - для категориальных переменных - одна категория - одна группа\n",
        "  - далее для каждой группы рассчитываем WoE\n",
        "\n",
        "2 шаг. Coarse classing (2 балла). Укрупнение интервалов, которые получены на 1-ом шаге. В итоге должно получится не больше 5-10 интервалов. \n",
        "  - Обычно объединяют группы с похожими значениями WoE \n",
        "  - WoE должен быть монотонным, то есть после вашего объединения результат должен быть интерпретируемым (необходимо продемонстрировать графически, что WoE монотонен )\n",
        "\n"
      ],
      "metadata": {
        "id": "moF8yQ5Yrge5"
      }
    },
    {
      "cell_type": "code",
      "execution_count": 26,
      "metadata": {
        "ExecuteTime": {
          "end_time": "2020-10-15T12:35:40.235256Z",
          "start_time": "2020-10-15T12:35:40.226211Z"
        },
        "pycharm": {
          "is_executing": true
        },
        "id": "UMmiEzvVYJLK"
      },
      "outputs": [],
      "source": [
        "scorecard = pd.DataFrame()"
      ]
    },
    {
      "cell_type": "code",
      "source": [
        "# WOE - преобразование + IV для предыдущего вопроса\n",
        "for feature in numeric_columns_r:\n",
        "    df, iv = calculate_woe_iv(train, feature + '_bin', 'target')\n",
        "    df['feature'] = feature\n",
        "    train = train.merge(df[['Value', 'WoE']], how='inner', left_on=feature + '_bin', right_on='Value' )\n",
        "    train = train.rename(columns={'WoE':'WoE'+'_'+feature})\n",
        "    train = train.drop(columns = [feature, feature + '_bin', 'Value'])\n",
        "    test = test.merge(df[['Value', 'WoE']], how='inner', left_on=feature + '_bin', right_on='Value' )\n",
        "    test = test.rename(columns={'WoE':'WoE'+'_'+feature})\n",
        "    test = test.drop(columns = [feature, feature + '_bin', 'Value'])\n",
        "    scorecard = pd.concat([scorecard, df[['feature', 'Value', 'WoE']]])    \n",
        "    \n",
        "    print('feature', feature, 'IV =',iv)"
      ],
      "metadata": {
        "colab": {
          "base_uri": "https://localhost:8080/"
        },
        "id": "YBYZqDr8ltA8",
        "outputId": "d338bb17-47fd-4aed-ce3e-121bb4fb2a1e"
      },
      "execution_count": 27,
      "outputs": [
        {
          "output_type": "stream",
          "name": "stdout",
          "text": [
            "feature income IV = 0.11913341711188855\n",
            "feature DEPENDANT_NUMBER IV = 0.36126520135703916\n",
            "feature IS_EMPL IV = 0.0\n",
            "feature COUNT_ACTIVE_CREDIT_NO_CC IV = 0.11391611667523456\n",
            "feature CNT_MNTH_FROM_LAST_PMNT IV = 0.11084907225149529\n",
            "feature age IV = 0.007853004549521248\n",
            "feature experience IV = 0.48630993405066264\n",
            "feature inquiry_14_day IV = 0.13591538228152636\n",
            "feature inquiry_21_day IV = 0.13106722063919957\n",
            "feature count_mnth_act_passport IV = 0.03777099452446936\n",
            "feature UID IV = 0.05013085779153364\n"
          ]
        }
      ]
    },
    {
      "cell_type": "code",
      "source": [
        "# WOE - преобразование + IV для предыдущего вопроса\n",
        "for feature in categorical_columns_r:\n",
        "    df, iv = calculate_woe_iv(train, feature , 'target')\n",
        "    df['feature'] = feature\n",
        "    train = train.merge(df[['Value', 'WoE']], how='inner', left_on=feature, right_on='Value' )\n",
        "    train = train.rename(columns={'WoE':'WoE'+'_'+feature})\n",
        "    train = train.drop(columns = [feature, 'Value'])\n",
        "    test = test.merge(df[['Value', 'WoE']], how='inner', left_on=feature, right_on='Value' )\n",
        "    test = test.rename(columns={'WoE':'WoE'+'_'+feature})\n",
        "    test = test.drop(columns = [feature, 'Value'])\n",
        "    scorecard = pd.concat([scorecard, df[['feature', 'Value', 'WoE']]])\n",
        "   \n",
        "    print('feature', feature, 'IV =',iv)"
      ],
      "metadata": {
        "colab": {
          "base_uri": "https://localhost:8080/"
        },
        "id": "0gt9-Fs1ltDe",
        "outputId": "3300765b-86c3-411a-9f9c-b7e521469c6b"
      },
      "execution_count": 28,
      "outputs": [
        {
          "output_type": "stream",
          "name": "stdout",
          "text": [
            "feature INCOME_TYPE IV = 0.014159279223568546\n",
            "feature EDUCATION_ IV = 0.024940573762550818\n",
            "feature CUSTOMER_CATEGORY_ IV = 0.0\n"
          ]
        }
      ]
    },
    {
      "cell_type": "code",
      "source": [
        "# матрица корреляций для корреляционного анализа\n",
        "correlations_woe = train.select_dtypes(include=['float64']).corr()\n",
        "plt.figure(figsize=(8, 8))\n",
        "sns.heatmap(correlations_woe, cmap = \"vlag\")\n",
        "plt.show()"
      ],
      "metadata": {
        "colab": {
          "base_uri": "https://localhost:8080/",
          "height": 714
        },
        "id": "d6dTKOeyltGY",
        "outputId": "c71b28f0-4c84-4c4d-f8d9-9eb1ca608f53"
      },
      "execution_count": 29,
      "outputs": [
        {
          "output_type": "display_data",
          "data": {
            "text/plain": [
              "<Figure size 576x576 with 2 Axes>"
            ],
            "image/png": "[encoded data removed]"
          },
          "metadata": {}
        }
      ]
    },
    {
      "cell_type": "code",
      "source": [
        "features = test.columns.tolist()\n",
        "# не предикторы\n",
        "features.remove('target')\n",
        "\n",
        "# исключаем, так как IV<0.02\n",
        "features.remove('WoE_age')\n",
        "features.remove('WoE_INCOME_TYPE')\n",
        "features.remove('WoE_CUSTOMER_CATEGORY_')\n",
        "\n",
        "# исключим inquiry_14_day, так inquiry_14_day коррелирует с inquiry_21_day,\n",
        "# при этом IV у inquiry_21_day выше\n",
        "features.remove('WoE_inquiry_14_day')\n",
        "\n",
        "features"
      ],
      "metadata": {
        "colab": {
          "base_uri": "https://localhost:8080/"
        },
        "id": "i3YDvDjbltJ7",
        "outputId": "06879376-f484-4912-cd2f-856ec1a0638c"
      },
      "execution_count": 30,
      "outputs": [
        {
          "output_type": "execute_result",
          "data": {
            "text/plain": [
              "['WoE_income',\n",
              " 'WoE_DEPENDANT_NUMBER',\n",
              " 'WoE_IS_EMPL',\n",
              " 'WoE_COUNT_ACTIVE_CREDIT_NO_CC',\n",
              " 'WoE_CNT_MNTH_FROM_LAST_PMNT',\n",
              " 'WoE_experience',\n",
              " 'WoE_inquiry_21_day',\n",
              " 'WoE_count_mnth_act_passport',\n",
              " 'WoE_UID',\n",
              " 'WoE_EDUCATION_']"
            ]
          },
          "metadata": {},
          "execution_count": 30
        }
      ]
    },
    {
      "cell_type": "markdown",
      "source": [
        "построение и оценка логистической регресии - максимально 1 балл\n",
        "- построена только логистическая регрессия - 0.3 балла\n",
        "- сделана оценка модели ( roc auc, f1, и так далее) - 0.3 балла\n",
        "- построена скоркарта - 0.4 балла\n",
        "\n",
        "Напомню, что для скоркарты нужны следующие формулы (детали в лекции и семинаре)\n",
        "\n",
        "Score_i =  (βi × WoE_i + α/n) × Factor + Offset/n, где\n",
        "\n",
        "- Factor = pdo/ln(2)\n",
        "\n",
        "- Offset = Target Score — (Factor × ln(Target Odds))"
      ],
      "metadata": {
        "id": "a_gU5MsDtlfU"
      }
    },
    {
      "cell_type": "code",
      "source": [
        "train = train.dropna()\n",
        "test = test.dropna()\n",
        "\n",
        "X_train = train[features]\n",
        "X_test = test[features]\n",
        "y_train = train['target']\n",
        "y_test = test['target']"
      ],
      "metadata": {
        "id": "P5j4JjOrmRzw"
      },
      "execution_count": 31,
      "outputs": []
    },
    {
      "cell_type": "code",
      "source": [
        "from sklearn.linear_model import LogisticRegression\n",
        "from sklearn import metrics\n",
        "\n",
        "logreg = LogisticRegression()\n",
        "logreg.fit(X_train, y_train)\n",
        "y_pred = logreg.predict(X_test)\n",
        "logreg.score(X_test, y_test)"
      ],
      "metadata": {
        "id": "KO1Tkg7k1Kq_",
        "colab": {
          "base_uri": "https://localhost:8080/"
        },
        "outputId": "9c66b09f-cf40-42a9-eea2-e06c1544b368"
      },
      "execution_count": 32,
      "outputs": [
        {
          "output_type": "execute_result",
          "data": {
            "text/plain": [
              "0.9943842759727236"
            ]
          },
          "metadata": {},
          "execution_count": 32
        }
      ]
    },
    {
      "cell_type": "code",
      "source": [
        "plt.rc(\"font\", size=14)\n",
        "logit_roc_auc = roc_auc_score(y_test, logreg.predict_proba(X_test)[:,1])\n",
        "fpr, tpr, thresholds = roc_curve(y_test, logreg.predict_proba(X_test)[:,1])\n",
        "logit_roc_auc_train = roc_auc_score(y_train, logreg.predict_proba(X_train)[:,1])\n",
        "fpr_train, tpr_train, thresholds_train = roc_curve(y_train, logreg.predict_proba(X_train)[:,1])\n",
        "\n",
        "plt.figure()\n",
        "plt.plot(fpr, tpr, label='Logistic Regression on test (area = %0.2f)' % logit_roc_auc)\n",
        "plt.plot(fpr_train, tpr_train, label='Logistic Regression on train (area = %0.2f)' % logit_roc_auc_train)\n",
        "plt.plot([0, 1], [0, 1],'r--')\n",
        "plt.xlabel('False Positive Rate')\n",
        "plt.ylabel('True Positive Rate')\n",
        "plt.title('Receiver operating characteristic')\n",
        "plt.legend(loc=\"lower right\")\n",
        "plt.savefig('Log_ROC')\n",
        "plt.show()"
      ],
      "metadata": {
        "colab": {
          "base_uri": "https://localhost:8080/",
          "height": 550
        },
        "id": "NJeJrLCjmYFa",
        "outputId": "8b8fb8dc-3846-4170-ad4a-b094e9cbaaf0"
      },
      "execution_count": 33,
      "outputs": [
        {
          "output_type": "display_data",
          "data": {
            "text/plain": [
              "<Figure size 720x576 with 1 Axes>"
            ],
            "image/png": "[encoded data removed]"
          },
          "metadata": {}
        }
      ]
    },
    {
      "cell_type": "code",
      "source": [
        "2*roc_auc_score(y_test, logreg.predict(X_test)) - 1"
      ],
      "metadata": {
        "colab": {
          "base_uri": "https://localhost:8080/"
        },
        "id": "wkVzRJVgmYIS",
        "outputId": "3ee5c7c9-a483-456d-bc1b-62c86d0ae70a"
      },
      "execution_count": 34,
      "outputs": [
        {
          "output_type": "execute_result",
          "data": {
            "text/plain": [
              "0.06666666666666665"
            ]
          },
          "metadata": {},
          "execution_count": 34
        }
      ]
    },
    {
      "cell_type": "code",
      "source": [
        "# рассчёт F1\n",
        "f1_score(y_test, logreg.predict(X_test), zero_division=1)"
      ],
      "metadata": {
        "colab": {
          "base_uri": "https://localhost:8080/"
        },
        "id": "HNoi0FwJmYLu",
        "outputId": "d9b6d4f6-84c7-443d-dad1-590d98a48ca9"
      },
      "execution_count": 35,
      "outputs": [
        {
          "output_type": "execute_result",
          "data": {
            "text/plain": [
              "0.125"
            ]
          },
          "metadata": {},
          "execution_count": 35
        }
      ]
    },
    {
      "cell_type": "code",
      "source": [
        "# смотрим коэффициенты и биас\n",
        "print(logreg.coef_, logreg.intercept_)"
      ],
      "metadata": {
        "colab": {
          "base_uri": "https://localhost:8080/"
        },
        "id": "_X2S8C3HmYVw",
        "outputId": "fa7eb66c-747b-4bf9-cc66-0a48da41c21f"
      },
      "execution_count": 36,
      "outputs": [
        {
          "output_type": "stream",
          "name": "stdout",
          "text": [
            "[[-0.90040042 -0.7418072   0.         -0.98392376 -0.23551352 -0.25517921\n",
            "  -0.85412652 -0.95175391 -1.30220791 -1.56132215]] [-5.10099525]\n"
          ]
        }
      ]
    },
    {
      "cell_type": "markdown",
      "source": [
        "# Reject Inference (Анализ отклоненных заявок). Максимально -  3 балла\n",
        "- проведен анализ отклоненых заявок и сравнение с одобренными заявками - 0.2 балла\n",
        "- проведена разметка отклоненных заявок одним методом (метод можно взять либо из семинара/лекции или любой другой логичный метод, просто всем ставить 1 - нельзя) - 1 балл\n",
        "- построена общая логистическая регрессия с WoE переменными на одобренных и отказанных заявках - 1 балл\n",
        "- построена скоркарта - 0.3 балла\n",
        "- сделан вывод и даны рекомендации какую модель внедрять в продакшен среду 0.3 балла\n",
        "- даны рекомендации как реализовать мониторинг модели после внедрения в продакшен 0.2 балла"
      ],
      "metadata": {
        "id": "Qx4DuBocvS9T"
      }
    },
    {
      "cell_type": "code",
      "source": [
        "# чтение данных заново\n",
        "df_accept = pd.read_csv('accept.csv')\n",
        "df_reject = pd.read_csv('reject.csv')\n",
        "df_reject['target'] = np.nan\n",
        "\n",
        "# объединяем всё в один датафрейм, чтобы посчитать WOE на всей выборке\n",
        "df = pd.concat([df_accept, df_reject])"
      ],
      "metadata": {
        "id": "JmbXZxHMysqF"
      },
      "execution_count": 64,
      "outputs": []
    },
    {
      "cell_type": "code",
      "source": [
        "# делим интервальные переменные на бины\n",
        "for feature in numeric_columns_r:\n",
        "    df[feature + '_bin'] = pd.qcut(df[feature], 5, duplicates='drop')\n",
        "    df[feature + '_bin'] = df[feature + '_bin'].cat.add_categories(\"0-0\").fillna(\"0-0\")\n",
        "\n",
        "for feature in numeric_columns_r:\n",
        "    df[feature] = df[feature].fillna(\"0-0\") \n",
        "    \n",
        "for feature in numeric_columns_r:\n",
        "    df[feature] = df[feature].fillna(\"0-0\") "
      ],
      "metadata": {
        "id": "kh_pSHRamlbw"
      },
      "execution_count": 65,
      "outputs": []
    },
    {
      "cell_type": "code",
      "source": [
        "# разделяем датафрейм обратно\n",
        "df_reject = df[df['target'].isna()]\n",
        "df_accept = df[df['target'].notna()]"
      ],
      "metadata": {
        "id": "xyHG6o0vmleV"
      },
      "execution_count": 66,
      "outputs": []
    },
    {
      "cell_type": "code",
      "source": [
        "for feature in numeric_columns_r:\n",
        "    df, iv = calculate_woe_iv(df_accept, feature + '_bin', 'target')\n",
        "    df['feature'] = feature\n",
        "    df_accept = df_accept.merge(df[['Value', 'WoE']], how='inner', left_on=feature + '_bin', right_on='Value' )\n",
        "    df_accept = df_accept.rename(columns={'WoE':'WoE'+'_'+feature})\n",
        "    df_accept = df_accept.drop(columns = [feature, feature + '_bin', 'Value'])\n",
        "    \n",
        "    df_reject = df_reject.merge(df[['Value', 'WoE']], how='outer', left_on=feature, right_on='Value' )\n",
        "    df_reject = df_reject.rename(columns={'WoE':'WoE'+'_'+feature})\n",
        "    df_reject = df_reject.drop(columns = [feature, 'Value'])"
      ],
      "metadata": {
        "id": "ZHPEwsKamlhe"
      },
      "execution_count": 67,
      "outputs": []
    },
    {
      "cell_type": "code",
      "source": [
        "for feature in categorical_columns_r:\n",
        "    df, iv = calculate_woe_iv(df_accept, feature , 'target')\n",
        "    df['feature'] = feature\n",
        "    df_accept = df_accept.merge(df[['Value', 'WoE']], how='inner', left_on=feature, right_on='Value' )\n",
        "    df_accept = df_accept.rename(columns={'WoE':'WoE'+'_'+feature})\n",
        "    df_accept = df_accept.drop(columns = [feature, 'Value'])\n",
        "    \n",
        "    df_reject = df_reject.merge(df[['Value', 'WoE']], how='inner', left_on=feature, right_on='Value' )\n",
        "    df_reject = df_reject.rename(columns={'WoE':'WoE'+'_'+feature})\n",
        "    df_reject = df_reject.drop(columns = [feature, 'Value'])"
      ],
      "metadata": {
        "id": "r03fQK4Emlj5"
      },
      "execution_count": 68,
      "outputs": []
    },
    {
      "cell_type": "code",
      "source": [
        "features = test.columns.tolist()\n",
        "\n",
        "# не предикторы\n",
        "features.remove('target')\n",
        "\n",
        "# исключаем, так как низкий IV\n",
        "features.remove('WoE_age')\n",
        "features.remove('WoE_INCOME_TYPE')\n",
        "features.remove('WoE_CUSTOMER_CATEGORY_')\n",
        "features.remove('WoE_income')\n",
        "\n",
        "# исключим inquiry_14_day, так inquiry_14_day коррелирует с inquiry_21_day,\n",
        "# при этом IV у inquiry_21_day выше\n",
        "features.remove('WoE_inquiry_14_day')\n",
        "\n",
        "features = [\n",
        " 'WoE_EDUCATION_',\n",
        " 'WoE_IS_EMPL',\n",
        " 'WoE_COUNT_ACTIVE_CREDIT_NO_CC',\n",
        " 'WoE_inquiry_21_day']"
      ],
      "metadata": {
        "id": "x_ipMiPUmy9R"
      },
      "execution_count": 69,
      "outputs": []
    },
    {
      "cell_type": "code",
      "source": [
        "# заполняем пустые значения\n",
        "df_reject = df_reject.replace(np.nan, 0)"
      ],
      "metadata": {
        "id": "EAzE-q4Fmy_0"
      },
      "execution_count": 70,
      "outputs": []
    },
    {
      "cell_type": "code",
      "source": [
        "# логистическая регрессия\n",
        "df_accept = df_accept.dropna()\n",
        "logreg = LogisticRegression()\n",
        "logreg.fit(df_accept[features], df_accept['target'])\n",
        "df_reject_target = logreg.predict(df_reject[features])"
      ],
      "metadata": {
        "id": "XqLoI4TymzD7"
      },
      "execution_count": 71,
      "outputs": []
    },
    {
      "cell_type": "code",
      "source": [
        "df_reject_target = np.append(df_reject_target, np.zeros(11))"
      ],
      "metadata": {
        "id": "5PJ3_CuZm8gd"
      },
      "execution_count": 72,
      "outputs": []
    },
    {
      "cell_type": "markdown",
      "source": [
        "Теперь на общих данных"
      ],
      "metadata": {
        "id": "Fr0FqpbXp0Lm"
      }
    },
    {
      "cell_type": "code",
      "source": [
        "# опять считываем данные и объединяем в один датафрейм\n",
        "df_reject = pd.read_csv('reject.csv')\n",
        "df_accept = pd.read_csv('accept.csv')\n",
        "df_reject['target'] = df_reject_target\n",
        "\n",
        "df = pd.concat([df_accept, df_reject])"
      ],
      "metadata": {
        "id": "6vzv03phm8i6"
      },
      "execution_count": 74,
      "outputs": []
    },
    {
      "cell_type": "code",
      "source": [
        "# делим интервальные переменные на бины\n",
        "for feature in numeric_columns_r:\n",
        "    df[feature + '_bin'] = pd.qcut(df[feature], 5, duplicates='drop')\n",
        "    df[feature + '_bin'] = df[feature + '_bin'].cat.add_categories(\"0-0\").fillna(\"0-0\")\n",
        "\n",
        "for feature in numeric_columns_r:\n",
        "    df[feature] = df[feature].fillna(\"0-0\") "
      ],
      "metadata": {
        "id": "uX_wRP0-m8l2"
      },
      "execution_count": 75,
      "outputs": []
    },
    {
      "cell_type": "code",
      "source": [
        "# разделим на трейн и тест выборку \n",
        "train, test = train_test_split(df,\n",
        "                                test_size=0.3,\n",
        "                                random_state=17)"
      ],
      "metadata": {
        "id": "9WkEaBncp6kp"
      },
      "execution_count": 76,
      "outputs": []
    },
    {
      "cell_type": "code",
      "source": [
        "for feature in numeric_columns_r:\n",
        "    df1, iv = calculate_woe_iv(train, feature + '_bin', 'target')\n",
        "    df1['feature'] = feature\n",
        "    train = train.merge(df1[['Value', 'WoE']], how='inner', left_on=feature + '_bin', right_on='Value' )\n",
        "    train = train.rename(columns={'WoE':'WoE'+'_'+feature})\n",
        "    train = train.drop(columns = [feature, feature + '_bin', 'Value'])\n",
        "    test = test.merge(df1[['Value', 'WoE']], how='inner', left_on=feature + '_bin', right_on='Value' )\n",
        "    test = test.rename(columns={'WoE':'WoE'+'_'+feature})\n",
        "    test = test.drop(columns = [feature, feature + '_bin', 'Value'])\n",
        "    scorecard = pd.concat([scorecard, df1[['feature', 'Value', 'WoE']]])\n",
        "    \n",
        "    print('feature', feature, 'IV =',iv)"
      ],
      "metadata": {
        "colab": {
          "base_uri": "https://localhost:8080/"
        },
        "id": "kQIiOFJxp6nY",
        "outputId": "0e414ac2-1da7-4b24-9e69-fae3353bd854"
      },
      "execution_count": 77,
      "outputs": [
        {
          "output_type": "stream",
          "name": "stdout",
          "text": [
            "feature income IV = 0.14555606699728268\n",
            "feature DEPENDANT_NUMBER IV = 0.31185421555024984\n",
            "feature IS_EMPL IV = 0.0\n",
            "feature COUNT_ACTIVE_CREDIT_NO_CC IV = 0.0509080005419865\n",
            "feature CNT_MNTH_FROM_LAST_PMNT IV = 0.061035768005580256\n",
            "feature age IV = 0.05814256909502846\n",
            "feature experience IV = 0.3979254886002953\n",
            "feature inquiry_14_day IV = 0.09231906697094093\n",
            "feature inquiry_21_day IV = 0.09321461421158322\n",
            "feature count_mnth_act_passport IV = 0.12679884533472716\n",
            "feature UID IV = 0.028302310051882988\n"
          ]
        }
      ]
    },
    {
      "cell_type": "code",
      "source": [
        "for feature in categorical_columns_r:\n",
        "    df1, iv = calculate_woe_iv(train, feature , 'target')\n",
        "    df1['feature'] = feature\n",
        "    train = train.merge(df1[['Value', 'WoE']], how='inner', left_on=feature, right_on='Value' )\n",
        "    train = train.rename(columns={'WoE':'WoE'+'_'+feature})\n",
        "    train = train.drop(columns = [feature, 'Value'])\n",
        "    test = test.merge(df1[['Value', 'WoE']], how='inner', left_on=feature, right_on='Value' )\n",
        "    test = test.rename(columns={'WoE':'WoE'+'_'+feature})\n",
        "    test = test.drop(columns = [feature, 'Value'])\n",
        "    scorecard = pd.concat([scorecard, df1[['feature', 'Value', 'WoE']]])\n",
        "   \n",
        "    print('feature', feature, 'IV =',iv)"
      ],
      "metadata": {
        "colab": {
          "base_uri": "https://localhost:8080/"
        },
        "id": "nfXY_soBp6p7",
        "outputId": "4789d669-34d3-4477-cf8e-fa1282c72a1b"
      },
      "execution_count": 78,
      "outputs": [
        {
          "output_type": "stream",
          "name": "stdout",
          "text": [
            "feature INCOME_TYPE IV = 0.022411281776306254\n",
            "feature EDUCATION_ IV = 0.017790864007219773\n",
            "feature CUSTOMER_CATEGORY_ IV = 0.0\n"
          ]
        }
      ]
    },
    {
      "cell_type": "code",
      "source": [
        "features = test.columns.tolist()\n",
        "# не предикторы\n",
        "features.remove('target')\n",
        "\n",
        "# исключаем, так как низкий IV\n",
        "features.remove('WoE_INCOME_TYPE')\n",
        "features.remove('WoE_CUSTOMER_CATEGORY_')\n",
        "\n",
        "# исключим inquiry_14_day, так inquiry_14_day коррелирует с inquiry_21_day,\n",
        "# при этом IV у inquiry_21_day выше\n",
        "features.remove('WoE_inquiry_14_day')\n",
        "\n",
        "features"
      ],
      "metadata": {
        "colab": {
          "base_uri": "https://localhost:8080/"
        },
        "id": "387ORhtEp6sy",
        "outputId": "ac1f2f46-3f4b-4f12-d2fb-5b46228c543f"
      },
      "execution_count": 79,
      "outputs": [
        {
          "output_type": "execute_result",
          "data": {
            "text/plain": [
              "['WoE_income',\n",
              " 'WoE_DEPENDANT_NUMBER',\n",
              " 'WoE_IS_EMPL',\n",
              " 'WoE_COUNT_ACTIVE_CREDIT_NO_CC',\n",
              " 'WoE_CNT_MNTH_FROM_LAST_PMNT',\n",
              " 'WoE_age',\n",
              " 'WoE_experience',\n",
              " 'WoE_inquiry_21_day',\n",
              " 'WoE_count_mnth_act_passport',\n",
              " 'WoE_UID',\n",
              " 'WoE_EDUCATION_']"
            ]
          },
          "metadata": {},
          "execution_count": 79
        }
      ]
    },
    {
      "cell_type": "code",
      "source": [
        "# логистическая регрессия\n",
        "\n",
        "train = train.dropna()\n",
        "test = test.dropna()\n",
        "\n",
        "X_train = train[features]\n",
        "X_test = test[features]\n",
        "y_train = train['target']\n",
        "y_test = test['target']\n",
        "\n",
        "logreg = LogisticRegression()\n",
        "logreg.fit(X_train, y_train)\n",
        "\n",
        "y_pred = logreg.predict(X_test)\n",
        "\n",
        "# точность (то есть пропорция правильно определенных инстансов)\n",
        "logreg.score(X_test, y_test)"
      ],
      "metadata": {
        "colab": {
          "base_uri": "https://localhost:8080/"
        },
        "id": "9aAlBfjwp6vJ",
        "outputId": "f0a312ad-329f-4ee8-d72c-fc51fb039ddb"
      },
      "execution_count": 80,
      "outputs": [
        {
          "output_type": "execute_result",
          "data": {
            "text/plain": [
              "0.9956600361663652"
            ]
          },
          "metadata": {},
          "execution_count": 80
        }
      ]
    },
    {
      "cell_type": "code",
      "source": [
        "plt.rc(\"font\", size=14)\n",
        "\n",
        "logit_roc_auc = roc_auc_score(y_test, logreg.predict_proba(X_test)[:,1])\n",
        "fpr, tpr, thresholds = roc_curve(y_test, logreg.predict_proba(X_test)[:,1])\n",
        "logit_roc_auc_train = roc_auc_score(y_train, logreg.predict_proba(X_train)[:,1])\n",
        "fpr_train, tpr_train, thresholds_train = roc_curve(y_train, logreg.predict_proba(X_train)[:,1])\n",
        "\n",
        "plt.figure()\n",
        "plt.plot(fpr, tpr, label='Logistic Regression on test (area = %0.2f)' % logit_roc_auc)\n",
        "plt.plot(fpr_train, tpr_train, label='Logistic Regression on train (area = %0.2f)' % logit_roc_auc_train)\n",
        "plt.plot([0, 1], [0, 1],'r--')\n",
        "\n",
        "plt.xlabel('False Positive Rate')\n",
        "plt.ylabel('True Positive Rate')\n",
        "plt.title('Receiver operating characteristic')\n",
        "plt.legend(loc=\"lower right\")\n",
        "plt.savefig('Log_ROC')\n",
        "plt.show()"
      ],
      "metadata": {
        "colab": {
          "base_uri": "https://localhost:8080/",
          "height": 550
        },
        "id": "Ix6GiZ4yp6x5",
        "outputId": "d4b29846-5934-481f-9a93-76372bba9be1"
      },
      "execution_count": 81,
      "outputs": [
        {
          "output_type": "display_data",
          "data": {
            "text/plain": [
              "<Figure size 720x576 with 1 Axes>"
            ],
            "image/png": "[encoded data removed]"
          },
          "metadata": {}
        }
      ]
    },
    {
      "cell_type": "code",
      "source": [
        "# рассчёт GINI\n",
        "2*roc_auc_score(y_test, logreg.predict(X_test)) - 1"
      ],
      "metadata": {
        "colab": {
          "base_uri": "https://localhost:8080/"
        },
        "id": "nfHLpVXep60J",
        "outputId": "314b692a-f43e-4c5f-972e-078170aaea70"
      },
      "execution_count": 82,
      "outputs": [
        {
          "output_type": "execute_result",
          "data": {
            "text/plain": [
              "0.07692307692307687"
            ]
          },
          "metadata": {},
          "execution_count": 82
        }
      ]
    },
    {
      "cell_type": "code",
      "source": [
        "# рассчёт F1\n",
        "f1_score(y_test, logreg.predict(X_test), zero_division=1)"
      ],
      "metadata": {
        "colab": {
          "base_uri": "https://localhost:8080/"
        },
        "id": "ZOde9YLOm8n4",
        "outputId": "5be3c888-faa5-4eb0-cca5-8901fe251054"
      },
      "execution_count": 83,
      "outputs": [
        {
          "output_type": "execute_result",
          "data": {
            "text/plain": [
              "0.14285714285714288"
            ]
          },
          "metadata": {},
          "execution_count": 83
        }
      ]
    },
    {
      "cell_type": "code",
      "source": [
        "# смотрим коэффициенты и биас новой моделич\n",
        "print(logreg.coef_, logreg.intercept_)"
      ],
      "metadata": {
        "colab": {
          "base_uri": "https://localhost:8080/"
        },
        "id": "TJ70_4vSqNcJ",
        "outputId": "25cacc22-d523-487a-e464-7623acf41e72"
      },
      "execution_count": 84,
      "outputs": [
        {
          "output_type": "stream",
          "name": "stdout",
          "text": [
            "[[-0.05794323 -0.99946375  0.         -0.86408702 -0.71831746 -1.50075122\n",
            "  -0.1326891  -1.11247434 -0.10473577 -1.29340142 -1.02593025]] [-5.77336413]\n"
          ]
        }
      ]
    },
    {
      "cell_type": "markdown",
      "source": [
        "Модель изменилась, метрики улучшились\n"
      ],
      "metadata": {
        "id": "WDGq53oeqOxD"
      }
    },
    {
      "cell_type": "markdown",
      "source": [
        "_Опционально, для тех , кто добрался до конца ноутбука_ 😊\n",
        "\n",
        "ваше впечатление от работы. \n",
        "Что было сложно? \n",
        "Что было интересно?"
      ],
      "metadata": {
        "id": "iHkEHf0lx78v"
      }
    }
  ],
  "metadata": {
    "kernelspec": {
      "display_name": "Python 3 (ipykernel)",
      "language": "python",
      "name": "python3"
    },
    "language_info": {
      "codemirror_mode": {
        "name": "ipython",
        "version": 3
      },
      "file_extension": ".py",
      "mimetype": "text/x-python",
      "name": "python",
      "nbconvert_exporter": "python",
      "pygments_lexer": "ipython3",
      "version": "3.8.2"
    },
    "colab": {
      "provenance": []
    }
  },
  "nbformat": 4,
  "nbformat_minor": 0
}
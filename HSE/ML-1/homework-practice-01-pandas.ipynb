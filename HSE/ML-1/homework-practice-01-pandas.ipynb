{
 "cells": [
  {
   "cell_type": "markdown",
   "metadata": {
    "id": "HcF9My_FhLuk"
   },
   "source": [
    "## Машинное обучение 1, ПМИ ФКН ВШЭ\n",
    "\n",
    "## Практическое домашнее задание 1\n",
    "\n",
    "### Общая информация\n",
    "\n",
    "Дата выдачи: 09.09.2022\n",
    "\n",
    "Мягкий дедлайн: 23:59MSK 22.09.2022\n",
    "\n",
    "Жесткий дедлайн: 23:59MSK 29.09.2022"
   ]
  },
  {
   "cell_type": "markdown",
   "metadata": {
    "id": "G64TptyJhLuo"
   },
   "source": [
    "### О задании\n",
    "\n",
    "Задание состоит из двух разделов, посвященных работе с табличными данными с помощью библиотеки pandas и визуализации с помощью matplotlib. В первом разделе вам предстоит выполнить базовые задания с помощью вышеуказанных библиотек, а во втором распределить студентов по курсам. Баллы даются за выполнение отдельных пунктов. Задачи в рамках одного раздела рекомендуется решать в том порядке, в котором они даны в задании.\n",
    "\n",
    "Задание направлено на освоение jupyter notebook (будет использоваться в дальнейших заданиях), библиотек pandas и matplotlib.\n",
    "\n",
    "### Оценивание и штрафы\n",
    "Каждая из задач имеет определенную «стоимость» (указана в скобках около задачи). Максимально допустимая оценка за работу — 10 баллов.\n",
    "\n",
    "Сдавать задание после жёсткого дедлайна нельзя. При выставлении неполного балла за задание в связи с наличием ошибок на усмотрение проверяющего предусмотрена возможность исправить работу на указанных в ответном письме условиях.\n",
    "\n",
    "Задание выполняется самостоятельно. «Похожие» решения считаются плагиатом и все задействованные студенты (в том числе те, у кого списали) не могут получить за него больше 0 баллов (подробнее о плагиате см. на странице курса). Если вы нашли решение какого-то из заданий (или его часть) в открытом источнике, необходимо указать ссылку на этот источник (скорее всего вы будете не единственным, кто это нашел, поэтому чтобы исключить подозрение в плагиате, необходима ссылка на источник).\n",
    "\n",
    "### Формат сдачи\n",
    "Задания сдаются через систему Anytask. Инвайт можно получить у семинариста или ассистента. Присылать необходимо ноутбук с выполненным заданием. Сам ноутбук называйте в формате homework-practice-01-pandas-Username.ipynb, где Username — ваша фамилия.\n",
    "\n",
    "Для удобства проверки самостоятельно посчитайте свою максимальную оценку (исходя из набора решенных задач) и укажите ниже.\n",
    "\n",
    "Оценка: 10."
   ]
  },
  {
   "cell_type": "markdown",
   "metadata": {
    "id": "BaXlfHE_hLup"
   },
   "source": [
    "## 0. Введение"
   ]
  },
  {
   "cell_type": "markdown",
   "metadata": {
    "id": "wirAvJNxhLup"
   },
   "source": [
    "Сейчас мы находимся в jupyter-ноутбуке (или ipython-ноутбуке). Это удобная среда для написания кода, проведения экспериментов, изучения данных, построения визуализаций и других нужд, не связанных с написанием production-кода. \n",
    "\n",
    "Ноутбук состоит из ячеек, каждая из которых может быть либо ячейкой с кодом, либо ячейкой с текстом размеченным и неразмеченным. Текст поддерживает markdown-разметку и формулы в Latex.\n",
    "\n",
    "Для работы с содержимым ячейки используется *режим редактирования* (*Edit mode*, включается нажатием клавиши **Enter** после выбора ячейки), а для навигации между ячейками искользуется *командный режим* (*Command mode*, включается нажатием клавиши **Esc**). Тип ячейки можно задать в командном режиме либо с помощью горячих клавиш (**y** to code, **m** to markdown, **r** to edit raw text), либо в меню *Cell -> Cell type*. \n",
    "\n",
    "После заполнения ячейки нужно нажать *Shift + Enter*, эта команда обработает содержимое ячейки: проинтерпретирует код или сверстает размеченный текст."
   ]
  },
  {
   "cell_type": "code",
   "execution_count": 1,
   "metadata": {
    "id": "aQ2_j3nkhLuq"
   },
   "outputs": [
    {
     "data": {
      "text/plain": [
       "4"
      ]
     },
     "execution_count": 1,
     "metadata": {},
     "output_type": "execute_result"
    }
   ],
   "source": [
    "# ячейка с кодом, при выполнении которой появится output\n",
    "2 + 2"
   ]
  },
  {
   "cell_type": "markdown",
   "metadata": {
    "id": "ZlulCwVKhLur"
   },
   "source": [
    "Ячейка с неразмеченыным текстом."
   ]
  },
  {
   "cell_type": "markdown",
   "metadata": {
    "id": "A4wkVlIehLur"
   },
   "source": [
    "Попробуйте создать свои ячейки, написать какой-нибудь код и текст какой-нибудь формулой."
   ]
  },
  {
   "cell_type": "markdown",
   "metadata": {},
   "source": [
    "$$\n",
    "\\frac{a+b}{X+Y} , x^4, e^{i\\pi} , X_i , Y_{ij}\\\\ \\sqrt[4]{5}\n",
    "$$"
   ]
  },
  {
   "cell_type": "code",
   "execution_count": 2,
   "metadata": {
    "id": "BIuaYSvqhLus"
   },
   "outputs": [
    {
     "name": "stdout",
     "output_type": "stream",
     "text": [
      "Hello World\n"
     ]
    }
   ],
   "source": [
    "print(\"Hello World\")"
   ]
  },
  {
   "cell_type": "markdown",
   "metadata": {
    "id": "iWs6ljrIhLus"
   },
   "source": [
    "[Здесь](https://athena.brynmawr.edu/jupyter/hub/dblank/public/Jupyter%20Notebook%20Users%20Manual.ipynb) находится <s>не</s>большая заметка о используемом языке разметки Markdown. Он позволяет:\n",
    "\n",
    "0. Составлять упорядоченные списки\n",
    "1. Выделять *текст* <s>при</s> **необходимости**\n",
    "2. Добавлять [ссылки](http://imgs.xkcd.com/comics/the_universal_label.png)\n",
    "\n",
    "\n",
    "* Составлять неупорядоченные списки\n",
    "\n",
    "Делать вставки с помощью LaTex:\n",
    "    \n",
    "$\n",
    "\\left\\{\n",
    "\\begin{array}{ll}\n",
    "x = 16 \\sin^3 (t) \\\\ \n",
    "y = 13 \\cos (t) - 5 \\cos (2t) - 2 \\cos (3t) - \\cos (4t) \\\\\n",
    "t \\in [0, 2 \\pi]\n",
    "\\end{array}\n",
    "\\right.$"
   ]
  },
  {
   "cell_type": "markdown",
   "metadata": {
    "id": "6fmTGcXOhLus"
   },
   "source": [
    "А ещё можно вставлять картинки, или гифки, или что захотите:\n",
    "\n",
    "<img src=\"https://media1.tenor.com/images/9b8fbe9214504bcf6c60fe4e4f7e114e/tenor.gif?itemid=5416416\" style=\"width: 400px\">"
   ]
  },
  {
   "cell_type": "markdown",
   "metadata": {
    "id": "J_toGw7DhLut"
   },
   "source": [
    "### Google Colab"
   ]
  },
  {
   "cell_type": "markdown",
   "metadata": {
    "id": "jpkbCVjGhLut"
   },
   "source": [
    "Что за колаб? \n",
    "\n",
    "**Google Colab (Colaboratory)** это **Jupyter Notebook + Cloud + Google Drive.**\n",
    "\n",
    "Компания Google предоставляет возможность бесплатно запускать ноутбуки (предварительно загрузив их на свой гугл-диск) прямо в облаке. При этом вам не требуется установка никаких пакетов на свою машину, а работать можно прямиком из браузера. Вот ссылка:"
   ]
  },
  {
   "cell_type": "markdown",
   "metadata": {
    "id": "06MQog3yhLut"
   },
   "source": [
    "https://colab.research.google.com"
   ]
  },
  {
   "cell_type": "markdown",
   "metadata": {
    "id": "5_hfWXKPhLut"
   },
   "source": [
    "При использовании вы увидете много сходств с jupyter ноутбуком. Одним из преимуществ является доступность GPU, соответствующую опцию можно активировать в настройках сервиса. При желании вы сможете найти в интернете много туториалов по использованию или разобраться самостоятельно =)"
   ]
  },
  {
   "cell_type": "markdown",
   "metadata": {
    "id": "sUe2vnFGhLuu"
   },
   "source": [
    "## 1. Табличные данные и Pandas"
   ]
  },
  {
   "cell_type": "markdown",
   "metadata": {
    "id": "DJQzjjqJhLuu"
   },
   "source": [
    "Pandas — удобная библиотека для работы с табличными данными в Python, если данных не слишком много и они помещаются в оперативную память вашего компьютера. Несмотря на неэффективность реализации и некоторые проблемы, библиотека стала стандартом в анализе данных.\n",
    "\n",
    "Основной объект в pandas — это DataFrame, представляющий собой таблицу с именованными колонками различных типов, индексом (может быть многоуровневым). DataFrame можно создавать, считывая таблицу из файла или задавая вручную из других объектов.\n",
    "\n",
    "В этой части потребуется выполнить несколько небольших заданий. Можно пойти двумя путями: сначала изучить материалы, а потом приступить к заданиям, или же разбираться \"по ходу\". Выбирайте сами.\n",
    "\n",
    "Материалы:\n",
    "1. [Pandas за 10 минут из официального руководства](http://pandas.pydata.org/pandas-docs/stable/10min.html)\n",
    "2. [Документация](http://pandas.pydata.org/pandas-docs/stable/index.html) (стоит обращаться, если не понятно, как вызывать конкретный метод)\n",
    "3. [Примеры использования функционала](http://nbviewer.jupyter.org/github/justmarkham/pandas-videos/blob/master/pandas.ipynb)\n",
    "\n",
    "Многие из заданий можно выполнить несколькими способами. Не существуют единственно верного, но попробуйте максимально задействовать арсенал pandas и ориентируйтесь на простоту и понятность вашего кода. Мы не будем подсказывать, что нужно использовать для решения конкретной задачи, попробуйте находить необходимый функционал сами (название метода чаще всего очевидно). В помощь вам документация, поиск и stackoverflow."
   ]
  },
  {
   "cell_type": "code",
   "execution_count": 3,
   "metadata": {
    "id": "26zbFY25hLuv",
    "outputId": "404c22c6-2696-48ab-c71e-7a3ffbc36b18"
   },
   "outputs": [
    {
     "name": "stdout",
     "output_type": "stream",
     "text": [
      "%pylab is deprecated, use %matplotlib inline and import the required libraries.\n",
      "Populating the interactive namespace from numpy and matplotlib\n"
     ]
    }
   ],
   "source": [
    "%pylab inline\n",
    "import pandas as pd"
   ]
  },
  {
   "cell_type": "markdown",
   "metadata": {},
   "source": [
    "<span style=\"color:red\">Перед выполнением задания необходимо ознакомиться с первым семинаром (seminars/sem01-pandas.ipynb) </span>.\n",
    "\n",
    "Это поможет вам получить общее понимание происходяшего и успешнее справиться с заданием.\n",
    "\n",
    "Также успешному выполнению способствует внимательное чтение текста задания от начала до конца.\n",
    "\n",
    "Удачи!"
   ]
  },
  {
   "cell_type": "markdown",
   "metadata": {
    "id": "dneJl9TyhLuv"
   },
   "source": [
    "Скачаем подготовленные на семинаре данные:"
   ]
  },
  {
   "cell_type": "code",
   "execution_count": 4,
   "metadata": {
    "id": "rj_I0RslhLuw"
   },
   "outputs": [],
   "source": [
    "!wget  -O 'end_seminar.xlsx' -q 'https://www.dropbox.com/s/f4rm8sjc3v99p0m/_end_seminar.xlsx?dl=0'"
   ]
  },
  {
   "cell_type": "markdown",
   "metadata": {
    "id": "5hp7bn_ThLuw"
   },
   "source": [
    "Для пользователей Windows: скачайте файл самостоятельно и поместите его в папку с тетрадкой. Или попробуйте один из следующих вариантов:"
   ]
  },
  {
   "cell_type": "code",
   "execution_count": 5,
   "metadata": {
    "id": "4h4_BaX8hLuw"
   },
   "outputs": [],
   "source": [
    "# !powershell iwr -outf somefile https://somesite/somefile"
   ]
  },
  {
   "cell_type": "code",
   "execution_count": 6,
   "metadata": {
    "id": "7bHroLGChLuw"
   },
   "outputs": [],
   "source": [
    "# !pip install wget\n",
    "# import wget \n",
    "# wget.download('https://dropbox.com/s/f4rm8sjc3v99p0m/_end_seminar.xlsx?dl=1', 'end_seminar.xlsx')"
   ]
  },
  {
   "cell_type": "markdown",
   "metadata": {
    "id": "VFs_6IythLux"
   },
   "source": [
    "##### В первой части задания (до раздела \"Распределение студентов по курсам\") использование циклов запрещается и повлечет за собой снижение оценки. Использование <code>vectorize</code> и  <code>apply</code>, <code>apply_along_axis</code> крайне нежелательно."
   ]
  },
  {
   "cell_type": "markdown",
   "metadata": {
    "id": "shFkfJkohLux"
   },
   "source": [
    "Для каждой задачи из этого раздела вы должны написать код для получения ответа, а также дать текстовый ответ, если он предполагается.\n",
    "\n",
    "На некоторые вопросы вы можете получить путём пристального взгляда на таблицу, но это не будет засчитываться. Вы в любом случае должны получить ответ с помощью кода."
   ]
  },
  {
   "cell_type": "markdown",
   "metadata": {
    "id": "gDD85M7bhLux"
   },
   "source": [
    "#### 1. [0 баллов] Откройте файл с таблицей (не забудьте про её формат). Выведите последние 10 строк.\n",
    "\n",
    "Посмотрите на данные и скажите, что они из себя представляют, сколько в таблице строк, какие столбцы? (на это не надо отвечать, просто подумайте об этом)"
   ]
  },
  {
   "cell_type": "code",
   "execution_count": 7,
   "metadata": {
    "id": "PKulur3LhLuy"
   },
   "outputs": [
    {
     "data": {
      "text/html": [
       "<div>\n",
       "<style scoped>\n",
       "    .dataframe tbody tr th:only-of-type {\n",
       "        vertical-align: middle;\n",
       "    }\n",
       "\n",
       "    .dataframe tbody tr th {\n",
       "        vertical-align: top;\n",
       "    }\n",
       "\n",
       "    .dataframe thead th {\n",
       "        text-align: right;\n",
       "    }\n",
       "</style>\n",
       "<table border=\"1\" class=\"dataframe\">\n",
       "  <thead>\n",
       "    <tr style=\"text-align: right;\">\n",
       "      <th></th>\n",
       "      <th>timestamp</th>\n",
       "      <th>id</th>\n",
       "      <th>rating</th>\n",
       "      <th>18_group</th>\n",
       "      <th>is_mi</th>\n",
       "      <th>fall_1</th>\n",
       "      <th>fall_2</th>\n",
       "      <th>fall_3</th>\n",
       "      <th>spring_1</th>\n",
       "      <th>spring_2</th>\n",
       "      <th>spring_3</th>\n",
       "      <th>is_first_time</th>\n",
       "      <th>percentile</th>\n",
       "      <th>17_group</th>\n",
       "      <th>blended</th>\n",
       "      <th>is_ml_student</th>\n",
       "    </tr>\n",
       "  </thead>\n",
       "  <tbody>\n",
       "    <tr>\n",
       "      <th>351</th>\n",
       "      <td>2020-05-18 23:58:33.903</td>\n",
       "      <td>8fe79f84f36e3a5d2d6745621321302c</td>\n",
       "      <td>1016</td>\n",
       "      <td>NaN</td>\n",
       "      <td>NaN</td>\n",
       "      <td>Безопасность компьютерных систем</td>\n",
       "      <td>Высокопроизводительные вычисления</td>\n",
       "      <td>Сбор и обработка данных с помощью краудсорсинга</td>\n",
       "      <td>Конфликты и кооперация</td>\n",
       "      <td>Проектирование и разработка высоконагруженных ...</td>\n",
       "      <td>Символьные вычисления</td>\n",
       "      <td>Да</td>\n",
       "      <td>0.942029</td>\n",
       "      <td>174.0</td>\n",
       "      <td>DevOps</td>\n",
       "      <td>NaN</td>\n",
       "    </tr>\n",
       "    <tr>\n",
       "      <th>352</th>\n",
       "      <td>2020-05-18 23:59:20.831</td>\n",
       "      <td>f93afd8e92c336b471aa3bbbc579aefe</td>\n",
       "      <td>1298</td>\n",
       "      <td>NaN</td>\n",
       "      <td>NaN</td>\n",
       "      <td>Высокопроизводительные вычисления</td>\n",
       "      <td>Сбор и обработка данных с помощью краудсорсинга</td>\n",
       "      <td>Statistical Learning Theory</td>\n",
       "      <td>Методы сжатия и передачи медиаданных</td>\n",
       "      <td>Проектирование и разработка высоконагруженных ...</td>\n",
       "      <td>Конфликты и кооперация</td>\n",
       "      <td>Да</td>\n",
       "      <td>0.057971</td>\n",
       "      <td>175.0</td>\n",
       "      <td>DevOps</td>\n",
       "      <td>NaN</td>\n",
       "    </tr>\n",
       "    <tr>\n",
       "      <th>353</th>\n",
       "      <td>2020-05-18 23:59:28.998</td>\n",
       "      <td>9963fc00d9405a35b894cc04a7e19855</td>\n",
       "      <td>1135</td>\n",
       "      <td>NaN</td>\n",
       "      <td>NaN</td>\n",
       "      <td>Безопасность компьютерных систем</td>\n",
       "      <td>Высокопроизводительные вычисления</td>\n",
       "      <td>Безопасность компьютерных систем</td>\n",
       "      <td>Проектирование и разработка высоконагруженных ...</td>\n",
       "      <td>Методы сжатия и передачи медиаданных</td>\n",
       "      <td>Символьные вычисления</td>\n",
       "      <td>Да</td>\n",
       "      <td>0.572464</td>\n",
       "      <td>175.0</td>\n",
       "      <td>DevOps</td>\n",
       "      <td>NaN</td>\n",
       "    </tr>\n",
       "    <tr>\n",
       "      <th>354</th>\n",
       "      <td>2020-05-19 08:55:39.509</td>\n",
       "      <td>98c5a2548d93f26bd4195466e93178b3</td>\n",
       "      <td>1035</td>\n",
       "      <td>NaN</td>\n",
       "      <td>NaN</td>\n",
       "      <td>Байесовские методы машинного обучения</td>\n",
       "      <td>Глубинное обучение в обработке звука</td>\n",
       "      <td>Statistical Learning Theory</td>\n",
       "      <td>Обучение с подкреплением</td>\n",
       "      <td>Генеративные модели в машинном обучении</td>\n",
       "      <td>Методы сжатия и передачи медиаданных</td>\n",
       "      <td>Нет</td>\n",
       "      <td>0.905797</td>\n",
       "      <td>171.0</td>\n",
       "      <td>DevOps</td>\n",
       "      <td>NaN</td>\n",
       "    </tr>\n",
       "    <tr>\n",
       "      <th>355</th>\n",
       "      <td>2020-05-19 18:58:06.283</td>\n",
       "      <td>ba298cbd9be59b84bab33325e956f27e</td>\n",
       "      <td>1155</td>\n",
       "      <td>NaN</td>\n",
       "      <td>NaN</td>\n",
       "      <td>Сбор и обработка данных с помощью краудсорсинга</td>\n",
       "      <td>Байесовские методы машинного обучения</td>\n",
       "      <td>Анализ неструктурированных данных</td>\n",
       "      <td>Конфликты и кооперация</td>\n",
       "      <td>Обучение с подкреплением</td>\n",
       "      <td>Компьютерное зрение</td>\n",
       "      <td>Да</td>\n",
       "      <td>0.507246</td>\n",
       "      <td>171.0</td>\n",
       "      <td>Соревновательный анализ данных</td>\n",
       "      <td>NaN</td>\n",
       "    </tr>\n",
       "    <tr>\n",
       "      <th>356</th>\n",
       "      <td>2020-05-19 19:04:17.873</td>\n",
       "      <td>c5870b37ee3f672e4259dfb2fc02ed8f</td>\n",
       "      <td>1029</td>\n",
       "      <td>NaN</td>\n",
       "      <td>NaN</td>\n",
       "      <td>Statistical Learning Theory</td>\n",
       "      <td>Анализ неструктурированных данных</td>\n",
       "      <td>Сбор и обработка данных с помощью краудсорсинга</td>\n",
       "      <td>Обучение с подкреплением</td>\n",
       "      <td>Конфликты и кооперация</td>\n",
       "      <td>Компьютерное зрение</td>\n",
       "      <td>Да</td>\n",
       "      <td>0.920290</td>\n",
       "      <td>174.0</td>\n",
       "      <td>DevOps</td>\n",
       "      <td>NaN</td>\n",
       "    </tr>\n",
       "    <tr>\n",
       "      <th>357</th>\n",
       "      <td>2020-05-19 20:19:25.815</td>\n",
       "      <td>f44aea1095f9f5b8e2f5f0ed2b17891b</td>\n",
       "      <td>1060</td>\n",
       "      <td>NaN</td>\n",
       "      <td>NaN</td>\n",
       "      <td>Анализ неструктурированных данных</td>\n",
       "      <td>Высокопроизводительные вычисления</td>\n",
       "      <td>Моделирование временных рядов</td>\n",
       "      <td>Конфликты и кооперация</td>\n",
       "      <td>Обучение с подкреплением</td>\n",
       "      <td>Численные методы</td>\n",
       "      <td>Да</td>\n",
       "      <td>0.840580</td>\n",
       "      <td>174.0</td>\n",
       "      <td>DevOps</td>\n",
       "      <td>NaN</td>\n",
       "    </tr>\n",
       "    <tr>\n",
       "      <th>358</th>\n",
       "      <td>2020-05-20 11:54:38.318</td>\n",
       "      <td>d7118b44c7e8fdbbaaca226d2da6fef1</td>\n",
       "      <td>1111</td>\n",
       "      <td>NaN</td>\n",
       "      <td>NaN</td>\n",
       "      <td>Сбор и обработка данных с помощью краудсорсинга</td>\n",
       "      <td>Statistical Learning Theory</td>\n",
       "      <td>Анализ неструктурированных данных</td>\n",
       "      <td>Проектирование и разработка высоконагруженных ...</td>\n",
       "      <td>Методы сжатия и передачи медиаданных</td>\n",
       "      <td>Численные методы</td>\n",
       "      <td>Да</td>\n",
       "      <td>0.652174</td>\n",
       "      <td>173.0</td>\n",
       "      <td>Соревновательный анализ данных</td>\n",
       "      <td>NaN</td>\n",
       "    </tr>\n",
       "    <tr>\n",
       "      <th>359</th>\n",
       "      <td>2020-05-23 21:16:40.916</td>\n",
       "      <td>79d14db48e4737af731960ae212d5134</td>\n",
       "      <td>966</td>\n",
       "      <td>NaN</td>\n",
       "      <td>NaN</td>\n",
       "      <td>Безопасность компьютерных систем</td>\n",
       "      <td>Принятие решений в условиях риска и неопределё...</td>\n",
       "      <td>Анализ неструктурированных данных</td>\n",
       "      <td>Проектирование и разработка высоконагруженных ...</td>\n",
       "      <td>Методы сжатия и передачи медиаданных</td>\n",
       "      <td>Компьютерное зрение</td>\n",
       "      <td>Да</td>\n",
       "      <td>0.985507</td>\n",
       "      <td>172.0</td>\n",
       "      <td>DevOps</td>\n",
       "      <td>NaN</td>\n",
       "    </tr>\n",
       "    <tr>\n",
       "      <th>360</th>\n",
       "      <td>2020-05-23 21:16:40.916</td>\n",
       "      <td>f2d210ace25a841e1e58036b257d5d47</td>\n",
       "      <td>1195</td>\n",
       "      <td>NaN</td>\n",
       "      <td>NaN</td>\n",
       "      <td>Анализ неструктурированных данных</td>\n",
       "      <td>Моделирование временных рядов</td>\n",
       "      <td>Высокопроизводительные вычисления</td>\n",
       "      <td>Обучение с подкреплением</td>\n",
       "      <td>Компьютерное зрение</td>\n",
       "      <td>Методы сжатия и передачи медиаданных</td>\n",
       "      <td>NaN</td>\n",
       "      <td>0.369565</td>\n",
       "      <td>176.0</td>\n",
       "      <td>Соревновательный анализ данных</td>\n",
       "      <td>NaN</td>\n",
       "    </tr>\n",
       "  </tbody>\n",
       "</table>\n",
       "</div>"
      ],
      "text/plain": [
       "                  timestamp                                id  rating  \\\n",
       "351 2020-05-18 23:58:33.903  8fe79f84f36e3a5d2d6745621321302c    1016   \n",
       "352 2020-05-18 23:59:20.831  f93afd8e92c336b471aa3bbbc579aefe    1298   \n",
       "353 2020-05-18 23:59:28.998  9963fc00d9405a35b894cc04a7e19855    1135   \n",
       "354 2020-05-19 08:55:39.509  98c5a2548d93f26bd4195466e93178b3    1035   \n",
       "355 2020-05-19 18:58:06.283  ba298cbd9be59b84bab33325e956f27e    1155   \n",
       "356 2020-05-19 19:04:17.873  c5870b37ee3f672e4259dfb2fc02ed8f    1029   \n",
       "357 2020-05-19 20:19:25.815  f44aea1095f9f5b8e2f5f0ed2b17891b    1060   \n",
       "358 2020-05-20 11:54:38.318  d7118b44c7e8fdbbaaca226d2da6fef1    1111   \n",
       "359 2020-05-23 21:16:40.916  79d14db48e4737af731960ae212d5134     966   \n",
       "360 2020-05-23 21:16:40.916  f2d210ace25a841e1e58036b257d5d47    1195   \n",
       "\n",
       "     18_group  is_mi                                           fall_1  \\\n",
       "351       NaN    NaN                 Безопасность компьютерных систем   \n",
       "352       NaN    NaN                Высокопроизводительные вычисления   \n",
       "353       NaN    NaN                 Безопасность компьютерных систем   \n",
       "354       NaN    NaN            Байесовские методы машинного обучения   \n",
       "355       NaN    NaN  Сбор и обработка данных с помощью краудсорсинга   \n",
       "356       NaN    NaN                      Statistical Learning Theory   \n",
       "357       NaN    NaN                Анализ неструктурированных данных   \n",
       "358       NaN    NaN  Сбор и обработка данных с помощью краудсорсинга   \n",
       "359       NaN    NaN                 Безопасность компьютерных систем   \n",
       "360       NaN    NaN                Анализ неструктурированных данных   \n",
       "\n",
       "                                                fall_2  \\\n",
       "351                  Высокопроизводительные вычисления   \n",
       "352    Сбор и обработка данных с помощью краудсорсинга   \n",
       "353                  Высокопроизводительные вычисления   \n",
       "354               Глубинное обучение в обработке звука   \n",
       "355              Байесовские методы машинного обучения   \n",
       "356                  Анализ неструктурированных данных   \n",
       "357                  Высокопроизводительные вычисления   \n",
       "358                        Statistical Learning Theory   \n",
       "359  Принятие решений в условиях риска и неопределё...   \n",
       "360                      Моделирование временных рядов   \n",
       "\n",
       "                                              fall_3  \\\n",
       "351  Сбор и обработка данных с помощью краудсорсинга   \n",
       "352                      Statistical Learning Theory   \n",
       "353                 Безопасность компьютерных систем   \n",
       "354                      Statistical Learning Theory   \n",
       "355                Анализ неструктурированных данных   \n",
       "356  Сбор и обработка данных с помощью краудсорсинга   \n",
       "357                    Моделирование временных рядов   \n",
       "358                Анализ неструктурированных данных   \n",
       "359                Анализ неструктурированных данных   \n",
       "360                Высокопроизводительные вычисления   \n",
       "\n",
       "                                              spring_1  \\\n",
       "351                             Конфликты и кооперация   \n",
       "352               Методы сжатия и передачи медиаданных   \n",
       "353  Проектирование и разработка высоконагруженных ...   \n",
       "354                           Обучение с подкреплением   \n",
       "355                             Конфликты и кооперация   \n",
       "356                           Обучение с подкреплением   \n",
       "357                             Конфликты и кооперация   \n",
       "358  Проектирование и разработка высоконагруженных ...   \n",
       "359  Проектирование и разработка высоконагруженных ...   \n",
       "360                           Обучение с подкреплением   \n",
       "\n",
       "                                              spring_2  \\\n",
       "351  Проектирование и разработка высоконагруженных ...   \n",
       "352  Проектирование и разработка высоконагруженных ...   \n",
       "353               Методы сжатия и передачи медиаданных   \n",
       "354            Генеративные модели в машинном обучении   \n",
       "355                           Обучение с подкреплением   \n",
       "356                             Конфликты и кооперация   \n",
       "357                           Обучение с подкреплением   \n",
       "358               Методы сжатия и передачи медиаданных   \n",
       "359               Методы сжатия и передачи медиаданных   \n",
       "360                                Компьютерное зрение   \n",
       "\n",
       "                                 spring_3 is_first_time  percentile  17_group  \\\n",
       "351                 Символьные вычисления            Да    0.942029     174.0   \n",
       "352                Конфликты и кооперация            Да    0.057971     175.0   \n",
       "353                 Символьные вычисления            Да    0.572464     175.0   \n",
       "354  Методы сжатия и передачи медиаданных           Нет    0.905797     171.0   \n",
       "355                   Компьютерное зрение            Да    0.507246     171.0   \n",
       "356                   Компьютерное зрение            Да    0.920290     174.0   \n",
       "357                      Численные методы            Да    0.840580     174.0   \n",
       "358                      Численные методы            Да    0.652174     173.0   \n",
       "359                   Компьютерное зрение            Да    0.985507     172.0   \n",
       "360  Методы сжатия и передачи медиаданных           NaN    0.369565     176.0   \n",
       "\n",
       "                            blended  is_ml_student  \n",
       "351                          DevOps            NaN  \n",
       "352                          DevOps            NaN  \n",
       "353                          DevOps            NaN  \n",
       "354                          DevOps            NaN  \n",
       "355  Соревновательный анализ данных            NaN  \n",
       "356                          DevOps            NaN  \n",
       "357                          DevOps            NaN  \n",
       "358  Соревновательный анализ данных            NaN  \n",
       "359                          DevOps            NaN  \n",
       "360  Соревновательный анализ данных            NaN  "
      ]
     },
     "execution_count": 7,
     "metadata": {},
     "output_type": "execute_result"
    }
   ],
   "source": [
    "data = pd.read_excel('end_seminar.xlsx')\n",
    "data.tail(10)"
   ]
  },
  {
   "cell_type": "markdown",
   "metadata": {
    "id": "jPiMwyqHhLuy"
   },
   "source": [
    "#### 2. [0.5 балла] Есть ли в данных пропуски? В каких колонках? Сколько их в каждой из этих колонок?"
   ]
  },
  {
   "cell_type": "code",
   "execution_count": 8,
   "metadata": {
    "id": "edY1RrSOhLuy"
   },
   "outputs": [
    {
     "data": {
      "text/plain": [
       "timestamp          0\n",
       "id                 0\n",
       "rating             0\n",
       "18_group         138\n",
       "is_mi            343\n",
       "fall_1             0\n",
       "fall_2             0\n",
       "fall_3             0\n",
       "spring_1           0\n",
       "spring_2           0\n",
       "spring_3           0\n",
       "is_first_time      2\n",
       "percentile         0\n",
       "17_group         223\n",
       "blended          223\n",
       "is_ml_student    304\n",
       "dtype: int64"
      ]
     },
     "execution_count": 8,
     "metadata": {},
     "output_type": "execute_result"
    }
   ],
   "source": [
    "data.isna().sum()"
   ]
  },
  {
   "cell_type": "markdown",
   "metadata": {},
   "source": [
    "Пропуски есть в колонках с ненулевым значением в таблице в ячейке выше"
   ]
  },
  {
   "cell_type": "markdown",
   "metadata": {
    "id": "B5ORhP2uhLuz"
   },
   "source": [
    "Заполните пропуски пустой строкой для строковых колонок и нулём для числовых (постарайтесь избежать перечисления названий всех столбцов)."
   ]
  },
  {
   "cell_type": "code",
   "execution_count": 9,
   "metadata": {
    "id": "TlF_JJ2ghLuz"
   },
   "outputs": [
    {
     "data": {
      "text/plain": [
       "timestamp        datetime64[ns]\n",
       "id                       object\n",
       "rating                    int64\n",
       "18_group                float64\n",
       "is_mi                   float64\n",
       "fall_1                   object\n",
       "fall_2                   object\n",
       "fall_3                   object\n",
       "spring_1                 object\n",
       "spring_2                 object\n",
       "spring_3                 object\n",
       "is_first_time            object\n",
       "percentile              float64\n",
       "17_group                float64\n",
       "blended                  object\n",
       "is_ml_student           float64\n",
       "dtype: object"
      ]
     },
     "execution_count": 9,
     "metadata": {},
     "output_type": "execute_result"
    }
   ],
   "source": [
    "data.dtypes"
   ]
  },
  {
   "cell_type": "code",
   "execution_count": 10,
   "metadata": {},
   "outputs": [],
   "source": [
    "numerics = ['int64', 'float64']\n",
    "for col in data:\n",
    "    if data.dtypes[col] in numerics:\n",
    "        data[col].fillna(0, inplace=True)\n",
    "    else:\n",
    "        data[col].fillna(\"\", inplace=True)\n",
    "        "
   ]
  },
  {
   "cell_type": "markdown",
   "metadata": {
    "id": "w5ELhkT1hLuz"
   },
   "source": [
    "#### 3. [0.5 балла] Посмотрите повнимательнее на колонку 'is_first_time'. \n",
    "\n",
    "Есть ли в ней ответы \"Нет\"? Сколько их?\n",
    "\n",
    "Если вы найдете повторные обращения студентов, оставьте только самую позднюю версию. В дальнейших заданиях используйте версию данных без повторов.\n",
    "\n",
    "<i>Обращения со значением \"Нет\" в 'is_first_time' могут быть как повторными, так и первичными, поскольку поле заполняли сами студенты.</i>"
   ]
  },
  {
   "cell_type": "code",
   "execution_count": 11,
   "metadata": {
    "id": "VEfiNsyQhLuz"
   },
   "outputs": [
    {
     "data": {
      "text/plain": [
       "Да     308\n",
       "Нет     51\n",
       "         2\n",
       "Name: is_first_time, dtype: int64"
      ]
     },
     "execution_count": 11,
     "metadata": {},
     "output_type": "execute_result"
    }
   ],
   "source": [
    "data[\"is_first_time\"].value_counts()"
   ]
  },
  {
   "cell_type": "code",
   "execution_count": 12,
   "metadata": {},
   "outputs": [],
   "source": [
    "data = data.drop_duplicates(\"id\", keep=\"last\")"
   ]
  },
  {
   "cell_type": "code",
   "execution_count": 13,
   "metadata": {},
   "outputs": [
    {
     "data": {
      "text/plain": [
       "Да     294\n",
       "Нет     51\n",
       "         2\n",
       "Name: is_first_time, dtype: int64"
      ]
     },
     "execution_count": 13,
     "metadata": {},
     "output_type": "execute_result"
    }
   ],
   "source": [
    "data[\"is_first_time\"].value_counts()"
   ]
  },
  {
   "cell_type": "markdown",
   "metadata": {
    "id": "Jhk3tVpVhLuy"
   },
   "source": [
    "#### 4. [0.5 балла] Ответьте на вопросы:\n",
    "1. Сколько было заявок из групп 18-го года набора, а сколько из групп 17-го года?\n",
    "2. Есть ли студенты с равными перцентилями (среди объединенных данных, ведь конкурс на каждый курс общий)?"
   ]
  },
  {
   "cell_type": "code",
   "execution_count": 14,
   "metadata": {
    "id": "bsn4vn8RhLuy"
   },
   "outputs": [
    {
     "data": {
      "text/plain": [
       "213"
      ]
     },
     "execution_count": 14,
     "metadata": {},
     "output_type": "execute_result"
    }
   ],
   "source": [
    "data.shape[0] - data[\"18_group\"].value_counts()[0]"
   ]
  },
  {
   "cell_type": "code",
   "execution_count": 15,
   "metadata": {},
   "outputs": [
    {
     "data": {
      "text/plain": [
       "134"
      ]
     },
     "execution_count": 15,
     "metadata": {},
     "output_type": "execute_result"
    }
   ],
   "source": [
    "data.shape[0] - data[\"17_group\"].value_counts()[0]"
   ]
  },
  {
   "cell_type": "code",
   "execution_count": 16,
   "metadata": {},
   "outputs": [
    {
     "data": {
      "text/plain": [
       "0.000000    2\n",
       "0.183857    1\n",
       "0.623188    1\n",
       "0.144928    1\n",
       "0.130435    1\n",
       "           ..\n",
       "0.560538    1\n",
       "0.843049    1\n",
       "0.385650    1\n",
       "0.739910    1\n",
       "0.369565    1\n",
       "Name: percentile, Length: 346, dtype: int64"
      ]
     },
     "execution_count": 16,
     "metadata": {},
     "output_type": "execute_result"
    }
   ],
   "source": [
    "data[\"percentile\"].value_counts()"
   ]
  },
  {
   "cell_type": "markdown",
   "metadata": {},
   "source": [
    "кроме людей с нулевым перцентилем, больше нет с одинаковым"
   ]
  },
  {
   "cell_type": "markdown",
   "metadata": {
    "id": "IlzHp3HVhLuz"
   },
   "source": [
    "#### 5. [0.5 балла] Какие  blended-курсы для четверокурсников существуют? На какой blended-курс записалось наибольшее количество студентов? На каком из blended-курсов собрались студенты с самым высоким средним рейтингом (выведите этот курс и количество студентов на нем)? "
   ]
  },
  {
   "cell_type": "code",
   "execution_count": 17,
   "metadata": {
    "id": "j_BRWerHhLu0"
   },
   "outputs": [
    {
     "data": {
      "text/plain": [
       "                                         213\n",
       "DevOps                                    87\n",
       "Соревновательный анализ данных            32\n",
       "Введение в дифференциальную геометрию     15\n",
       "Name: blended, dtype: int64"
      ]
     },
     "execution_count": 17,
     "metadata": {},
     "output_type": "execute_result"
    }
   ],
   "source": [
    "data[\"blended\"].value_counts()"
   ]
  },
  {
   "cell_type": "code",
   "execution_count": 18,
   "metadata": {},
   "outputs": [
    {
     "data": {
      "text/plain": [
       "1154.1724137931035"
      ]
     },
     "execution_count": 18,
     "metadata": {},
     "output_type": "execute_result"
    }
   ],
   "source": [
    "data.loc[data['blended'] == 'DevOps', 'rating'].mean()"
   ]
  },
  {
   "cell_type": "code",
   "execution_count": 19,
   "metadata": {},
   "outputs": [
    {
     "data": {
      "text/plain": [
       "1144.21875"
      ]
     },
     "execution_count": 19,
     "metadata": {},
     "output_type": "execute_result"
    }
   ],
   "source": [
    "data.loc[data['blended'] == 'Соревновательный анализ данных', 'rating'].mean()"
   ]
  },
  {
   "cell_type": "code",
   "execution_count": 20,
   "metadata": {},
   "outputs": [
    {
     "data": {
      "text/plain": [
       "1210.7333333333333"
      ]
     },
     "execution_count": 20,
     "metadata": {},
     "output_type": "execute_result"
    }
   ],
   "source": [
    "data.loc[data['blended'] == 'Введение в дифференциальную геометрию', 'rating'].mean()"
   ]
  },
  {
   "cell_type": "code",
   "execution_count": 21,
   "metadata": {},
   "outputs": [
    {
     "data": {
      "text/plain": [
       "15"
      ]
     },
     "execution_count": 21,
     "metadata": {},
     "output_type": "execute_result"
    }
   ],
   "source": [
    "data[\"blended\"].value_counts()[\"Введение в дифференциальную геометрию\"]"
   ]
  },
  {
   "cell_type": "markdown",
   "metadata": {},
   "source": [
    "у студентов выбравших Введение в дифференциальную геометрию наивысший рейтинг"
   ]
  },
  {
   "cell_type": "markdown",
   "metadata": {
    "id": "IU_FLt8HhLu0"
   },
   "source": [
    "#### 6. [1 балл] Выясните, есть ли студенты с абсолютно одинаковыми предпочтениями по всем курсам.\n",
    "\n",
    "Для этого сформируйте таблицу, где для каждого возможного набора курсов посчитано количество студентов, выбравших такой набор, и оставьте только строки где это количество больше 1.\n",
    "\n",
    "В данном случае набор курсов задается упорядоченным множеством ('fall_1', 'fall_2', 'fall_3', 'spring_1', 'spring_2', 'spring_3', 'blended'). Элемент blended будет нулевым для 3-го курса."
   ]
  },
  {
   "cell_type": "code",
   "execution_count": 22,
   "metadata": {
    "id": "BBDlR1mFhLu0"
   },
   "outputs": [
    {
     "data": {
      "text/html": [
       "<div>\n",
       "<style scoped>\n",
       "    .dataframe tbody tr th:only-of-type {\n",
       "        vertical-align: middle;\n",
       "    }\n",
       "\n",
       "    .dataframe tbody tr th {\n",
       "        vertical-align: top;\n",
       "    }\n",
       "\n",
       "    .dataframe thead th {\n",
       "        text-align: right;\n",
       "    }\n",
       "</style>\n",
       "<table border=\"1\" class=\"dataframe\">\n",
       "  <thead>\n",
       "    <tr style=\"text-align: right;\">\n",
       "      <th></th>\n",
       "      <th>fall_1</th>\n",
       "      <th>fall_2</th>\n",
       "      <th>fall_3</th>\n",
       "      <th>spring_1</th>\n",
       "      <th>spring_2</th>\n",
       "      <th>spring_3</th>\n",
       "      <th>blended</th>\n",
       "    </tr>\n",
       "  </thead>\n",
       "  <tbody>\n",
       "    <tr>\n",
       "      <th>0</th>\n",
       "      <td>Язык SQL</td>\n",
       "      <td>Высокопроизводительные вычисления</td>\n",
       "      <td>Матричные вычисления</td>\n",
       "      <td>Дискретная оптимизация</td>\n",
       "      <td>Численные методы</td>\n",
       "      <td>Машинное обучение 2</td>\n",
       "      <td></td>\n",
       "    </tr>\n",
       "    <tr>\n",
       "      <th>1</th>\n",
       "      <td>Высокопроизводительные вычисления</td>\n",
       "      <td>Безопасность компьютерных систем</td>\n",
       "      <td>Язык SQL</td>\n",
       "      <td>Дискретная оптимизация</td>\n",
       "      <td>Численные методы</td>\n",
       "      <td>Машинное обучение 2</td>\n",
       "      <td></td>\n",
       "    </tr>\n",
       "    <tr>\n",
       "      <th>2</th>\n",
       "      <td>Безопасность компьютерных систем</td>\n",
       "      <td>Матричные вычисления</td>\n",
       "      <td>Моделирование временных рядов</td>\n",
       "      <td>Дискретная оптимизация</td>\n",
       "      <td>Машинное обучение 2</td>\n",
       "      <td>Численные методы</td>\n",
       "      <td></td>\n",
       "    </tr>\n",
       "    <tr>\n",
       "      <th>3</th>\n",
       "      <td>Statistical Learning Theory</td>\n",
       "      <td>Высокопроизводительные вычисления</td>\n",
       "      <td>Матричные вычисления</td>\n",
       "      <td>Дискретная оптимизация</td>\n",
       "      <td>Численные методы</td>\n",
       "      <td>Машинное обучение 2</td>\n",
       "      <td></td>\n",
       "    </tr>\n",
       "    <tr>\n",
       "      <th>4</th>\n",
       "      <td>Высокопроизводительные вычисления</td>\n",
       "      <td>Безопасность компьютерных систем</td>\n",
       "      <td>Теория баз данных</td>\n",
       "      <td>Компьютерные сети</td>\n",
       "      <td>Дискретная оптимизация</td>\n",
       "      <td>Численные методы</td>\n",
       "      <td></td>\n",
       "    </tr>\n",
       "    <tr>\n",
       "      <th>...</th>\n",
       "      <td>...</td>\n",
       "      <td>...</td>\n",
       "      <td>...</td>\n",
       "      <td>...</td>\n",
       "      <td>...</td>\n",
       "      <td>...</td>\n",
       "      <td>...</td>\n",
       "    </tr>\n",
       "    <tr>\n",
       "      <th>356</th>\n",
       "      <td>Statistical Learning Theory</td>\n",
       "      <td>Анализ неструктурированных данных</td>\n",
       "      <td>Сбор и обработка данных с помощью краудсорсинга</td>\n",
       "      <td>Обучение с подкреплением</td>\n",
       "      <td>Конфликты и кооперация</td>\n",
       "      <td>Компьютерное зрение</td>\n",
       "      <td>DevOps</td>\n",
       "    </tr>\n",
       "    <tr>\n",
       "      <th>357</th>\n",
       "      <td>Анализ неструктурированных данных</td>\n",
       "      <td>Высокопроизводительные вычисления</td>\n",
       "      <td>Моделирование временных рядов</td>\n",
       "      <td>Конфликты и кооперация</td>\n",
       "      <td>Обучение с подкреплением</td>\n",
       "      <td>Численные методы</td>\n",
       "      <td>DevOps</td>\n",
       "    </tr>\n",
       "    <tr>\n",
       "      <th>358</th>\n",
       "      <td>Сбор и обработка данных с помощью краудсорсинга</td>\n",
       "      <td>Statistical Learning Theory</td>\n",
       "      <td>Анализ неструктурированных данных</td>\n",
       "      <td>Проектирование и разработка высоконагруженных ...</td>\n",
       "      <td>Методы сжатия и передачи медиаданных</td>\n",
       "      <td>Численные методы</td>\n",
       "      <td>Соревновательный анализ данных</td>\n",
       "    </tr>\n",
       "    <tr>\n",
       "      <th>359</th>\n",
       "      <td>Безопасность компьютерных систем</td>\n",
       "      <td>Принятие решений в условиях риска и неопределё...</td>\n",
       "      <td>Анализ неструктурированных данных</td>\n",
       "      <td>Проектирование и разработка высоконагруженных ...</td>\n",
       "      <td>Методы сжатия и передачи медиаданных</td>\n",
       "      <td>Компьютерное зрение</td>\n",
       "      <td>DevOps</td>\n",
       "    </tr>\n",
       "    <tr>\n",
       "      <th>360</th>\n",
       "      <td>Анализ неструктурированных данных</td>\n",
       "      <td>Моделирование временных рядов</td>\n",
       "      <td>Высокопроизводительные вычисления</td>\n",
       "      <td>Обучение с подкреплением</td>\n",
       "      <td>Компьютерное зрение</td>\n",
       "      <td>Методы сжатия и передачи медиаданных</td>\n",
       "      <td>Соревновательный анализ данных</td>\n",
       "    </tr>\n",
       "  </tbody>\n",
       "</table>\n",
       "<p>347 rows × 7 columns</p>\n",
       "</div>"
      ],
      "text/plain": [
       "                                              fall_1  \\\n",
       "0                                           Язык SQL   \n",
       "1                  Высокопроизводительные вычисления   \n",
       "2                   Безопасность компьютерных систем   \n",
       "3                        Statistical Learning Theory   \n",
       "4                  Высокопроизводительные вычисления   \n",
       "..                                               ...   \n",
       "356                      Statistical Learning Theory   \n",
       "357                Анализ неструктурированных данных   \n",
       "358  Сбор и обработка данных с помощью краудсорсинга   \n",
       "359                 Безопасность компьютерных систем   \n",
       "360                Анализ неструктурированных данных   \n",
       "\n",
       "                                                fall_2  \\\n",
       "0                    Высокопроизводительные вычисления   \n",
       "1                     Безопасность компьютерных систем   \n",
       "2                                 Матричные вычисления   \n",
       "3                    Высокопроизводительные вычисления   \n",
       "4                     Безопасность компьютерных систем   \n",
       "..                                                 ...   \n",
       "356                  Анализ неструктурированных данных   \n",
       "357                  Высокопроизводительные вычисления   \n",
       "358                        Statistical Learning Theory   \n",
       "359  Принятие решений в условиях риска и неопределё...   \n",
       "360                      Моделирование временных рядов   \n",
       "\n",
       "                                              fall_3  \\\n",
       "0                               Матричные вычисления   \n",
       "1                                           Язык SQL   \n",
       "2                      Моделирование временных рядов   \n",
       "3                               Матричные вычисления   \n",
       "4                                  Теория баз данных   \n",
       "..                                               ...   \n",
       "356  Сбор и обработка данных с помощью краудсорсинга   \n",
       "357                    Моделирование временных рядов   \n",
       "358                Анализ неструктурированных данных   \n",
       "359                Анализ неструктурированных данных   \n",
       "360                Высокопроизводительные вычисления   \n",
       "\n",
       "                                              spring_1  \\\n",
       "0                               Дискретная оптимизация   \n",
       "1                               Дискретная оптимизация   \n",
       "2                               Дискретная оптимизация   \n",
       "3                               Дискретная оптимизация   \n",
       "4                                    Компьютерные сети   \n",
       "..                                                 ...   \n",
       "356                           Обучение с подкреплением   \n",
       "357                             Конфликты и кооперация   \n",
       "358  Проектирование и разработка высоконагруженных ...   \n",
       "359  Проектирование и разработка высоконагруженных ...   \n",
       "360                           Обучение с подкреплением   \n",
       "\n",
       "                                 spring_2  \\\n",
       "0                        Численные методы   \n",
       "1                        Численные методы   \n",
       "2                     Машинное обучение 2   \n",
       "3                        Численные методы   \n",
       "4                  Дискретная оптимизация   \n",
       "..                                    ...   \n",
       "356                Конфликты и кооперация   \n",
       "357              Обучение с подкреплением   \n",
       "358  Методы сжатия и передачи медиаданных   \n",
       "359  Методы сжатия и передачи медиаданных   \n",
       "360                   Компьютерное зрение   \n",
       "\n",
       "                                 spring_3                         blended  \n",
       "0                     Машинное обучение 2                                  \n",
       "1                     Машинное обучение 2                                  \n",
       "2                        Численные методы                                  \n",
       "3                     Машинное обучение 2                                  \n",
       "4                        Численные методы                                  \n",
       "..                                    ...                             ...  \n",
       "356                   Компьютерное зрение                          DevOps  \n",
       "357                      Численные методы                          DevOps  \n",
       "358                      Численные методы  Соревновательный анализ данных  \n",
       "359                   Компьютерное зрение                          DevOps  \n",
       "360  Методы сжатия и передачи медиаданных  Соревновательный анализ данных  \n",
       "\n",
       "[347 rows x 7 columns]"
      ]
     },
     "execution_count": 22,
     "metadata": {},
     "output_type": "execute_result"
    }
   ],
   "source": [
    "data2 = data[['fall_1', 'fall_2', 'fall_3', 'spring_1', 'spring_2', 'spring_3', 'blended']]\n",
    "data2"
   ]
  },
  {
   "cell_type": "code",
   "execution_count": 23,
   "metadata": {},
   "outputs": [
    {
     "data": {
      "text/html": [
       "<div>\n",
       "<style scoped>\n",
       "    .dataframe tbody tr th:only-of-type {\n",
       "        vertical-align: middle;\n",
       "    }\n",
       "\n",
       "    .dataframe tbody tr th {\n",
       "        vertical-align: top;\n",
       "    }\n",
       "\n",
       "    .dataframe thead th {\n",
       "        text-align: right;\n",
       "    }\n",
       "</style>\n",
       "<table border=\"1\" class=\"dataframe\">\n",
       "  <thead>\n",
       "    <tr style=\"text-align: right;\">\n",
       "      <th></th>\n",
       "      <th>fall_1</th>\n",
       "      <th>fall_2</th>\n",
       "      <th>fall_3</th>\n",
       "      <th>spring_1</th>\n",
       "      <th>spring_2</th>\n",
       "      <th>spring_3</th>\n",
       "      <th>blended</th>\n",
       "    </tr>\n",
       "  </thead>\n",
       "  <tbody>\n",
       "    <tr>\n",
       "      <th>0</th>\n",
       "      <td>Язык SQL</td>\n",
       "      <td>Высокопроизводительные вычисления</td>\n",
       "      <td>Матричные вычисления</td>\n",
       "      <td>Дискретная оптимизация</td>\n",
       "      <td>Численные методы</td>\n",
       "      <td>Машинное обучение 2</td>\n",
       "      <td></td>\n",
       "    </tr>\n",
       "    <tr>\n",
       "      <th>1</th>\n",
       "      <td>Высокопроизводительные вычисления</td>\n",
       "      <td>Безопасность компьютерных систем</td>\n",
       "      <td>Язык SQL</td>\n",
       "      <td>Дискретная оптимизация</td>\n",
       "      <td>Численные методы</td>\n",
       "      <td>Машинное обучение 2</td>\n",
       "      <td></td>\n",
       "    </tr>\n",
       "    <tr>\n",
       "      <th>2</th>\n",
       "      <td>Безопасность компьютерных систем</td>\n",
       "      <td>Матричные вычисления</td>\n",
       "      <td>Моделирование временных рядов</td>\n",
       "      <td>Дискретная оптимизация</td>\n",
       "      <td>Машинное обучение 2</td>\n",
       "      <td>Численные методы</td>\n",
       "      <td></td>\n",
       "    </tr>\n",
       "    <tr>\n",
       "      <th>3</th>\n",
       "      <td>Statistical Learning Theory</td>\n",
       "      <td>Высокопроизводительные вычисления</td>\n",
       "      <td>Матричные вычисления</td>\n",
       "      <td>Дискретная оптимизация</td>\n",
       "      <td>Численные методы</td>\n",
       "      <td>Машинное обучение 2</td>\n",
       "      <td></td>\n",
       "    </tr>\n",
       "    <tr>\n",
       "      <th>4</th>\n",
       "      <td>Высокопроизводительные вычисления</td>\n",
       "      <td>Безопасность компьютерных систем</td>\n",
       "      <td>Теория баз данных</td>\n",
       "      <td>Компьютерные сети</td>\n",
       "      <td>Дискретная оптимизация</td>\n",
       "      <td>Численные методы</td>\n",
       "      <td></td>\n",
       "    </tr>\n",
       "    <tr>\n",
       "      <th>...</th>\n",
       "      <td>...</td>\n",
       "      <td>...</td>\n",
       "      <td>...</td>\n",
       "      <td>...</td>\n",
       "      <td>...</td>\n",
       "      <td>...</td>\n",
       "      <td>...</td>\n",
       "    </tr>\n",
       "    <tr>\n",
       "      <th>355</th>\n",
       "      <td>Сбор и обработка данных с помощью краудсорсинга</td>\n",
       "      <td>Байесовские методы машинного обучения</td>\n",
       "      <td>Анализ неструктурированных данных</td>\n",
       "      <td>Конфликты и кооперация</td>\n",
       "      <td>Обучение с подкреплением</td>\n",
       "      <td>Компьютерное зрение</td>\n",
       "      <td>Соревновательный анализ данных</td>\n",
       "    </tr>\n",
       "    <tr>\n",
       "      <th>357</th>\n",
       "      <td>Анализ неструктурированных данных</td>\n",
       "      <td>Высокопроизводительные вычисления</td>\n",
       "      <td>Моделирование временных рядов</td>\n",
       "      <td>Конфликты и кооперация</td>\n",
       "      <td>Обучение с подкреплением</td>\n",
       "      <td>Численные методы</td>\n",
       "      <td>DevOps</td>\n",
       "    </tr>\n",
       "    <tr>\n",
       "      <th>358</th>\n",
       "      <td>Сбор и обработка данных с помощью краудсорсинга</td>\n",
       "      <td>Statistical Learning Theory</td>\n",
       "      <td>Анализ неструктурированных данных</td>\n",
       "      <td>Проектирование и разработка высоконагруженных ...</td>\n",
       "      <td>Методы сжатия и передачи медиаданных</td>\n",
       "      <td>Численные методы</td>\n",
       "      <td>Соревновательный анализ данных</td>\n",
       "    </tr>\n",
       "    <tr>\n",
       "      <th>359</th>\n",
       "      <td>Безопасность компьютерных систем</td>\n",
       "      <td>Принятие решений в условиях риска и неопределё...</td>\n",
       "      <td>Анализ неструктурированных данных</td>\n",
       "      <td>Проектирование и разработка высоконагруженных ...</td>\n",
       "      <td>Методы сжатия и передачи медиаданных</td>\n",
       "      <td>Компьютерное зрение</td>\n",
       "      <td>DevOps</td>\n",
       "    </tr>\n",
       "    <tr>\n",
       "      <th>360</th>\n",
       "      <td>Анализ неструктурированных данных</td>\n",
       "      <td>Моделирование временных рядов</td>\n",
       "      <td>Высокопроизводительные вычисления</td>\n",
       "      <td>Обучение с подкреплением</td>\n",
       "      <td>Компьютерное зрение</td>\n",
       "      <td>Методы сжатия и передачи медиаданных</td>\n",
       "      <td>Соревновательный анализ данных</td>\n",
       "    </tr>\n",
       "  </tbody>\n",
       "</table>\n",
       "<p>330 rows × 7 columns</p>\n",
       "</div>"
      ],
      "text/plain": [
       "                                              fall_1  \\\n",
       "0                                           Язык SQL   \n",
       "1                  Высокопроизводительные вычисления   \n",
       "2                   Безопасность компьютерных систем   \n",
       "3                        Statistical Learning Theory   \n",
       "4                  Высокопроизводительные вычисления   \n",
       "..                                               ...   \n",
       "355  Сбор и обработка данных с помощью краудсорсинга   \n",
       "357                Анализ неструктурированных данных   \n",
       "358  Сбор и обработка данных с помощью краудсорсинга   \n",
       "359                 Безопасность компьютерных систем   \n",
       "360                Анализ неструктурированных данных   \n",
       "\n",
       "                                                fall_2  \\\n",
       "0                    Высокопроизводительные вычисления   \n",
       "1                     Безопасность компьютерных систем   \n",
       "2                                 Матричные вычисления   \n",
       "3                    Высокопроизводительные вычисления   \n",
       "4                     Безопасность компьютерных систем   \n",
       "..                                                 ...   \n",
       "355              Байесовские методы машинного обучения   \n",
       "357                  Высокопроизводительные вычисления   \n",
       "358                        Statistical Learning Theory   \n",
       "359  Принятие решений в условиях риска и неопределё...   \n",
       "360                      Моделирование временных рядов   \n",
       "\n",
       "                                fall_3  \\\n",
       "0                 Матричные вычисления   \n",
       "1                             Язык SQL   \n",
       "2        Моделирование временных рядов   \n",
       "3                 Матричные вычисления   \n",
       "4                    Теория баз данных   \n",
       "..                                 ...   \n",
       "355  Анализ неструктурированных данных   \n",
       "357      Моделирование временных рядов   \n",
       "358  Анализ неструктурированных данных   \n",
       "359  Анализ неструктурированных данных   \n",
       "360  Высокопроизводительные вычисления   \n",
       "\n",
       "                                              spring_1  \\\n",
       "0                               Дискретная оптимизация   \n",
       "1                               Дискретная оптимизация   \n",
       "2                               Дискретная оптимизация   \n",
       "3                               Дискретная оптимизация   \n",
       "4                                    Компьютерные сети   \n",
       "..                                                 ...   \n",
       "355                             Конфликты и кооперация   \n",
       "357                             Конфликты и кооперация   \n",
       "358  Проектирование и разработка высоконагруженных ...   \n",
       "359  Проектирование и разработка высоконагруженных ...   \n",
       "360                           Обучение с подкреплением   \n",
       "\n",
       "                                 spring_2  \\\n",
       "0                        Численные методы   \n",
       "1                        Численные методы   \n",
       "2                     Машинное обучение 2   \n",
       "3                        Численные методы   \n",
       "4                  Дискретная оптимизация   \n",
       "..                                    ...   \n",
       "355              Обучение с подкреплением   \n",
       "357              Обучение с подкреплением   \n",
       "358  Методы сжатия и передачи медиаданных   \n",
       "359  Методы сжатия и передачи медиаданных   \n",
       "360                   Компьютерное зрение   \n",
       "\n",
       "                                 spring_3                         blended  \n",
       "0                     Машинное обучение 2                                  \n",
       "1                     Машинное обучение 2                                  \n",
       "2                        Численные методы                                  \n",
       "3                     Машинное обучение 2                                  \n",
       "4                        Численные методы                                  \n",
       "..                                    ...                             ...  \n",
       "355                   Компьютерное зрение  Соревновательный анализ данных  \n",
       "357                      Численные методы                          DevOps  \n",
       "358                      Численные методы  Соревновательный анализ данных  \n",
       "359                   Компьютерное зрение                          DevOps  \n",
       "360  Методы сжатия и передачи медиаданных  Соревновательный анализ данных  \n",
       "\n",
       "[330 rows x 7 columns]"
      ]
     },
     "execution_count": 23,
     "metadata": {},
     "output_type": "execute_result"
    }
   ],
   "source": [
    "data2.drop_duplicates()"
   ]
  },
  {
   "cell_type": "code",
   "execution_count": 24,
   "metadata": {},
   "outputs": [
    {
     "data": {
      "text/html": [
       "<div>\n",
       "<style scoped>\n",
       "    .dataframe tbody tr th:only-of-type {\n",
       "        vertical-align: middle;\n",
       "    }\n",
       "\n",
       "    .dataframe tbody tr th {\n",
       "        vertical-align: top;\n",
       "    }\n",
       "\n",
       "    .dataframe thead th {\n",
       "        text-align: right;\n",
       "    }\n",
       "</style>\n",
       "<table border=\"1\" class=\"dataframe\">\n",
       "  <thead>\n",
       "    <tr style=\"text-align: right;\">\n",
       "      <th></th>\n",
       "      <th>index</th>\n",
       "      <th>all_courses</th>\n",
       "    </tr>\n",
       "  </thead>\n",
       "  <tbody>\n",
       "    <tr>\n",
       "      <th>0</th>\n",
       "      <td>Безопасность компьютерных систем, Statistical ...</td>\n",
       "      <td>3</td>\n",
       "    </tr>\n",
       "    <tr>\n",
       "      <th>1</th>\n",
       "      <td>Безопасность компьютерных систем, Высокопроизв...</td>\n",
       "      <td>3</td>\n",
       "    </tr>\n",
       "    <tr>\n",
       "      <th>2</th>\n",
       "      <td>Язык SQL, Высокопроизводительные вычисления, Т...</td>\n",
       "      <td>2</td>\n",
       "    </tr>\n",
       "    <tr>\n",
       "      <th>3</th>\n",
       "      <td>Моделирование временных рядов, Сбор и обработк...</td>\n",
       "      <td>2</td>\n",
       "    </tr>\n",
       "    <tr>\n",
       "      <th>4</th>\n",
       "      <td>Безопасность компьютерных систем, Сбор и обраб...</td>\n",
       "      <td>2</td>\n",
       "    </tr>\n",
       "    <tr>\n",
       "      <th>5</th>\n",
       "      <td>Statistical Learning Theory, Анализ неструктур...</td>\n",
       "      <td>2</td>\n",
       "    </tr>\n",
       "    <tr>\n",
       "      <th>6</th>\n",
       "      <td>Байесовские методы машинного обучения, Анализ ...</td>\n",
       "      <td>2</td>\n",
       "    </tr>\n",
       "    <tr>\n",
       "      <th>7</th>\n",
       "      <td>Безопасность компьютерных систем, Матричные вы...</td>\n",
       "      <td>2</td>\n",
       "    </tr>\n",
       "    <tr>\n",
       "      <th>8</th>\n",
       "      <td>Сбор и обработка данных с помощью краудсорсинг...</td>\n",
       "      <td>2</td>\n",
       "    </tr>\n",
       "    <tr>\n",
       "      <th>9</th>\n",
       "      <td>Безопасность компьютерных систем, Теория баз д...</td>\n",
       "      <td>2</td>\n",
       "    </tr>\n",
       "    <tr>\n",
       "      <th>10</th>\n",
       "      <td>Безопасность компьютерных систем, Высокопроизв...</td>\n",
       "      <td>2</td>\n",
       "    </tr>\n",
       "    <tr>\n",
       "      <th>11</th>\n",
       "      <td>Безопасность компьютерных систем, Высокопроизв...</td>\n",
       "      <td>2</td>\n",
       "    </tr>\n",
       "    <tr>\n",
       "      <th>12</th>\n",
       "      <td>Высокопроизводительные вычисления, Безопасност...</td>\n",
       "      <td>2</td>\n",
       "    </tr>\n",
       "    <tr>\n",
       "      <th>13</th>\n",
       "      <td>Байесовские методы машинного обучения, Анализ ...</td>\n",
       "      <td>2</td>\n",
       "    </tr>\n",
       "    <tr>\n",
       "      <th>14</th>\n",
       "      <td>Высокопроизводительные вычисления, Сбор и обра...</td>\n",
       "      <td>2</td>\n",
       "    </tr>\n",
       "  </tbody>\n",
       "</table>\n",
       "</div>"
      ],
      "text/plain": [
       "                                                index  all_courses\n",
       "0   Безопасность компьютерных систем, Statistical ...            3\n",
       "1   Безопасность компьютерных систем, Высокопроизв...            3\n",
       "2   Язык SQL, Высокопроизводительные вычисления, Т...            2\n",
       "3   Моделирование временных рядов, Сбор и обработк...            2\n",
       "4   Безопасность компьютерных систем, Сбор и обраб...            2\n",
       "5   Statistical Learning Theory, Анализ неструктур...            2\n",
       "6   Байесовские методы машинного обучения, Анализ ...            2\n",
       "7   Безопасность компьютерных систем, Матричные вы...            2\n",
       "8   Сбор и обработка данных с помощью краудсорсинг...            2\n",
       "9   Безопасность компьютерных систем, Теория баз д...            2\n",
       "10  Безопасность компьютерных систем, Высокопроизв...            2\n",
       "11  Безопасность компьютерных систем, Высокопроизв...            2\n",
       "12  Высокопроизводительные вычисления, Безопасност...            2\n",
       "13  Байесовские методы машинного обучения, Анализ ...            2\n",
       "14  Высокопроизводительные вычисления, Сбор и обра...            2"
      ]
     },
     "execution_count": 24,
     "metadata": {},
     "output_type": "execute_result"
    }
   ],
   "source": [
    "data[\"all_courses\"] = data[\"fall_1\"] + ', ' + data[\"fall_2\"] + ', ' + data[\"fall_3\"] + ', ' + data[\"spring_1\"] + ', ' + data[\"spring_2\"] + ', ' + data[\"spring_3\"] + ', ' + data[\"blended\"]\n",
    "data.all_courses.value_counts().reset_index()[data.all_courses.value_counts().reset_index().all_courses > 1]"
   ]
  },
  {
   "cell_type": "markdown",
   "metadata": {},
   "source": [
    "раз поменялось число строк значит были люди с одинаковыми наборами"
   ]
  },
  {
   "cell_type": "markdown",
   "metadata": {
    "id": "spu3r3vchLu0"
   },
   "source": [
    "#### 7. [0.5 балла] Найдите курсы по выбору, на которые записывались как студенты 18-го года набора, так и студенты 17-го года."
   ]
  },
  {
   "cell_type": "code",
   "execution_count": 25,
   "metadata": {
    "id": "t21fWi8ShLu0"
   },
   "outputs": [
    {
     "data": {
      "text/plain": [
       "array(['Безопасность компьютерных систем',\n",
       "       'Высокопроизводительные вычисления', 'Statistical Learning Theory',\n",
       "       'Моделирование временных рядов',\n",
       "       'Сбор и обработка данных с помощью краудсорсинга',\n",
       "       'Принятие решений в условиях риска и неопределённости',\n",
       "       'Численные методы'], dtype=object)"
      ]
     },
     "execution_count": 25,
     "metadata": {},
     "output_type": "execute_result"
    }
   ],
   "source": [
    "c_17 = pd.melt(data[data['18_group'] == 0], id_vars=\"id\", value_vars=['fall_1', 'fall_2', 'fall_3', 'spring_1', 'spring_2', 'spring_3'])\n",
    "c_18 = pd.melt(data[data['18_group'] != 0], id_vars=\"id\", value_vars=['fall_1', 'fall_2', 'fall_3', 'spring_1', 'spring_2', 'spring_3'])\n",
    "\n",
    "common = pd.merge(c_17.value, c_18.value, how=\"inner\").value.unique()\n",
    "common"
   ]
  },
  {
   "cell_type": "markdown",
   "metadata": {
    "id": "PYfX-Dr5hLu0"
   },
   "source": [
    "Методом исключения найдите курсы, которые предлагались только студентам 18-го года и только студентам 17-го года."
   ]
  },
  {
   "cell_type": "code",
   "execution_count": 26,
   "metadata": {},
   "outputs": [
    {
     "name": "stdout",
     "output_type": "stream",
     "text": [
      "Курсы только для студентов 17-го года: \n",
      "\n",
      "Глубинное обучение в обработке звука\n",
      "Анализ неструктурированных данных\n",
      "Байесовские методы машинного обучения\n",
      "Компьютерное зрение\n",
      "Проектирование и разработка высоконагруженных сервисов\n",
      "Конфликты и кооперация\n",
      "Символьные вычисления\n",
      "Методы сжатия и передачи медиаданных\n",
      "Обучение с подкреплением\n",
      "Генеративные модели в машинном обучении\n"
     ]
    }
   ],
   "source": [
    "print(\"Курсы только для студентов 17-го года: \\n\", *c_17[~c_17.value.isin(common)].value.unique().tolist(), sep='\\n')"
   ]
  },
  {
   "cell_type": "code",
   "execution_count": 27,
   "metadata": {
    "id": "G9SWBOpehLu1"
   },
   "outputs": [
    {
     "name": "stdout",
     "output_type": "stream",
     "text": [
      "Курсы только для студентов 18-го года: \n",
      "\n",
      "Язык SQL\n",
      "Теория баз данных\n",
      "Матричные вычисления\n",
      "Дискретная оптимизация\n",
      "Компьютерные сети\n",
      "Промышленное программирование на языке Java\n",
      "Дополнительные главы прикладной статистики\n",
      "Анализ данных в бизнесе\n",
      "Машинное обучение 2\n",
      "Системы баз данных\n"
     ]
    }
   ],
   "source": [
    "print(\"Курсы только для студентов 18-го года: \\n\", *c_18[~c_18.value.isin(common)].value.unique().tolist(), sep='\\n')"
   ]
  },
  {
   "cell_type": "markdown",
   "metadata": {
    "id": "uL45Tg5fhLu1"
   },
   "source": [
    "### Визуализации и matplotlib"
   ]
  },
  {
   "cell_type": "markdown",
   "metadata": {
    "id": "MY9lKmP2hLu1"
   },
   "source": [
    "При работе с данными часто неудобно делать какие-то выводы, если смотреть на таблицу и числа в частности, поэтому важно уметь визуализировать данные. Здесь будут описаны ключевые правила оформления графиков для **всех** домашних заданий.\n",
    "\n",
    "У matplotlib, конечно же, есть [документация](https://matplotlib.org/users/index.html) с большим количеством [примеров](https://matplotlib.org/examples/), но для начала достаточно знать про несколько основных типов графиков:\n",
    "- plot — обычный поточечный график, которым можно изображать кривые или отдельные точки;\n",
    "- hist — гистограмма, показывающая распределение некоторой величины;\n",
    "- scatter — график, показывающий взаимосвязь двух величин;\n",
    "- bar — столбцовый график, показывающий взаимосвязь количественной величины от категориальной.\n",
    "\n",
    "В этом задании вы попробуете построить один из них. Не забывайте про базовые принципы построения приличных графиков:\n",
    "- оси должны быть подписаны, причём не слишком мелко;\n",
    "- у графика должно быть название;\n",
    "- если изображено несколько графиков, то необходима поясняющая легенда;\n",
    "- все линии на графиках должны быть чётко видны (нет похожих цветов или цветов, сливающихся с фоном);\n",
    "- если отображена величина, имеющая очевидный диапазон значений (например, проценты могут быть от 0 до 100), то желательно масштабировать ось на весь диапазон значений (исключением является случай, когда вам необходимо показать малое отличие, которое незаметно в таких масштабах);\n",
    "- сетка на графике помогает оценить значения в точках на глаз, это обычно полезно, поэтому лучше ее отрисовывать;\n",
    "- если распределение на гистограмме имеет тяжёлые хвосты, лучше использовать логарифмическую шкалу.\n",
    "\n",
    "Еще одна билиотека для визуализации: [seaborn](https://jakevdp.github.io/PythonDataScienceHandbook/04.14-visualization-with-seaborn.html) (обычно сокращается до sns). Это настройка над matplotlib, иногда удобнее и красивее делать визуализации через неё. \n",
    "\n",
    "**5 пунктов после которых ваши графики не будут прежними:**\n",
    "- для красивой картинки <code>%config InlineBackend.figure_format = 'retina'</code>\n",
    "- задаем размер (почти) всех графиков (можно выбрать другие значения) <code>plt.rcParams['figure.figsize'] = 8, 5</code>\n",
    "- размер шрифта подписей графиков <code>plt.rcParams['font.size'] = 12</code>\n",
    "- формат в котором сохраняется изображение <code>mpl.rcParams['savefig.format'] = 'pdf'</code>\n",
    "- sns – seaborn, добавляет решетку <code>sns.set_style('darkgrid')</code>\n",
    "\n",
    "Добавьте эти функции в ячейку ниже. Каждый график все равно придется настраивать отдельно, но указанные строчки позволят значительно упростить процесс.  "
   ]
  },
  {
   "cell_type": "code",
   "execution_count": 28,
   "metadata": {
    "id": "na9doUOFhLu1"
   },
   "outputs": [],
   "source": [
    "%matplotlib inline\n",
    "import matplotlib.pyplot as plt\n",
    "import seaborn as sns\n",
    "\n",
    "%config InlineBackend.figure_format = 'retina' \n",
    "plt.rcParams['figure.figsize'] = 10, 6  \n",
    "plt.rcParams['font.size'] = 12 \n",
    "mpl.rcParams['savefig.format'] = 'pdf'         "
   ]
  },
  {
   "cell_type": "markdown",
   "metadata": {
    "id": "kikwLpxfhLu1"
   },
   "source": [
    "#### 8. [0.5 балла] Постройте график средних рейтингов по дням получения ответов (bar plot)."
   ]
  },
  {
   "cell_type": "code",
   "execution_count": 29,
   "metadata": {
    "id": "UTPLVeQvhLu2"
   },
   "outputs": [
    {
     "data": {
      "image/png": "[encoded data removed]",
      "text/plain": [
       "<Figure size 720x432 with 1 Axes>"
      ]
     },
     "metadata": {
      "image/png": {
       "height": 392,
       "width": 625
      },
      "needs_background": "light"
     },
     "output_type": "display_data"
    }
   ],
   "source": [
    "data['day'] = data.timestamp.astype(dtype='datetime64[D]')\n",
    "\n",
    "graph = data.groupby('day')['rating'].mean()\n",
    "plt.bar(graph.index, height=graph)\n",
    "\n",
    "plt.grid()\n",
    "plt.title(\"Средний рейтинг по дням\")\n",
    "plt.ylabel(\"Средний рейтинг\")\n",
    "plt.xlabel(\"Дата\")\n",
    "\n",
    "plt.savefig(\"average_rating_per_day.pdf\")\n",
    "\n",
    "plt.show()"
   ]
  },
  {
   "cell_type": "markdown",
   "metadata": {
    "id": "AmsQg9_xhLu2"
   },
   "source": [
    "Сохраните график в формате pdf (так он останется векторизованным)."
   ]
  },
  {
   "cell_type": "markdown",
   "metadata": {
    "id": "sCgWwjl0hLu2"
   },
   "source": [
    "### 2. Распределение студентов по курсам."
   ]
  },
  {
   "cell_type": "markdown",
   "metadata": {},
   "source": [
    "<span style=\"color:red\">!!!ВНИМАТЕЛЬНО ИЗУЧИТЕ ТЕКСТ НИЖЕ!!!</span>.\n",
    "\n",
    "<span style=\"color:orange\">Если во время выполнения заданий у вас вознинут вопросы -- еще раз перечитайте текст целиком, скорее всего ответы уже содержатся в нем.</span>"
   ]
  },
  {
   "cell_type": "markdown",
   "metadata": {
    "id": "VNqXUpr4hLu3"
   },
   "source": [
    "Теперь вам нужно распределить студентов по осенним курсам по выбору, учитывая их предпочтения."
   ]
  },
  {
   "cell_type": "markdown",
   "metadata": {
    "id": "5cAR2FgphLu3"
   },
   "source": [
    "Алгоритм распределения студентов по курсам:\n",
    "1. По умолчанию на каждой дисциплине по выбору у 3 и 4 курсов может учиться 1 группа (до 30 студентов). Исключения описаны ниже. На blended-дисциплинах для четверокурсников количество мест не ограничено.\n",
    "2. Проводится первая волна отбора. Для каждой дисциплины формируется список тех, кто указал её первым приоритетом (если студент должен выбрать два курса по выбору, то для него дисциплины, которые он указал первым и вторым приоритетом, рассматриваются как дисциплины первого приоритета). Если желающих больше, чем мест, то выбирается топ по перцентилю рейтинга.\n",
    "3. На дисциплинах, где остались места после первой волны, формируются списки тех, кто выбрал их вторым приоритетом, и места заполняются лучшими по перцентили рейтинга студентами. После этого проводится такая же процедура для дисциплин третьего приоритета.\n",
    "4. Если студент не попал на необходимое количество курсов по итогам трёх волн, с ним связывается учебный офис и решает вопрос в индивидуальном порядке."
   ]
  },
  {
   "cell_type": "markdown",
   "metadata": {
    "id": "BiNKVwS6hLu3"
   },
   "source": [
    "Обращаем ваше внимание на следующие детали:\n",
    "- Конкурс на каждый курс общий для 3-го и 4-го курса\n",
    "\n",
    "- По умолчанию студент выбирает один осенний и один весенний курс по выбору, а также четверокурсники выбирают один blended-курс. Студенты групп 17-го года специализаций МОП и ТИ выбирают по 2 осенних и 2 весенних курса по выбору, также студенты групп 18' специализации МИ выбирают 2 осенних курса. <i>Для студентов, которые выбирают 2 курса (например, осенних) первый приоритет — <code>fall_1</code> и <code>fall_2</code>, второй приоритет — <code>fall_3</code>. Такие студенты участвуют только в двух волнах отбора</i>.\n",
    "\n",
    "- Студенты специализации МОП не могут выбрать весенним курсом по выбору Машинное обучение 2. **Если студент специализации МОП выбрал Машинное обучение 2, то его приоритеты сдвигаются.** Из-за совпадений первого и второго курса по выбору двигать приоритеты не надо.\n",
    "\n",
    "- Blended-курсы не трогайте, по ним не надо распределять, на другие курсы они никак не влияют.\n",
    "\n",
    "- Заведомо известно, что в процессе распределения не возникнет ситуации, когда на одно место претендуют студенты с одинаковым перцентилем.\n",
    "\n",
    "- Постарайтесь воздержаться от использования циклов там, где это возможно. <i>Допустимо итерироваться по <b>курсам</b>, на которые проводится отбор, и по <b>волнам</b> отбора. Если вы придумаете, как обойтись и без этих циклов, то на усмотрение проверяющего могут быть добавлены бонусные баллы. <b>Дублирование кода не признается успешным избавлением от циклов</b></i>\n",
    "\n",
    "- На выходе ожидается файл res_fall.csv с результатами распределения на осенние курсы по выбору. Файл должен быть следующего формата:\n",
    "\n",
    "    * Три колонки: ID, course1, course2\n",
    "    \n",
    "    * Если студент не попал на курс, но должен был, то вместо названия курса в ячейке должна быть строка \"???\"\n",
    "    \n",
    "    * Если студент должен выбрать только один курс, то в колонке course2 для него должна стоять строка \"-\"\n",
    "    \n",
    "    * Если студент должен выбрать два курса по выбору, то порядок в колонках course1 и course2 не важен.\n",
    "    \n",
    "    * hint: для сохранения воспользуйтесь df.to_csv('solution.csv', index=None)\n",
    "    \n",
    "\n",
    "Для работы вам могут понадобиться следующие данные:\n",
    "\n",
    "- Результаты опроса (вы уже использовали этот файл в первой части задания, но на всякий случай ссылка: https://www.dropbox.com/s/f4rm8sjc3v99p0m/_end_seminar.xlsx?dl=0)\n",
    "\n",
    "- Соответствие номеров групп специализациям:\n",
    "\n",
    "    * 171, 172 - МОП; 173 - ТИ; 174 — АДИС; 175, 176 — РС; 177 — АПР\n",
    "    \n",
    "    * У студентов 18-го года номера групп соответствуют номерам до распределения по специализациям. Это означает, что по номеру группы 18* нельзя однозначно определить специализацию студента. При этом в рамках распределения важно знать информацию только о двух из них: МОП и МИ. Эти знание можно получить из колонок 'is_ml_student\n",
    "' и 'is_mi' соответственно.\n",
    "\n",
    "- Ограничения по количеству мест на курсах по выбору:\n",
    "\n",
    "    * Осенние: везде 30 мест, кроме Statistical Learning Theory (60 мест), Высокопроизводительных вычислений (60 мест), Анализа неструктурированных данных ($\\infty$ мест)\n",
    "\n",
    "    * Весенние: везде 30 мест, кроме Обучения с подкреплением (60 мест), Анализа данных в бизнесе (60 мест).\n",
    "\n",
    "\n",
    "Кстати, убедитесь, что в данных больше нет пропусков и повторных записей."
   ]
  },
  {
   "cell_type": "markdown",
   "metadata": {
    "id": "o5t55IcQhLu4"
   },
   "source": [
    "#### 0. Проверка\n",
    "\n",
    "Для начала давайте убедимся, что вы успешно выполнили задания первой части и проверим ваши данные на наличие пропусков и повторов:"
   ]
  },
  {
   "cell_type": "code",
   "execution_count": 30,
   "metadata": {},
   "outputs": [],
   "source": [
    "spec = {\"MOP\": set([171, 172, 181, 182]), \"TI\": set([173, 183]), \"ADIS\": set([174, 184]), \"RS\": set([175, 176, 185, 186]), \"APR\": set([177, 187]), \"MI\": set([188])}"
   ]
  },
  {
   "cell_type": "code",
   "execution_count": 31,
   "metadata": {},
   "outputs": [
    {
     "data": {
      "text/plain": [
       "3355"
      ]
     },
     "execution_count": 31,
     "metadata": {},
     "output_type": "execute_result"
    }
   ],
   "source": [
    "from gc import collect\n",
    "\n",
    "df = data.copy()\n",
    "del data\n",
    "collect()"
   ]
  },
  {
   "cell_type": "code",
   "execution_count": 32,
   "metadata": {
    "id": "34HWEdVdhLu4"
   },
   "outputs": [],
   "source": [
    "assert df.shape[0] == 347, 'В таблице остались повторы или потеряны данные'\n",
    "\n",
    "assert df.isna().sum().sum() == 0, 'В таблице остались пропуски'"
   ]
  },
  {
   "cell_type": "markdown",
   "metadata": {
    "id": "_ImUFyG3hLu4"
   },
   "source": [
    "Если вы не получили AssertionError, то можете продолжать."
   ]
  },
  {
   "cell_type": "markdown",
   "metadata": {
    "id": "LTGSwwvAhLu4"
   },
   "source": [
    "#### 1. [1 балл] Создайте новый признак, обозначающий, сколько осенних курсов должен выбрать студент\n",
    "\n",
    "В этом вам может помочь информация о специализации и группе стундента."
   ]
  },
  {
   "cell_type": "code",
   "execution_count": 33,
   "metadata": {},
   "outputs": [
    {
     "data": {
      "text/plain": [
       "[181, 182, 183, 171, 172, 173]"
      ]
     },
     "execution_count": 33,
     "metadata": {},
     "output_type": "execute_result"
    }
   ],
   "source": [
    "list(spec['MOP'] | spec['TI'])"
   ]
  },
  {
   "cell_type": "code",
   "execution_count": 34,
   "metadata": {},
   "outputs": [],
   "source": [
    "df['sum_fall'] = 1\n",
    "\n",
    "df.loc[(df['17_group'] > 0) & (df['17_group'].isin(spec['MOP'] | spec['TI'])), 'sum_fall'] += 1\n",
    "df.loc[(df['18_group'] > 0) & (df['is_mi']), 'sum_fall'] += 1\n",
    "\n",
    "remaining_fall = pd.DataFrame(df[['id', 'sum_fall']]).rename(columns={'sum_fall': 'remaining'})"
   ]
  },
  {
   "cell_type": "markdown",
   "metadata": {
    "id": "S47aq1sQhLu4"
   },
   "source": [
    "Проверка:"
   ]
  },
  {
   "cell_type": "code",
   "execution_count": 35,
   "metadata": {
    "id": "OlOgzDKDhLu5"
   },
   "outputs": [],
   "source": [
    "col_name = \"sum_fall\"\n",
    "\n",
    "assert(df[df['id'] == '2662600c2c37e11e62f6ee0b88452f22'][col_name] == 2).all()\n",
    "assert(df[df['id'] == 'd555d2805e1d93d4f023e57dc4c8f403'][col_name] == 2).all()\n",
    "assert(df[df['id'] == '8fe79f84f36e3a5d2d6745621321302c'][col_name] == 1).all()\n",
    "assert(df[df['id'] == 'e4caca755ee0bdd711e18fb8084958b5'][col_name] == 1).all()"
   ]
  },
  {
   "cell_type": "markdown",
   "metadata": {
    "id": "VtQYhwuPhLu5"
   },
   "source": [
    "#### 2. [2 балла] Распределите студентов в соответствии с первым приоритетом"
   ]
  },
  {
   "cell_type": "code",
   "execution_count": 36,
   "metadata": {},
   "outputs": [],
   "source": [
    "fall_columns = ['fall_1', 'fall_2', 'fall_3']\n",
    "spring_columns = ['spring_1', 'spring_2', 'spring_3']\n",
    "blended_columns = ['blended']\n",
    "fall_courses = pd.DataFrame(index=set(df[fall_columns].values.ravel('K')))\n",
    "spring_courses = pd.DataFrame(index=set(df[spring_columns].values.ravel('K')))\n",
    "blended_courses = pd.DataFrame(index=set(df[blended_columns].values.ravel('K')))\n",
    "\n",
    "fall_courses['left_cap'] = 30\n",
    "fall_courses.loc['Statistical Learning Theory', 'left_cap'] = 60\n",
    "fall_courses.loc['Высокопроизводительные вычисления', 'left_cap'] = 60\n",
    "fall_courses.loc['Анализ неструктурированных данных', 'left_cap'] = 1000\n",
    "\n",
    "spring_courses['left_cap'] = 30\n",
    "spring_courses.loc['Обучение с подкреплением', 'left_cap'] = 60\n",
    "spring_courses.loc['Анализ данных в бизнесе', 'left_cap'] = 60\n",
    "    \n",
    "blended_courses['left_cap'] = 500"
   ]
  },
  {
   "cell_type": "code",
   "execution_count": 37,
   "metadata": {},
   "outputs": [],
   "source": [
    "def step(candidates, capacity, answer, remaining):\n",
    "    grouped = candidates.groupby('course')\n",
    "    for course, group in grouped:\n",
    "        g_size = min(capacity.loc[course, 'left_cap'], group.shape[0])\n",
    "        if g_size != 0:\n",
    "            accepted = group.nsmallest(g_size, 'percentile')\n",
    "                \n",
    "            positions = answer.ID.isin(accepted.id.values)\n",
    "            empty_first = answer.course1.isna()\n",
    "            answer.loc[positions & empty_first, 'course1'] = course\n",
    "            answer.loc[positions & (~empty_first), 'course2'] = course\n",
    "\n",
    "            capacity.loc[course, 'left_cap'] -= g_size\n",
    "\n",
    "            remaining.loc[remaining.id.isin(accepted.id.values), 'remaining'] -= 1\n",
    "            df.loc[df.id == accepted.head(1).id.values[0], 'is_first_place'] = True\n",
    "            df.loc[df.id == accepted.tail(1).id.values[0], 'is_last_place'] = True"
   ]
  },
  {
   "cell_type": "code",
   "execution_count": 38,
   "metadata": {},
   "outputs": [
    {
     "name": "stderr",
     "output_type": "stream",
     "text": [
      "/tmp/ipykernel_198186/4181000579.py:6: FutureWarning: The frame.append method is deprecated and will be removed from pandas in a future version. Use pandas.concat instead.\n",
      "  candidates_first_fall = candidates_first_fall.append(df.loc[df['sum_fall'] == 2, ['id', 'percentile', 'fall_2']].rename(columns={'fall_2': 'course'}))\n",
      "/tmp/ipykernel_198186/4181000579.py:10: FutureWarning: The frame.append method is deprecated and will be removed from pandas in a future version. Use pandas.concat instead.\n",
      "  candidates_second_fall = candidates_second_fall.append(df.loc[(df['sum_fall'] == 2), ['id', 'percentile', 'fall_3']].rename(columns={'fall_3': 'course'})).drop_duplicates()\n"
     ]
    }
   ],
   "source": [
    "fall = pd.DataFrame(df['id']).rename(columns={'id': 'ID'})\n",
    "fall['course1'] = np.nan\n",
    "fall['course2'] = np.nan\n",
    "candidates_first_fall = df[['id', 'percentile', 'fall_1']].rename(columns={'fall_1': 'course'})\n",
    "\n",
    "candidates_first_fall = candidates_first_fall.append(df.loc[df['sum_fall'] == 2, ['id', 'percentile', 'fall_2']].rename(columns={'fall_2': 'course'}))\n",
    "candidates_first_fall['wave'] = 1\n",
    "\n",
    "candidates_second_fall = df.loc[(df['sum_fall'] != 2), ['id', 'percentile', 'fall_2']].rename(columns={'fall_2': 'course'})\n",
    "candidates_second_fall = candidates_second_fall.append(df.loc[(df['sum_fall'] == 2), ['id', 'percentile', 'fall_3']].rename(columns={'fall_3': 'course'})).drop_duplicates()\n",
    "candidates_second_fall['wave'] = 2\n",
    "\n",
    "candidates_third_fall = df.loc[df['sum_fall'] != 2, ['id', 'percentile', 'fall_3']].rename(columns={'fall_3': 'course'})\n",
    "candidates_third_fall['wave'] = 3"
   ]
  },
  {
   "cell_type": "code",
   "execution_count": 39,
   "metadata": {},
   "outputs": [],
   "source": [
    "candidates_fall =  pd.concat([candidates_first_fall, candidates_second_fall, candidates_third_fall])\n",
    "\n",
    "candidates_fall = candidates_fall.drop_duplicates(subset=['course', 'id'], keep='first')"
   ]
  },
  {
   "cell_type": "code",
   "execution_count": 40,
   "metadata": {},
   "outputs": [],
   "source": [
    "step(candidates_fall[(candidates_fall.wave == 1) & (candidates_fall.id.isin(remaining_fall[remaining_fall.remaining > 0].id.values))], fall_courses, fall, remaining_fall)"
   ]
  },
  {
   "cell_type": "code",
   "execution_count": 41,
   "metadata": {},
   "outputs": [
    {
     "data": {
      "text/plain": [
       "44"
      ]
     },
     "execution_count": 41,
     "metadata": {},
     "output_type": "execute_result"
    }
   ],
   "source": [
    "fall[(fall.course1 == 'Высокопроизводительные вычисления') | (fall.course2 == 'Высокопроизводительные вычисления')].shape[0]"
   ]
  },
  {
   "cell_type": "code",
   "execution_count": 42,
   "metadata": {},
   "outputs": [
    {
     "data": {
      "text/html": [
       "<div>\n",
       "<style scoped>\n",
       "    .dataframe tbody tr th:only-of-type {\n",
       "        vertical-align: middle;\n",
       "    }\n",
       "\n",
       "    .dataframe tbody tr th {\n",
       "        vertical-align: top;\n",
       "    }\n",
       "\n",
       "    .dataframe thead th {\n",
       "        text-align: right;\n",
       "    }\n",
       "</style>\n",
       "<table border=\"1\" class=\"dataframe\">\n",
       "  <thead>\n",
       "    <tr style=\"text-align: right;\">\n",
       "      <th></th>\n",
       "      <th>left_cap</th>\n",
       "    </tr>\n",
       "  </thead>\n",
       "  <tbody>\n",
       "    <tr>\n",
       "      <th>Безопасность компьютерных систем</th>\n",
       "      <td>0</td>\n",
       "    </tr>\n",
       "    <tr>\n",
       "      <th>Матричные вычисления</th>\n",
       "      <td>15</td>\n",
       "    </tr>\n",
       "    <tr>\n",
       "      <th>Глубинное обучение в обработке звука</th>\n",
       "      <td>7</td>\n",
       "    </tr>\n",
       "    <tr>\n",
       "      <th>Высокопроизводительные вычисления</th>\n",
       "      <td>16</td>\n",
       "    </tr>\n",
       "    <tr>\n",
       "      <th>Моделирование временных рядов</th>\n",
       "      <td>0</td>\n",
       "    </tr>\n",
       "    <tr>\n",
       "      <th>Теория баз данных</th>\n",
       "      <td>16</td>\n",
       "    </tr>\n",
       "    <tr>\n",
       "      <th>Принятие решений в условиях риска и неопределённости</th>\n",
       "      <td>22</td>\n",
       "    </tr>\n",
       "    <tr>\n",
       "      <th>Язык SQL</th>\n",
       "      <td>1</td>\n",
       "    </tr>\n",
       "    <tr>\n",
       "      <th>Анализ неструктурированных данных</th>\n",
       "      <td>952</td>\n",
       "    </tr>\n",
       "    <tr>\n",
       "      <th>Statistical Learning Theory</th>\n",
       "      <td>27</td>\n",
       "    </tr>\n",
       "    <tr>\n",
       "      <th>Байесовские методы машинного обучения</th>\n",
       "      <td>6</td>\n",
       "    </tr>\n",
       "    <tr>\n",
       "      <th>Сбор и обработка данных с помощью краудсорсинга</th>\n",
       "      <td>0</td>\n",
       "    </tr>\n",
       "  </tbody>\n",
       "</table>\n",
       "</div>"
      ],
      "text/plain": [
       "                                                    left_cap\n",
       "Безопасность компьютерных систем                           0\n",
       "Матричные вычисления                                      15\n",
       "Глубинное обучение в обработке звука                       7\n",
       "Высокопроизводительные вычисления                         16\n",
       "Моделирование временных рядов                              0\n",
       "Теория баз данных                                         16\n",
       "Принятие решений в условиях риска и неопределён...        22\n",
       "Язык SQL                                                   1\n",
       "Анализ неструктурированных данных                        952\n",
       "Statistical Learning Theory                               27\n",
       "Байесовские методы машинного обучения                      6\n",
       "Сбор и обработка данных с помощью краудсорсинга            0"
      ]
     },
     "execution_count": 42,
     "metadata": {},
     "output_type": "execute_result"
    }
   ],
   "source": [
    "fall_courses"
   ]
  },
  {
   "cell_type": "markdown",
   "metadata": {
    "id": "vc5zXP5hhLu5"
   },
   "source": [
    "Здесь для проверки приведена таблица, в которой есть 2 дополнительные колонки:\n",
    "    \n",
    "    1) is_first_place - является ли студент лучшим по перцентили хотя бы на одном из курсов, куда он был зачислен \n",
    "    (True / NaN)\n",
    "    \n",
    "    2) is_last_place  - является ли студент худшим по перцентили хотя бы на одном из курсов, куда он был зачислен (True / NaN)"
   ]
  },
  {
   "cell_type": "code",
   "execution_count": 43,
   "metadata": {
    "id": "uZTkGEq5hLu5"
   },
   "outputs": [],
   "source": [
    "!wget  -O '2_task_check.csv' -q 'https://www.dropbox.com/s/v8o2zzq3iz5gc9w/_2_task_check.csv?dl=0'\n",
    "check_df = pd.read_csv('2_task_check.csv')"
   ]
  },
  {
   "cell_type": "markdown",
   "metadata": {
    "id": "E_fbyB9qhLu5"
   },
   "source": [
    "После распределения студентов в соответствии с первым приоритетом добавьте в свой датафрейм аналогичные признаки и запустите проверку:"
   ]
  },
  {
   "cell_type": "code",
   "execution_count": 44,
   "metadata": {
    "id": "GOAzQeYehLu6"
   },
   "outputs": [],
   "source": [
    "fir_col_name = 'is_first_place'      # insert name of your new column with is_first_place as str\n",
    "last_col_name = 'is_last_place'     # insert name of your new column with is_last_place as str\n",
    "\n",
    "\n",
    "assert((df[df[fir_col_name].isna() == False][['id']].sort_values('id').reset_index(drop=True)\n",
    "        ==\n",
    "        check_df[check_df['is_first_place'].isna() == False][['id']].sort_values('id').reset_index(drop=True)\n",
    "       ).id.values).all()\n",
    "\n",
    "\n",
    "assert((df[df[last_col_name].isna() == False][['id']].sort_values('id').reset_index(drop=True)\n",
    "       == \n",
    "       check_df[check_df['is_last_place'].isna() == False][['id']].sort_values('id').reset_index(drop=True)\n",
    "      ).id.values).all()"
   ]
  },
  {
   "cell_type": "markdown",
   "metadata": {
    "id": "RO6DwNNFhLu6"
   },
   "source": [
    "#### 3. [3 балла] Проведите все три волны отбора студентов на курсы по выбору"
   ]
  },
  {
   "cell_type": "code",
   "execution_count": 45,
   "metadata": {},
   "outputs": [],
   "source": [
    "step(candidates_fall[(candidates_fall.wave == 2) & (candidates_fall.id.isin(remaining_fall[remaining_fall.remaining > 0].id.values))], fall_courses, fall, remaining_fall)"
   ]
  },
  {
   "cell_type": "code",
   "execution_count": 46,
   "metadata": {},
   "outputs": [],
   "source": [
    "step(candidates_fall[(candidates_fall.wave == 3) & (candidates_fall.id.isin(remaining_fall[remaining_fall.remaining > 0].id.values ))], fall_courses, fall, remaining_fall)"
   ]
  },
  {
   "cell_type": "code",
   "execution_count": 47,
   "metadata": {},
   "outputs": [
    {
     "data": {
      "text/html": [
       "<div>\n",
       "<style scoped>\n",
       "    .dataframe tbody tr th:only-of-type {\n",
       "        vertical-align: middle;\n",
       "    }\n",
       "\n",
       "    .dataframe tbody tr th {\n",
       "        vertical-align: top;\n",
       "    }\n",
       "\n",
       "    .dataframe thead th {\n",
       "        text-align: right;\n",
       "    }\n",
       "</style>\n",
       "<table border=\"1\" class=\"dataframe\">\n",
       "  <thead>\n",
       "    <tr style=\"text-align: right;\">\n",
       "      <th></th>\n",
       "      <th>ID</th>\n",
       "      <th>course1</th>\n",
       "      <th>course2</th>\n",
       "    </tr>\n",
       "  </thead>\n",
       "  <tbody>\n",
       "    <tr>\n",
       "      <th>51</th>\n",
       "      <td>28cd79966197dc97bafed62bc8c48bbd</td>\n",
       "      <td>Моделирование временных рядов</td>\n",
       "      <td>NaN</td>\n",
       "    </tr>\n",
       "    <tr>\n",
       "      <th>284</th>\n",
       "      <td>f36d508e6129c7b248cc707b71c2a551</td>\n",
       "      <td>Statistical Learning Theory</td>\n",
       "      <td>Сбор и обработка данных с помощью краудсорсинга</td>\n",
       "    </tr>\n",
       "    <tr>\n",
       "      <th>130</th>\n",
       "      <td>ac4e2062ca444a506991c212bd2dd872</td>\n",
       "      <td>Матричные вычисления</td>\n",
       "      <td>NaN</td>\n",
       "    </tr>\n",
       "    <tr>\n",
       "      <th>136</th>\n",
       "      <td>876b1fbacdfe36cb2e3927aea554b1ff</td>\n",
       "      <td>Моделирование временных рядов</td>\n",
       "      <td>Сбор и обработка данных с помощью краудсорсинга</td>\n",
       "    </tr>\n",
       "    <tr>\n",
       "      <th>307</th>\n",
       "      <td>ffc04c64d068f8d85e4dc44e7f297ecc</td>\n",
       "      <td>Statistical Learning Theory</td>\n",
       "      <td>Байесовские методы машинного обучения</td>\n",
       "    </tr>\n",
       "    <tr>\n",
       "      <th>34</th>\n",
       "      <td>9c656049fc55775bb9215d12aabf5881</td>\n",
       "      <td>Язык SQL</td>\n",
       "      <td>NaN</td>\n",
       "    </tr>\n",
       "    <tr>\n",
       "      <th>8</th>\n",
       "      <td>e8b314842f176be9051d14a07cb156cb</td>\n",
       "      <td>Язык SQL</td>\n",
       "      <td>NaN</td>\n",
       "    </tr>\n",
       "    <tr>\n",
       "      <th>234</th>\n",
       "      <td>308ec2ced0092de5474a1a8f4c0bfcfd</td>\n",
       "      <td>Высокопроизводительные вычисления</td>\n",
       "      <td>NaN</td>\n",
       "    </tr>\n",
       "    <tr>\n",
       "      <th>222</th>\n",
       "      <td>9d19b0d5f4fc8d7edc2258406f872c4e</td>\n",
       "      <td>Безопасность компьютерных систем</td>\n",
       "      <td>NaN</td>\n",
       "    </tr>\n",
       "    <tr>\n",
       "      <th>279</th>\n",
       "      <td>6ef08b5cfd42ecdd713466cb4b7b41b7</td>\n",
       "      <td>Высокопроизводительные вычисления</td>\n",
       "      <td>NaN</td>\n",
       "    </tr>\n",
       "  </tbody>\n",
       "</table>\n",
       "</div>"
      ],
      "text/plain": [
       "                                   ID                            course1  \\\n",
       "51   28cd79966197dc97bafed62bc8c48bbd      Моделирование временных рядов   \n",
       "284  f36d508e6129c7b248cc707b71c2a551        Statistical Learning Theory   \n",
       "130  ac4e2062ca444a506991c212bd2dd872               Матричные вычисления   \n",
       "136  876b1fbacdfe36cb2e3927aea554b1ff      Моделирование временных рядов   \n",
       "307  ffc04c64d068f8d85e4dc44e7f297ecc        Statistical Learning Theory   \n",
       "34   9c656049fc55775bb9215d12aabf5881                           Язык SQL   \n",
       "8    e8b314842f176be9051d14a07cb156cb                           Язык SQL   \n",
       "234  308ec2ced0092de5474a1a8f4c0bfcfd  Высокопроизводительные вычисления   \n",
       "222  9d19b0d5f4fc8d7edc2258406f872c4e   Безопасность компьютерных систем   \n",
       "279  6ef08b5cfd42ecdd713466cb4b7b41b7  Высокопроизводительные вычисления   \n",
       "\n",
       "                                             course2  \n",
       "51                                               NaN  \n",
       "284  Сбор и обработка данных с помощью краудсорсинга  \n",
       "130                                              NaN  \n",
       "136  Сбор и обработка данных с помощью краудсорсинга  \n",
       "307            Байесовские методы машинного обучения  \n",
       "34                                               NaN  \n",
       "8                                                NaN  \n",
       "234                                              NaN  \n",
       "222                                              NaN  \n",
       "279                                              NaN  "
      ]
     },
     "execution_count": 47,
     "metadata": {},
     "output_type": "execute_result"
    }
   ],
   "source": [
    "fall.sample(10)"
   ]
  },
  {
   "cell_type": "code",
   "execution_count": 48,
   "metadata": {},
   "outputs": [],
   "source": [
    "fall.course1 = fall.course1.fillna('???')\n",
    "fall.loc[(fall.ID.isin(df.loc[df.sum_fall == 2, 'id'])) & (fall.course2.isna()), 'course2'] = '???'\n",
    "\n",
    "fall = fall.fillna('-')"
   ]
  },
  {
   "cell_type": "code",
   "execution_count": 49,
   "metadata": {},
   "outputs": [
    {
     "data": {
      "text/plain": [
       "(60, 3)"
      ]
     },
     "execution_count": 49,
     "metadata": {},
     "output_type": "execute_result"
    }
   ],
   "source": [
    "fall[(fall.course1 == 'Высокопроизводительные вычисления') | (fall.course2 == 'Высокопроизводительные вычисления')].shape"
   ]
  },
  {
   "cell_type": "code",
   "execution_count": 50,
   "metadata": {},
   "outputs": [
    {
     "data": {
      "text/html": [
       "<div>\n",
       "<style scoped>\n",
       "    .dataframe tbody tr th:only-of-type {\n",
       "        vertical-align: middle;\n",
       "    }\n",
       "\n",
       "    .dataframe tbody tr th {\n",
       "        vertical-align: top;\n",
       "    }\n",
       "\n",
       "    .dataframe thead th {\n",
       "        text-align: right;\n",
       "    }\n",
       "</style>\n",
       "<table border=\"1\" class=\"dataframe\">\n",
       "  <thead>\n",
       "    <tr style=\"text-align: right;\">\n",
       "      <th></th>\n",
       "      <th>left_cap</th>\n",
       "    </tr>\n",
       "  </thead>\n",
       "  <tbody>\n",
       "    <tr>\n",
       "      <th>Безопасность компьютерных систем</th>\n",
       "      <td>0</td>\n",
       "    </tr>\n",
       "    <tr>\n",
       "      <th>Матричные вычисления</th>\n",
       "      <td>0</td>\n",
       "    </tr>\n",
       "    <tr>\n",
       "      <th>Глубинное обучение в обработке звука</th>\n",
       "      <td>0</td>\n",
       "    </tr>\n",
       "    <tr>\n",
       "      <th>Высокопроизводительные вычисления</th>\n",
       "      <td>0</td>\n",
       "    </tr>\n",
       "    <tr>\n",
       "      <th>Моделирование временных рядов</th>\n",
       "      <td>0</td>\n",
       "    </tr>\n",
       "    <tr>\n",
       "      <th>Теория баз данных</th>\n",
       "      <td>6</td>\n",
       "    </tr>\n",
       "    <tr>\n",
       "      <th>Принятие решений в условиях риска и неопределённости</th>\n",
       "      <td>20</td>\n",
       "    </tr>\n",
       "    <tr>\n",
       "      <th>Язык SQL</th>\n",
       "      <td>0</td>\n",
       "    </tr>\n",
       "    <tr>\n",
       "      <th>Анализ неструктурированных данных</th>\n",
       "      <td>944</td>\n",
       "    </tr>\n",
       "    <tr>\n",
       "      <th>Statistical Learning Theory</th>\n",
       "      <td>17</td>\n",
       "    </tr>\n",
       "    <tr>\n",
       "      <th>Байесовские методы машинного обучения</th>\n",
       "      <td>5</td>\n",
       "    </tr>\n",
       "    <tr>\n",
       "      <th>Сбор и обработка данных с помощью краудсорсинга</th>\n",
       "      <td>0</td>\n",
       "    </tr>\n",
       "  </tbody>\n",
       "</table>\n",
       "</div>"
      ],
      "text/plain": [
       "                                                    left_cap\n",
       "Безопасность компьютерных систем                           0\n",
       "Матричные вычисления                                       0\n",
       "Глубинное обучение в обработке звука                       0\n",
       "Высокопроизводительные вычисления                          0\n",
       "Моделирование временных рядов                              0\n",
       "Теория баз данных                                          6\n",
       "Принятие решений в условиях риска и неопределён...        20\n",
       "Язык SQL                                                   0\n",
       "Анализ неструктурированных данных                        944\n",
       "Statistical Learning Theory                               17\n",
       "Байесовские методы машинного обучения                      5\n",
       "Сбор и обработка данных с помощью краудсорсинга            0"
      ]
     },
     "execution_count": 50,
     "metadata": {},
     "output_type": "execute_result"
    }
   ],
   "source": [
    "fall_courses"
   ]
  },
  {
   "cell_type": "code",
   "execution_count": 51,
   "metadata": {},
   "outputs": [],
   "source": [
    "fall.to_csv('res_fall.csv', index=None)"
   ]
  },
  {
   "cell_type": "markdown",
   "metadata": {
    "id": "1xQjV9BuhLu6"
   },
   "source": [
    "**Отправьте свой файл res_fall.csv в контест (https://contest.yandex.ru/contest/40211/problems/A/) и прикрепите/укажите ниже ваш никнейм и ссылку на успешную посылку.**"
   ]
  },
  {
   "cell_type": "markdown",
   "metadata": {},
   "source": [
    "https://contest.yandex.ru/contest/40211/run-report/70718913/\n",
    "drbiktimirov@edu.hse.ru"
   ]
  },
  {
   "cell_type": "markdown",
   "metadata": {
    "id": "QRTbPrgbhLu6"
   },
   "source": [
    "*Дисклеймер:*\n",
    "\n",
    "Успешная посылка в контесте является **обязательным** условием получения полного балла за этот (и следующий) пункт. Если добиться успешной посылки не удастся, баллы будут выставляться на усмотрение проверяюшего. \n",
    "\n",
    "При этом ОК в контесте не гарантирует полный балл. Оценка всё равно может быть снижена в случае обнаружения неэффективностей или ошибок в коде. Если вы сдадите в AnyTask очевидно неработающий код или ноутбук без кода, но при этом в контест будет сдан корректный файл, то это будет расцениваться как плагиат."
   ]
  },
  {
   "cell_type": "markdown",
   "metadata": {
    "id": "1IkQa_gdhLu6"
   },
   "source": [
    "На всякий случай просим вас сдать вместе с ноутбуком файл res_fall.csv в anytask"
   ]
  },
  {
   "cell_type": "markdown",
   "metadata": {
    "id": "k8d711qGhLu7"
   },
   "source": [
    "**Дополнительное задание. [2 бонусных балла] Распределите таким же образом студентов еще и на весенние курсы по выбору.**\n",
    "\n",
    "Если ваш код был хорошо структурирован, то это не составит проблем. \n",
    "\n",
    "Если вы выполнили это задание, сдайте среди прочего файл res_spring.csv в таком же формате, как и res_fall.csv."
   ]
  },
  {
   "cell_type": "markdown",
   "metadata": {
    "id": "It7QQZLYhLu7"
   },
   "source": [
    "**Отправьте свой файл res_spring.csv в контест (https://contest.yandex.ru/contest/40211/problems/B/) и прикрепите/укажите ниже ваш никнейм и ссылку на успешную посылку.**"
   ]
  },
  {
   "cell_type": "markdown",
   "metadata": {
    "id": "1YcouVTihLu7"
   },
   "source": [
    "На всякий случай просим вас сдать вместе с ноутбуком файл res_spring.csv в anytask"
   ]
  },
  {
   "cell_type": "markdown",
   "metadata": {
    "id": "uY_OY6inhLu7"
   },
   "source": [
    "Вставьте картинку, описывающую ваш опыт выполнения этого задания:"
   ]
  },
  {
   "cell_type": "code",
   "execution_count": null,
   "metadata": {
    "id": "R9_7CnSFhLu7"
   },
   "outputs": [],
   "source": []
  }
 ],
 "metadata": {
  "colab": {
   "name": "homework-practice-01-pandas.ipynb",
   "provenance": []
  },
  "kernelspec": {
   "display_name": "Python 3 (ipykernel)",
   "language": "python",
   "name": "python3"
  },
  "language_info": {
   "codemirror_mode": {
    "name": "ipython",
    "version": 3
   },
   "file_extension": ".py",
   "mimetype": "text/x-python",
   "name": "python",
   "nbconvert_exporter": "python",
   "pygments_lexer": "ipython3",
   "version": "3.10.11"
  },
  "varInspector": {
   "cols": {
    "lenName": 16,
    "lenType": 16,
    "lenVar": 40
   },
   "kernels_config": {
    "python": {
     "delete_cmd_postfix": "",
     "delete_cmd_prefix": "del ",
     "library": "var_list.py",
     "varRefreshCmd": "print(var_dic_list())"
    },
    "r": {
     "delete_cmd_postfix": ") ",
     "delete_cmd_prefix": "rm(",
     "library": "var_list.r",
     "varRefreshCmd": "cat(var_dic_list()) "
    }
   },
   "types_to_exclude": [
    "module",
    "function",
    "builtin_function_or_method",
    "instance",
    "_Feature"
   ],
   "window_display": false
  },
  "vscode": {
   "interpreter": {
    "hash": "e7370f93d1d0cde622a1f8e1c04877d8463912d04d973331ad4851f04de6915a"
   }
  }
 },
 "nbformat": 4,
 "nbformat_minor": 1
}

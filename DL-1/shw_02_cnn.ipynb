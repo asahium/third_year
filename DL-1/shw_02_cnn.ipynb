{
  "cells": [
    {
      "cell_type": "markdown",
      "metadata": {
        "id": "w35Q6hOIy4sk"
      },
      "source": [
        "# Глубинное обучение 1 / Введение в глубинное обучение, ФКН ВШЭ\n",
        "\n",
        "## Домашнее задание 2: сверточный классификатор.\n",
        "\n",
        "### Общая информация\n",
        "\n",
        "Оценка после штрафа после мягкого дедлайна вычисляется по формуле $M_{\\text{penalty}} = M_{\\text{full}} \\cdot 0.85^{t/1440}$, где $M_{\\text{full}}$ — полная оценка за работу без учета штрафа, а $t$ — время в минутах, прошедшее после мягкого дедлайна (округление до двух цифр после запятой). Таким образом, спустя первые сутки после мягкого дедлайна вы не можете получить оценку выше 8.5, а если сдать через четыре дня после мягкого дедлайна, то ваш максимум — 5.22 балла.\n",
        "\n",
        "### Оценивание и штрафы\n",
        "\n",
        "Максимально допустимая оценка за работу — 10 баллов. Сдавать задание после указанного срока сдачи нельзя.\n",
        "\n",
        "Задание выполняется самостоятельно. «Похожие» решения считаются плагиатом и все задействованные студенты (в том числе те, у кого списали) не могут получить за него больше 0 баллов. Если вы нашли решение какого-то из заданий (или его часть) в открытом источнике, необходимо указать ссылку на этот источник в отдельном блоке в конце вашей работы (скорее всего вы будете не единственным, кто это нашел, поэтому чтобы исключить подозрение в плагиате, необходима ссылка на источник).\n",
        "\n",
        "Неэффективная реализация кода может негативно отразиться на оценке. Также оценка может быть снижена за плохо читаемый код и плохо оформленные графики. Все ответы должны сопровождаться кодом или комментариями о том, как они были получены.\n",
        "\n",
        "### О задании\n",
        "\n",
        "В этом задании вам предстоит познакомиться со сверточными сетями и их обучением для классификации изображений с использованием библиотеки PyTorch.\n"
      ]
    },
    {
      "cell_type": "code",
      "execution_count": 1,
      "metadata": {
        "id": "SaACifdX2QOo"
      },
      "outputs": [],
      "source": [
        "import torch\n",
        "import torch.nn as nn\n",
        "import torch.nn.functional as F\n",
        "import torch.optim as optim\n",
        "import torchvision\n",
        "import torchvision.transforms as transforms\n",
        "\n",
        "import matplotlib.pyplot as plt\n",
        "import numpy as np\n",
        "\n",
        "from sklearn.model_selection import train_test_split"
      ]
    },
    {
      "cell_type": "markdown",
      "metadata": {
        "id": "TIXaUYM-0JFl"
      },
      "source": [
        "## 0. Загрузка данных\n",
        "\n",
        "Работать мы будем с набором данных [CIFAR10](https://www.cs.toronto.edu/~kriz/cifar.html). CIFAR10 представляет собой набор изображений 32х32 пикселя, разделенных на 10 классов.\n",
        "\n",
        "![title](https://pytorch.org/tutorials/_images/cifar10.png)\n",
        "\n",
        "\n"
      ]
    },
    {
      "cell_type": "markdown",
      "metadata": {
        "id": "g-0EEjl_10vB"
      },
      "source": [
        "Набор данных уже определен в <code>torchvision.datasets</code>, так что возьмем его оттуда. \n",
        "\n"
      ]
    },
    {
      "cell_type": "code",
      "execution_count": 2,
      "metadata": {
        "id": "Cbwe92dT3aPZ"
      },
      "outputs": [],
      "source": [
        "def get_cifar10_data(batch_size, transform_train):\n",
        "    torch.manual_seed(0)\n",
        "    np.random.seed(0)\n",
        "\n",
        "    transform_test = transforms.Compose(\n",
        "        [transforms.ToTensor(),\n",
        "         # Переводим цвета пикселей в отрезок [-1, 1]\n",
        "         transforms.Normalize((0.5, 0.5, 0.5), (0.5, 0.5, 0.5))]\n",
        "    )\n",
        "    \n",
        "    # Загружаем данные\n",
        "    trainvalset = torchvision.datasets.CIFAR10(root='./data', train=True,\n",
        "                                               download=True, transform=transform_train)\n",
        "    testset = torchvision.datasets.CIFAR10(root='./data', train=False,\n",
        "                                           download=True, transform=transform_test)\n",
        "    \n",
        "    # В датасете определено разбиение только на train и test,\n",
        "    # так что валидацию дополнительно выделяем из обучающей выборки\n",
        "    train_idx, valid_idx = train_test_split(np.arange(len(trainvalset)), test_size=0.3, \n",
        "                                            shuffle=True, random_state=0)\n",
        "    trainset = torch.utils.data.Subset(trainvalset, train_idx)\n",
        "    valset = torch.utils.data.Subset(trainvalset, valid_idx)\n",
        "\n",
        "    train_loader = torch.utils.data.DataLoader(trainset, batch_size=batch_size,\n",
        "                                               shuffle=True, num_workers=2)\n",
        "    val_loader = torch.utils.data.DataLoader(valset, batch_size=batch_size,\n",
        "                                             shuffle=False, num_workers=2)\n",
        "    test_loader = torch.utils.data.DataLoader(testset, batch_size=batch_size,\n",
        "                                              shuffle=False, num_workers=2)\n",
        "    \n",
        "    return train_loader, val_loader, test_loader\n",
        "    "
      ]
    },
    {
      "cell_type": "code",
      "execution_count": 3,
      "metadata": {
        "colab": {
          "base_uri": "https://localhost:8080/",
          "height": 112,
          "referenced_widgets": [
            "2b1d1cd4fd0f41c39ebc37280c2fdd1d",
            "fc466022148d44c8af559aeabfe83f0e",
            "24381801b31e4daeb8c30c3980e6e5e5",
            "48643c2ae05846cc8b52d40a02f71406",
            "c532869b04f348a7a4d0cb5748144af0",
            "5e51d32d463e4c96af69f549328f47c1",
            "6eec80126b0d49259b8b02867e1d08ef",
            "cb87da8a318d41519deb4c7885953b70",
            "097adbcff1584ab0939d32aec137a595",
            "91aa1abd413e4e9a8454210f588cb73b",
            "c289eeba8c914f0f9cb3d6a914ddf49f"
          ]
        },
        "id": "2G2rLnN5y6Jj",
        "outputId": "a9f2c016-a0fd-40da-cdd0-a63c3c49ef7a"
      },
      "outputs": [
        {
          "output_type": "stream",
          "name": "stdout",
          "text": [
            "Downloading https://www.cs.toronto.edu/~kriz/cifar-10-python.tar.gz to ./data/cifar-10-python.tar.gz\n"
          ]
        },
        {
          "output_type": "display_data",
          "data": {
            "text/plain": [
              "  0%|          | 0/170498071 [00:00<?, ?it/s]"
            ],
            "application/vnd.jupyter.widget-view+json": {
              "version_major": 2,
              "version_minor": 0,
              "model_id": "2b1d1cd4fd0f41c39ebc37280c2fdd1d"
            }
          },
          "metadata": {}
        },
        {
          "output_type": "stream",
          "name": "stdout",
          "text": [
            "Extracting ./data/cifar-10-python.tar.gz to ./data\n",
            "Files already downloaded and verified\n"
          ]
        }
      ],
      "source": [
        "transform = transforms.Compose(\n",
        "        [transforms.ToTensor(),\n",
        "         transforms.Normalize((0.5, 0.5, 0.5), (0.5, 0.5, 0.5))]\n",
        ")\n",
        "\n",
        "train_loader, val_loader, test_loader = get_cifar10_data(batch_size=64, \n",
        "                                                         transform_train=transform)"
      ]
    },
    {
      "cell_type": "markdown",
      "metadata": {
        "id": "-82HWgXs77W1"
      },
      "source": [
        "Посмотрим на изображения:"
      ]
    },
    {
      "cell_type": "code",
      "execution_count": 4,
      "metadata": {
        "colab": {
          "base_uri": "https://localhost:8080/",
          "height": 159
        },
        "id": "ACnwaC5iy6L2",
        "outputId": "9326ed81-713b-49af-89f5-2dd972e129f4"
      },
      "outputs": [
        {
          "output_type": "display_data",
          "data": {
            "text/plain": [
              "<Figure size 432x288 with 1 Axes>"
            ],
            "image/png": "[encoded data removed]"
          },
          "metadata": {
            "needs_background": "light"
          }
        },
        {
          "output_type": "stream",
          "name": "stdout",
          "text": [
            "ship frog horse horse\n"
          ]
        }
      ],
      "source": [
        "def imshow(img):\n",
        "    img = img / 2 + 0.5    \n",
        "    npimg = img.numpy()\n",
        "    plt.imshow(np.transpose(npimg, (1, 2, 0)))\n",
        "    plt.show()\n",
        "\n",
        "\n",
        "dataiter = iter(train_loader)\n",
        "images, labels = next(dataiter)\n",
        "\n",
        "imshow(torchvision.utils.make_grid(images[:4]))\n",
        "\n",
        "classes = ('plane', 'car', 'bird', 'cat',\n",
        "           'deer', 'dog', 'frog', 'horse', 'ship', 'truck')\n",
        "print(*[classes[labels[i]] for i in range(4)])"
      ]
    },
    {
      "cell_type": "markdown",
      "metadata": {
        "id": "KFDilng29YZ_"
      },
      "source": [
        "## 1. Задание сверточной сети (3 балла)"
      ]
    },
    {
      "cell_type": "markdown",
      "metadata": {
        "id": "OX7Ul8YbYdQR"
      },
      "source": [
        "Теперь нам нужно задать сверточную нейронную сеть, которую мы будем обучать классифицировать изображения.\n",
        "\n",
        "Используем сеть, основанную на одном блоке архитектуры ResNet.\n",
        "\n",
        "<img src=\"https://i.ibb.co/2hg962h/basic-block.png\" width=\"500\"/>\n",
        "\n",
        "__Указания:__\n",
        "\n",
        "- Все сверточные слои должны иметь 32 выходных канала, а также не должны изменять ширину и высоту изображения.\n",
        "- Выход блока сократите до размерности 32х4х4, применив average pooling.\n",
        "- Для получения итоговых логитов, распрямите выход пулинга в вектор из 512 элементов, а затем пропустите его через линейный слой."
      ]
    },
    {
      "cell_type": "markdown",
      "metadata": {
        "id": "sbyIylT9O9Dr"
      },
      "source": [
        "**Задание 1.1 (3 балла).**\n",
        "\n",
        "Определите архитектуру сети соответственно схеме и указаниям выше.\n",
        "\n",
        "Ключевые слова: <code>Conv2d</code>, <code>BatchNorm2d</code>, <code>AvgPool2d</code>."
      ]
    },
    {
      "cell_type": "code",
      "execution_count": 5,
      "metadata": {
        "id": "s9ml1QGKy6N9"
      },
      "outputs": [],
      "source": [
        "n_classes = 10\n",
        "\n",
        "class BasicBlockNet(nn.Module):\n",
        "    def __init__(self):\n",
        "        super().__init__()\n",
        "        self.num_out_channels = 32\n",
        "        self.pooling_size = 4\n",
        "        self.fc_input_size = self.pooling_size * self.pooling_size * self.num_out_channels\n",
        "        self.block_head = nn.Sequential(\n",
        "            nn.Conv2d(in_channels=3, out_channels=self.num_out_channels, kernel_size=3, padding='same'),\n",
        "            nn.BatchNorm2d(self.num_out_channels),\n",
        "            nn.ReLU(),\n",
        "            nn.Conv2d(in_channels=self.num_out_channels, out_channels=self.num_out_channels, kernel_size=3, padding='same'),\n",
        "            nn.BatchNorm2d(self.num_out_channels)\n",
        "        )\n",
        "        self.conv1x1 = nn.Conv2d(in_channels=3, out_channels=self.num_out_channels, kernel_size=1)\n",
        "        self.block_end = nn.Sequential(\n",
        "            nn.ReLU(),\n",
        "            nn.AvgPool2d(self.num_out_channels // self.pooling_size)\n",
        "        )\n",
        "        self.fc = nn.Linear(in_features=self.fc_input_size, out_features=n_classes)\n",
        "\n",
        "    def forward(self, x):\n",
        "        out = self.block_head(x) + self.conv1x1(x)\n",
        "        out = self.block_end(out)\n",
        "        out = self.fc(out.reshape(x.shape[0], self.fc_input_size))\n",
        "        return out"
      ]
    },
    {
      "cell_type": "code",
      "execution_count": 6,
      "metadata": {
        "id": "FI4BQg7Ky6Pw",
        "colab": {
          "base_uri": "https://localhost:8080/"
        },
        "outputId": "297075c5-ce82-401f-f0ad-f143f549bc37"
      },
      "outputs": [
        {
          "output_type": "execute_result",
          "data": {
            "text/plain": [
              "BasicBlockNet(\n",
              "  (block_head): Sequential(\n",
              "    (0): Conv2d(3, 32, kernel_size=(3, 3), stride=(1, 1), padding=same)\n",
              "    (1): BatchNorm2d(32, eps=1e-05, momentum=0.1, affine=True, track_running_stats=True)\n",
              "    (2): ReLU()\n",
              "    (3): Conv2d(32, 32, kernel_size=(3, 3), stride=(1, 1), padding=same)\n",
              "    (4): BatchNorm2d(32, eps=1e-05, momentum=0.1, affine=True, track_running_stats=True)\n",
              "  )\n",
              "  (conv1x1): Conv2d(3, 32, kernel_size=(1, 1), stride=(1, 1))\n",
              "  (block_end): Sequential(\n",
              "    (0): ReLU()\n",
              "    (1): AvgPool2d(kernel_size=8, stride=8, padding=0)\n",
              "  )\n",
              "  (fc): Linear(in_features=512, out_features=10, bias=True)\n",
              ")"
            ]
          },
          "metadata": {},
          "execution_count": 6
        }
      ],
      "source": [
        "net = BasicBlockNet()\n",
        "net"
      ]
    },
    {
      "cell_type": "markdown",
      "metadata": {
        "id": "igPoGZEub8d3"
      },
      "source": [
        "Проверим, что выход сети имеет корректную размерность:"
      ]
    },
    {
      "cell_type": "code",
      "execution_count": 7,
      "metadata": {
        "id": "cCIzFUpJ_Agw"
      },
      "outputs": [],
      "source": [
        "assert net(torch.zeros((10, 3, 32, 32))).shape == (10, 10)"
      ]
    },
    {
      "cell_type": "markdown",
      "metadata": {
        "id": "08osX622cDGz"
      },
      "source": [
        "Чтобы проводить вычисления на GPU, в PyTorch необходимо руками перекладывать объекты, с которыми вы хотите проводить вычисления, на графический ускоритель. Это делается следующим образрм:"
      ]
    },
    {
      "cell_type": "code",
      "execution_count": 8,
      "metadata": {
        "id": "56hDOMCFcDZX",
        "colab": {
          "base_uri": "https://localhost:8080/"
        },
        "outputId": "542bd854-50fb-454b-ad94-e1dbb50265dd"
      },
      "outputs": [
        {
          "output_type": "stream",
          "name": "stdout",
          "text": [
            "cuda:0\n"
          ]
        }
      ],
      "source": [
        "device = torch.device('cuda:0' if torch.cuda.is_available() else 'cpu')\n",
        "print(device)"
      ]
    },
    {
      "cell_type": "code",
      "execution_count": 9,
      "metadata": {
        "id": "ohnDWbp0qbtC"
      },
      "outputs": [],
      "source": [
        "net = net.to(device)"
      ]
    },
    {
      "cell_type": "markdown",
      "metadata": {
        "id": "H_bOlTVUp5QF"
      },
      "source": [
        "Подключение GPU в google.colab:\n",
        "\n",
        "**Среда выполнения** -> **Сменить среду выполнения** -> **Аппаратный ускоритель** -> **GPU**"
      ]
    },
    {
      "cell_type": "markdown",
      "metadata": {
        "id": "AGi6XX_7_Bgg"
      },
      "source": [
        "## 2. Обучение и тестирование модели (3 балла)"
      ]
    },
    {
      "cell_type": "markdown",
      "metadata": {
        "id": "0agj_MQoO9Ds"
      },
      "source": [
        "**Задание 2.1 (2 балла).** Переходим к обучению модели. Заполните пропуски в функциях <code>test</code> и <code>train_epoch</code>. В качестве функции потерь будем использовать [кросс-энтропию](https://pytorch.org/docs/stable/generated/torch.nn.functional.cross_entropy.html), а в качестве метрики качества accuracy."
      ]
    },
    {
      "cell_type": "code",
      "execution_count": 19,
      "metadata": {
        "id": "g8gsPPRIevDS"
      },
      "outputs": [],
      "source": [
        "def test(model, loader):\n",
        "    loss_log = []\n",
        "    acc_log = []\n",
        "    model.eval()\n",
        "    criterion = nn.CrossEntropyLoss()\n",
        "\n",
        "    for data, target in loader:\n",
        "        data = data.to(device)\n",
        "        target = target.to(device)\n",
        "        out = model(data)\n",
        "        loss = criterion(out, target)\n",
        "        loss_log.append(loss.item())\n",
        "        acc = (torch.argmax(out, dim=1) == target).sum() / target.shape[0]\n",
        "        acc_log.append(acc.item()) \n",
        "        \n",
        "    return np.mean(loss_log), np.mean(acc_log)\n",
        "\n",
        "def train_epoch(model, optimizer, train_loader):\n",
        "    loss_log = []\n",
        "    acc_log = []\n",
        "    model.train()\n",
        "    criterion = nn.CrossEntropyLoss()\n",
        "\n",
        "    for data, target in train_loader:\n",
        "        data = data.to(device)\n",
        "        target = target.to(device)\n",
        "        optimizer.zero_grad()\n",
        "        out = model(data)\n",
        "        loss = criterion(out, target)\n",
        "        loss_log.append(loss.item())\n",
        "        loss.backward()\n",
        "        optimizer.step()\n",
        "        acc = (torch.argmax(out, dim=1) == target).sum() / target.shape[0]\n",
        "        acc_log.append(acc.item()) \n",
        "\n",
        "    return loss_log, acc_log\n",
        "\n",
        "def train(model, optimizer, n_epochs, train_loader, val_loader, scheduler=None):\n",
        "    train_loss_log, train_acc_log, val_loss_log, val_acc_log = [], [], [], []\n",
        "\n",
        "    for epoch in range(n_epochs):\n",
        "        train_loss, train_acc = train_epoch(model, optimizer, train_loader)\n",
        "        val_loss, val_acc = test(model, val_loader)\n",
        "        \n",
        "        train_loss_log.extend(train_loss)\n",
        "        train_acc_log.extend(train_acc)\n",
        "        \n",
        "        val_loss_log.append(val_loss)\n",
        "        val_acc_log.append(val_acc)\n",
        "\n",
        "        print(f\"Epoch {epoch}\")\n",
        "        print(f\" train loss: {np.mean(train_loss)}, train acc: {np.mean(train_acc)}\")\n",
        "        print(f\" val loss: {val_loss}, val acc: {val_acc}\\n\")\n",
        "        \n",
        "        if scheduler is not None:\n",
        "            scheduler.step()\n",
        "\n",
        "    return train_loss_log, train_acc_log, val_loss_log, val_acc_log"
      ]
    },
    {
      "cell_type": "markdown",
      "metadata": {
        "id": "iSOqk_CAO9Dt"
      },
      "source": [
        "Запустим обучение модели. В качестве оптимизатора будем использовать стохастический градиентный спуск, который является де-факто стандартом в задачах компьютерного зрения (наравне с <code>Adam</code>).\n",
        "\n",
        "__Замечание:__ Для достижения наилучшего качества в нашем случае потребуется обучать модель несколько сотен эпох. Однако в целях экономии вашего времени и сил, во всех экспериментах мы ограничимся 20 эпохами."
      ]
    },
    {
      "cell_type": "code",
      "execution_count": 17,
      "metadata": {
        "id": "MKZBGhuAgMDu",
        "scrolled": true,
        "colab": {
          "base_uri": "https://localhost:8080/"
        },
        "outputId": "1ef74304-b33b-4c92-8fcf-779b873accce"
      },
      "outputs": [
        {
          "output_type": "stream",
          "name": "stdout",
          "text": [
            "Epoch 0\n",
            " train loss: 1.4832047791759972, train acc: 0.47105967617122085\n",
            " val loss: 1.3215617798744363, val acc: 0.5400265957446808\n",
            "\n",
            "Epoch 1\n",
            " train loss: 1.1914361291437305, train acc: 0.5801979956068984\n",
            " val loss: 1.1603286563081945, val acc: 0.5981826241980208\n",
            "\n",
            "Epoch 2\n",
            " train loss: 1.0690497017211844, train acc: 0.6273872095008655\n",
            " val loss: 1.1100613020836039, val acc: 0.6091755319148936\n",
            "\n",
            "Epoch 3\n",
            " train loss: 0.9969608678024473, train acc: 0.6535444960297788\n",
            " val loss: 1.037661333033379, val acc: 0.6352171986661059\n",
            "\n",
            "Epoch 4\n",
            " train loss: 0.9562261329054614, train acc: 0.6692021416135854\n",
            " val loss: 0.9670814775406046, val acc: 0.6607269503968827\n",
            "\n",
            "Epoch 5\n",
            " train loss: 0.9328376986426888, train acc: 0.679554877268113\n",
            " val loss: 0.9435645633555473, val acc: 0.6761746454746165\n",
            "\n",
            "Epoch 6\n",
            " train loss: 0.910596853254918, train acc: 0.6844435558676502\n",
            " val loss: 0.9491855390528415, val acc: 0.6703235816448293\n",
            "\n",
            "Epoch 7\n",
            " train loss: 0.8787855010145978, train acc: 0.6964816205898194\n",
            " val loss: 0.8949326570997846, val acc: 0.6954787234042553\n",
            "\n",
            "Epoch 8\n",
            " train loss: 0.8575366617774615, train acc: 0.7020028075526794\n",
            " val loss: 0.9241625598136415, val acc: 0.6829565603682335\n",
            "\n",
            "Epoch 9\n",
            " train loss: 0.843892965990185, train acc: 0.709519456792793\n",
            " val loss: 0.8970852263430331, val acc: 0.690093085106383\n",
            "\n",
            "Epoch 10\n",
            " train loss: 0.8298220988601391, train acc: 0.7124698029139795\n",
            " val loss: 0.9543361164153891, val acc: 0.6731604610351806\n",
            "\n",
            "Epoch 11\n",
            " train loss: 0.8171523812157144, train acc: 0.7184398668993544\n",
            " val loss: 0.9265619130844766, val acc: 0.6834441489361702\n",
            "\n",
            "Epoch 12\n",
            " train loss: 0.8061837399790448, train acc: 0.7205373466123829\n",
            " val loss: 0.901616856138757, val acc: 0.6955895390916378\n",
            "\n",
            "Epoch 13\n",
            " train loss: 0.7927658635802853, train acc: 0.7239406503314728\n",
            " val loss: 0.8986499388167198, val acc: 0.6942154255319148\n",
            "\n",
            "Epoch 14\n",
            " train loss: 0.7860979790879342, train acc: 0.7261442282735975\n",
            " val loss: 0.9683947007706825, val acc: 0.6703014186088075\n",
            "\n",
            "Epoch 15\n",
            " train loss: 0.7739983041935908, train acc: 0.7309716962809101\n",
            " val loss: 0.9102654053809794, val acc: 0.6997118795171697\n",
            "\n",
            "Epoch 16\n",
            " train loss: 0.7718353253504912, train acc: 0.7336731196757427\n",
            " val loss: 0.8741660138393971, val acc: 0.7064273050490846\n",
            "\n",
            "Epoch 17\n",
            " train loss: 0.7575208210748989, train acc: 0.7352441891455781\n",
            " val loss: 0.8774812161922455, val acc: 0.7032358156873825\n",
            "\n",
            "Epoch 18\n",
            " train loss: 0.7538994987115564, train acc: 0.7384965069987003\n",
            " val loss: 0.8731966115058737, val acc: 0.7030585106382978\n",
            "\n",
            "Epoch 19\n",
            " train loss: 0.7434301960947745, train acc: 0.7432260381456267\n",
            " val loss: 0.9091063121531872, val acc: 0.6919991135597229\n",
            "\n"
          ]
        }
      ],
      "source": [
        "optimizer = optim.SGD(net.parameters(), lr=0.1, momentum=0.9)\n",
        "train_loss_log, train_acc_log, val_loss_log, val_acc_log = train(net, optimizer, 20, train_loader, val_loader)"
      ]
    },
    {
      "cell_type": "markdown",
      "metadata": {
        "id": "gUb1jQW8O9Dt"
      },
      "source": [
        "Посчитайте точность на тестовой выборке:"
      ]
    },
    {
      "cell_type": "code",
      "execution_count": 18,
      "metadata": {
        "id": "Jyuc55B9_Amc",
        "colab": {
          "base_uri": "https://localhost:8080/"
        },
        "outputId": "a05b0f17-144f-4125-c93a-13a9cd86b58f"
      },
      "outputs": [
        {
          "output_type": "stream",
          "name": "stdout",
          "text": [
            "test loss: 0.9267769501467419, test acc: 0.6806329617834395\n"
          ]
        }
      ],
      "source": [
        "test_loss, test_acc = test(net, test_loader)\n",
        "\n",
        "print(\"test loss:\", test_loss, \"test acc: \", test_acc)"
      ]
    },
    {
      "cell_type": "markdown",
      "metadata": {
        "id": "zM38Q9fwO9Dt"
      },
      "source": [
        "Если вы все сделали правильно, у вас должна была получиться точность $\\ge 67\\%$."
      ]
    },
    {
      "cell_type": "markdown",
      "metadata": {
        "id": "DHFNSKcoO9Dt"
      },
      "source": [
        "**Задание 2.2 (1 балл).** Постройте графики зависимости функции потерь и точности классификации от номера шага оптимизатора. На каждом графике расположите данные и для обучающей и для валидационной выборки, итого у вас должно получиться два графика. Обратите внимание, что на обучающей выборке эти данные считаются по каждому батчу, на валидационной же они считаются по всей выборке раз в эпоху."
      ]
    },
    {
      "cell_type": "code",
      "execution_count": 20,
      "metadata": {
        "id": "LzIP0tGLO9Dt"
      },
      "outputs": [],
      "source": [
        "import seaborn as sns\n",
        "\n",
        "train_loss = []\n",
        "train_acc = []\n",
        "\n",
        "for i in range(20):\n",
        "    n = len(train_loader.dataset) // 64 + 1\n",
        "    train_loss.append(np.mean(train_loss_log[i*n: (i+1)*n]))\n",
        "    train_acc.append(np.mean(train_acc_log[i*n: (i+1)*n]))"
      ]
    },
    {
      "cell_type": "code",
      "source": [
        "plt.figure(figsize=(16, 6))\n",
        "sns.lineplot(data=train_loss)\n",
        "sns.lineplot(data=val_loss_log)\n",
        "\n",
        "plt.legend(['train loss', 'val loss'])\n",
        "plt.xlabel('epoch')\n",
        "plt.ylabel('loss')\n",
        "plt.show()"
      ],
      "metadata": {
        "colab": {
          "base_uri": "https://localhost:8080/",
          "height": 388
        },
        "id": "tMxYoNwKAASv",
        "outputId": "f621423b-e8d4-4070-965d-00a8e352f362"
      },
      "execution_count": 22,
      "outputs": [
        {
          "output_type": "display_data",
          "data": {
            "text/plain": [
              "<Figure size 1152x432 with 1 Axes>"
            ],
            "image/png": "[encoded data removed]"
          },
          "metadata": {
            "needs_background": "light"
          }
        }
      ]
    },
    {
      "cell_type": "code",
      "source": [
        "plt.figure(figsize=(16, 6))\n",
        "sns.lineplot(data=train_acc_mean)\n",
        "sns.lineplot(data=val_acc_log)\n",
        "\n",
        "plt.legend(['train acc', 'val acc'])\n",
        "plt.xlabel('epoch')\n",
        "plt.ylabel('acc')\n",
        "plt.show()"
      ],
      "metadata": {
        "colab": {
          "base_uri": "https://localhost:8080/",
          "height": 388
        },
        "id": "Oz0jVVfGAHnw",
        "outputId": "e6344dc6-67a5-4818-9d93-08da3ba6f9ef"
      },
      "execution_count": 23,
      "outputs": [
        {
          "output_type": "display_data",
          "data": {
            "text/plain": [
              "<Figure size 1152x432 with 1 Axes>"
            ],
            "image/png": "[encoded data removed]"
          },
          "metadata": {
            "needs_background": "light"
          }
        }
      ]
    },
    {
      "cell_type": "markdown",
      "metadata": {
        "id": "_ttOJPj-O9Dt"
      },
      "source": [
        "## 3. Расписание длины шага (2 балла)"
      ]
    },
    {
      "cell_type": "markdown",
      "metadata": {
        "id": "qiz3JstuO9Dt"
      },
      "source": [
        "С курса \"Машинное обучение 1\" вы уже должны знать, что сходимость стохастического градиентного спуска мы можем теоретически гарантировать только если будем определенным образом со временем уменьшать длину шага. На практике при обучении нейронных сетей такая техника оказывается очень полезной, однако теоретически обоснованными способами уменьшения длины шага фантазия не ограничивается.\n",
        "\n",
        "Одним из простейших способов является кусочно постоянная функция: на нескольких фиксированных эпохах уменьшаем длину шага в константу раз."
      ]
    },
    {
      "cell_type": "code",
      "execution_count": 24,
      "metadata": {
        "id": "V2Z0OT3nO9Du",
        "colab": {
          "base_uri": "https://localhost:8080/"
        },
        "outputId": "af018152-c0cd-4118-a01c-70ca71cb51e0"
      },
      "outputs": [
        {
          "output_type": "stream",
          "name": "stdout",
          "text": [
            "Epoch  0\n",
            " train loss:  1.5153399468339994 train acc:  0.4600662705667276\n",
            " val loss:  1.2986220372484085 val acc:  0.5404255319148936 \n",
            "\n",
            "Epoch  1\n",
            " train loss:  1.2107407859300128 train acc:  0.5724854727549789\n",
            " val loss:  1.151879294375156 val acc:  0.6016179078436913 \n",
            "\n",
            "Epoch  2\n",
            " train loss:  1.0761517398536096 train acc:  0.6279136197440585\n",
            " val loss:  1.0332611690176294 val acc:  0.6465647164811479 \n",
            "\n",
            "Epoch  3\n",
            " train loss:  1.0006633676602157 train acc:  0.650965493710429\n",
            " val loss:  1.014372114171373 val acc:  0.6378102837724888 \n",
            "\n",
            "Epoch  4\n",
            " train loss:  0.9609161492239623 train acc:  0.6670883390541704\n",
            " val loss:  0.9958268041306354 val acc:  0.6632757093044037 \n",
            "\n",
            "Epoch  5\n",
            " train loss:  0.9338320818418123 train acc:  0.6789346109578552\n",
            " val loss:  0.9473091693634682 val acc:  0.6718085106382978 \n",
            "\n",
            "Epoch  6\n",
            " train loss:  0.9089976022840636 train acc:  0.6841538260798131\n",
            " val loss:  0.9768780946731568 val acc:  0.6597739361702127 \n",
            "\n",
            "Epoch  7\n",
            " train loss:  0.8932875464559691 train acc:  0.6890547467324154\n",
            " val loss:  0.9246479163778589 val acc:  0.6797872340425531 \n",
            "\n",
            "Epoch  8\n",
            " train loss:  0.8820906088600647 train acc:  0.6943188496002114\n",
            " val loss:  0.9052095595826494 val acc:  0.689627659574468 \n",
            "\n",
            "Epoch  9\n",
            " train loss:  0.8577367040095425 train acc:  0.702610831809872\n",
            " val loss:  0.9813334490390534 val acc:  0.6716312058428501 \n",
            "\n",
            "Epoch  10\n",
            " train loss:  0.7550608509746286 train acc:  0.7401614325356004\n",
            " val loss:  0.8382211971790232 val acc:  0.7140070922831272 \n",
            "\n",
            "Epoch  11\n",
            " train loss:  0.7380161249986297 train acc:  0.7456622160766853\n",
            " val loss:  0.8313449235672646 val acc:  0.718594858240574 \n",
            "\n",
            "Epoch  12\n",
            " train loss:  0.7321850385591796 train acc:  0.7505876208354176\n",
            " val loss:  0.8288900554180145 val acc:  0.7191267731341909 \n",
            "\n",
            "Epoch  13\n",
            " train loss:  0.726216397621078 train acc:  0.7521342060901565\n",
            " val loss:  0.8296056993464206 val acc:  0.7177969859001484 \n",
            "\n",
            "Epoch  14\n",
            " train loss:  0.7245084751240732 train acc:  0.7502081157738374\n",
            " val loss:  0.8292371131004171 val acc:  0.7167331561129144 \n",
            "\n",
            "Epoch  15\n",
            " train loss:  0.7079470591309738 train acc:  0.757679877268113\n",
            " val loss:  0.8186834935178148 val acc:  0.7223847518575952 \n",
            "\n",
            "Epoch  16\n",
            " train loss:  0.7061436217162466 train acc:  0.7574962458183386\n",
            " val loss:  0.8202054600766364 val acc:  0.7225177305809996 \n",
            "\n",
            "Epoch  17\n",
            " train loss:  0.7058436882016428 train acc:  0.7582552560504655\n",
            " val loss:  0.8181452057463058 val acc:  0.7217198582405739 \n",
            "\n",
            "Epoch  18\n",
            " train loss:  0.7056110230507755 train acc:  0.7584388875002399\n",
            " val loss:  0.8179274181102184 val acc:  0.7217863476022761 \n",
            "\n",
            "Epoch  19\n",
            " train loss:  0.7065592575443728 train acc:  0.7582879016342721\n",
            " val loss:  0.8187454800656502 val acc:  0.7230496454746165 \n",
            "\n"
          ]
        }
      ],
      "source": [
        "net = BasicBlockNet().to(device)\n",
        "optimizer = optim.SGD(net.parameters(), lr=0.1, momentum=0.9)\n",
        "scheduler = optim.lr_scheduler.MultiStepLR(optimizer, milestones=[10, 15], gamma=0.1)\n",
        "tr_loss_log, tr_acc_log, val_loss_log, val_acc_log = train(net, optimizer, 20, train_loader, val_loader, scheduler)"
      ]
    },
    {
      "cell_type": "markdown",
      "metadata": {
        "id": "5Xc76KvzO9Du"
      },
      "source": [
        "Посчитайте точность на тестовой выборке:"
      ]
    },
    {
      "cell_type": "code",
      "execution_count": 25,
      "metadata": {
        "id": "1AjiYhKqO9Du",
        "colab": {
          "base_uri": "https://localhost:8080/"
        },
        "outputId": "0f8ef43f-6582-4410-af8a-e1295e945684"
      },
      "outputs": [
        {
          "output_type": "stream",
          "name": "stdout",
          "text": [
            "test loss: 0.8318327754546123 test acc:  0.7133757961783439\n"
          ]
        }
      ],
      "source": [
        "test_loss, test_acc = test(net, test_loader)\n",
        "\n",
        "print(\"test loss:\", test_loss, \"test acc: \", test_acc)"
      ]
    },
    {
      "cell_type": "markdown",
      "metadata": {
        "id": "yE0dgLYrO9Du"
      },
      "source": [
        "**Задание 3.0 (0.5 баллов).** Здесь может возникнуть вопрос: а что будет, если мы не будем уменьшать длину шага в процессе обучения, а сразу возьмем констатную, равную значению нашей кусочно-постоянной функции на последних эпохах, то есть $0.001$ в нашем случае. Запустите обучение и проверьте, что в таком случае мы получим худшее качество на тестовой выборке."
      ]
    },
    {
      "cell_type": "code",
      "execution_count": 26,
      "metadata": {
        "id": "qZ2iB-LBO9Du",
        "colab": {
          "base_uri": "https://localhost:8080/"
        },
        "outputId": "25ea0d50-8abf-4385-da1b-8aeaa3583fea"
      },
      "outputs": [
        {
          "output_type": "stream",
          "name": "stdout",
          "text": [
            "Epoch  0\n",
            " train loss:  1.830104339711191 train acc:  0.3620192935959295\n",
            " val loss:  1.6224058257772567 val acc:  0.43459663124794656 \n",
            "\n",
            "Epoch  1\n",
            " train loss:  1.5389964349527028 train acc:  0.4606538914021452\n",
            " val loss:  1.4501713580273567 val acc:  0.48792109933305294 \n",
            "\n",
            "Epoch  2\n",
            " train loss:  1.4157291258492897 train acc:  0.4998000457038391\n",
            " val loss:  1.3671086930214091 val acc:  0.5189494680851063 \n",
            "\n",
            "Epoch  3\n",
            " train loss:  1.344762622765257 train acc:  0.5289729695215521\n",
            " val loss:  1.3192948711679338 val acc:  0.5386746454746165 \n",
            "\n",
            "Epoch  4\n",
            " train loss:  1.2910120941603205 train acc:  0.5453488182760026\n",
            " val loss:  1.2630837105690165 val acc:  0.5503102837724888 \n",
            "\n",
            "Epoch  5\n",
            " train loss:  1.2402602802464906 train acc:  0.5663276965265083\n",
            " val loss:  1.2341899278316093 val acc:  0.5674202127659574 \n",
            "\n",
            "Epoch  6\n",
            " train loss:  1.1977650373901703 train acc:  0.5808549882942842\n",
            " val loss:  1.1747797293865934 val acc:  0.5869902482692232 \n",
            "\n",
            "Epoch  7\n",
            " train loss:  1.1615552623267584 train acc:  0.5953169887854804\n",
            " val loss:  1.137790937119342 val acc:  0.6006427305809995 \n",
            "\n",
            "Epoch  8\n",
            " train loss:  1.125882154953763 train acc:  0.6084894881170019\n",
            " val loss:  1.111841356754303 val acc:  0.6126994680851063 \n",
            "\n",
            "Epoch  9\n",
            " train loss:  1.0979063125153565 train acc:  0.6161571233320497\n",
            " val loss:  1.1025557713305696 val acc:  0.6156471632896585 \n",
            "\n",
            "Epoch  10\n",
            " train loss:  1.0724713824130936 train acc:  0.6282196722693155\n",
            " val loss:  1.06895454411811 val acc:  0.6258643617021277 \n",
            "\n",
            "Epoch  11\n",
            " train loss:  1.05001833582709 train acc:  0.6354221076154621\n",
            " val loss:  1.0378488160194235 val acc:  0.640580673801138 \n",
            "\n",
            "Epoch  12\n",
            " train loss:  1.026893317590466 train acc:  0.6439711740291533\n",
            " val loss:  1.036689094026038 val acc:  0.6336657803109351 \n",
            "\n",
            "Epoch  13\n",
            " train loss:  1.0134468951434497 train acc:  0.6486843824386597\n",
            " val loss:  1.0362347242680001 val acc:  0.6397384752618506 \n",
            "\n",
            "Epoch  14\n",
            " train loss:  0.9958616674927079 train acc:  0.6531568294905221\n",
            " val loss:  1.0193749765132336 val acc:  0.6471409574468086 \n",
            "\n",
            "Epoch  15\n",
            " train loss:  0.9808321414307659 train acc:  0.6604898472808615\n",
            " val loss:  0.9906764712739498 val acc:  0.6559618795171697 \n",
            "\n",
            "Epoch  16\n",
            " train loss:  0.9669214666870438 train acc:  0.6642481718464351\n",
            " val loss:  0.9703971340301188 val acc:  0.6609485816448293 \n",
            "\n",
            "Epoch  17\n",
            " train loss:  0.9596333648648515 train acc:  0.6669414338725577\n",
            " val loss:  0.9750487464539548 val acc:  0.6581117021276596 \n",
            "\n",
            "Epoch  18\n",
            " train loss:  0.9493673261820289 train acc:  0.6708956320499372\n",
            " val loss:  0.9663464896222378 val acc:  0.6594636525245423 \n",
            "\n",
            "Epoch  19\n",
            " train loss:  0.9406387401673214 train acc:  0.6733971011486088\n",
            " val loss:  0.9859806634010153 val acc:  0.6548537234042553 \n",
            "\n"
          ]
        }
      ],
      "source": [
        "net = BasicBlockNet().to(device)\n",
        "optimizer = optim.SGD(net.parameters(), lr=0.001, momentum=0.9)\n",
        "tr_loss_log, tr_acc_log, val_loss_log, val_acc_log = train(net, optimizer, 20, train_loader, val_loader)"
      ]
    },
    {
      "cell_type": "code",
      "source": [
        "test_loss, test_acc = test(net, test_loader)\n",
        "\n",
        "print(\"test loss:\", test_loss, \"test acc: \", test_acc)"
      ],
      "metadata": {
        "colab": {
          "base_uri": "https://localhost:8080/"
        },
        "id": "okdyHgNgChwB",
        "outputId": "f25b843b-f9d2-4c27-fa4a-30e00c1d5617"
      },
      "execution_count": 27,
      "outputs": [
        {
          "output_type": "stream",
          "name": "stdout",
          "text": [
            "test loss: 0.9902330781244169 test acc:  0.6499800955414012\n"
          ]
        }
      ]
    },
    {
      "cell_type": "markdown",
      "metadata": {
        "id": "xVotU378O9Du"
      },
      "source": [
        "**Задание 3.1 (1.5 балла).** Изучите, какие еще способы уменьшения длины шага представлены в <code>torch.optim.lr_scheduler</code>. Выберите несколько из них, объясните, как они устроены, и обучите модель с ними. Удалось ли добиться улучшения качества на тестовой выборке?"
      ]
    },
    {
      "cell_type": "markdown",
      "source": [
        "**Взято с сайта с документацией торча:**\n",
        "\n",
        "*   [ExponentialLR](https://pytorch.org/docs/stable/generated/torch.optim.lr_scheduler.ExponentialLR.html#torch.optim.lr_scheduler.ExponentialLR)\n",
        "\n",
        "Decays the learning rate of each parameter group by gamma every epoch. When last_epoch=-1, sets initial lr as lr.\n",
        "\n",
        "*   [CosineAnnealingLR](https://pytorch.org/docs/stable/generated/torch.optim.lr_scheduler.CosineAnnealingLR.html#torch.optim.lr_scheduler.CosineAnnealingLR)\n",
        "\n",
        "Set the learning rate of each parameter group using a cosine annealing schedule, where ηmaxηmax​ is set to the initial lr and TcurTcur​ is the number of epochs since the last restart in SGDR. When last_epoch=-1, sets initial lr as lr.\n",
        "\n",
        "*   [CyclicLR](https://pytorch.org/docs/stable/generated/torch.optim.lr_scheduler.CyclicLR.html#torch.optim.lr_scheduler.CyclicLR)\n",
        "\n",
        "Sets the learning rate of each parameter group according to cyclical learning rate policy (CLR). The policy cycles the learning rate between two boundaries with a constant frequency, as detailed in the paper Cyclical Learning Rates for Training Neural Networks. The distance between the two boundaries can be scaled on a per-iteration or per-cycle basis."
      ],
      "metadata": {
        "id": "F6PY9cmxE7rQ"
      }
    },
    {
      "cell_type": "code",
      "execution_count": 28,
      "metadata": {
        "id": "nkGlzocOO9Du",
        "colab": {
          "base_uri": "https://localhost:8080/"
        },
        "outputId": "21df7502-aaad-422c-c037-d98e0feb2ed7"
      },
      "outputs": [
        {
          "output_type": "stream",
          "name": "stdout",
          "text": [
            "Epoch  0\n",
            " train loss:  1.4890599635445003 train acc:  0.46881529127657956\n",
            " val loss:  1.3405401584949899 val acc:  0.5408909574468085 \n",
            "\n",
            "Epoch  1\n",
            " train loss:  1.2532804891657785 train acc:  0.5628264560559986\n",
            " val loss:  1.2547499808859317 val acc:  0.5583998228641267 \n",
            "\n",
            "Epoch  2\n",
            " train loss:  1.246628472312495 train acc:  0.5628958279079668\n",
            " val loss:  1.2599737431140656 val acc:  0.557535461161999 \n",
            "\n",
            "Epoch  3\n",
            " train loss:  1.2453565176923707 train acc:  0.5647525463723178\n",
            " val loss:  1.2558841002748367 val acc:  0.5574024824385947 \n",
            "\n",
            "Epoch  4\n",
            " train loss:  1.2456487600284696 train acc:  0.5646260447214465\n",
            " val loss:  1.257869887098353 val acc:  0.5578679079705097 \n",
            "\n",
            "Epoch  5\n",
            " train loss:  1.2452777910711996 train acc:  0.564340395726931\n",
            " val loss:  1.256316615165548 val acc:  0.5578679079705097 \n",
            "\n",
            "Epoch  6\n",
            " train loss:  1.245443924035625 train acc:  0.56459339913764\n",
            " val loss:  1.2685522738923418 val acc:  0.5556737590343395 \n",
            "\n",
            "Epoch  7\n",
            " train loss:  1.2448366707160226 train acc:  0.5661277422303473\n",
            " val loss:  1.2621090429894468 val acc:  0.5564937944107867 \n",
            "\n",
            "Epoch  8\n",
            " train loss:  1.2461440369241634 train acc:  0.5661522264454439\n",
            " val loss:  1.2625529281636503 val acc:  0.5560726952045522 \n",
            "\n",
            "Epoch  9\n",
            " train loss:  1.2451842458853992 train acc:  0.5639200836038677\n",
            " val loss:  1.254798914523835 val acc:  0.5589317377577436 \n",
            "\n",
            "Epoch  10\n",
            " train loss:  1.2454808729222313 train acc:  0.5645770762912534\n",
            " val loss:  1.2565751547509052 val acc:  0.5578014186088075 \n",
            "\n",
            "Epoch  11\n",
            " train loss:  1.246630126858978 train acc:  0.5653768934758969\n",
            " val loss:  1.2619933141038773 val acc:  0.5558732271194458 \n",
            "\n",
            "Epoch  12\n",
            " train loss:  1.2464244433251335 train acc:  0.5649443392997686\n",
            " val loss:  1.256542382595387 val acc:  0.5583554965384463 \n",
            "\n",
            "Epoch  13\n",
            " train loss:  1.2456661332024082 train acc:  0.563303897977965\n",
            " val loss:  1.2603547415834793 val acc:  0.5577349292471053 \n",
            "\n",
            "Epoch  14\n",
            " train loss:  1.2467601872449383 train acc:  0.5643812026794476\n",
            " val loss:  1.2575661309221957 val acc:  0.5579343973322117 \n",
            "\n",
            "Epoch  15\n",
            " train loss:  1.246264536594342 train acc:  0.5636548381400937\n",
            " val loss:  1.2540875828012508 val acc:  0.5587987590343394 \n",
            "\n",
            "Epoch  16\n",
            " train loss:  1.2471487847934912 train acc:  0.564507704384802\n",
            " val loss:  1.256836479775449 val acc:  0.5576684398854033 \n",
            "\n",
            "Epoch  17\n",
            " train loss:  1.2459960705183541 train acc:  0.5639200836038677\n",
            " val loss:  1.2695378250264107 val acc:  0.5546320922831272 \n",
            "\n",
            "Epoch  18\n",
            " train loss:  1.2464181459364114 train acc:  0.563830308221158\n",
            " val loss:  1.2659974681570174 val acc:  0.5556959220703612 \n",
            "\n",
            "Epoch  19\n",
            " train loss:  1.2463837733434366 train acc:  0.5625122421620314\n",
            " val loss:  1.2555295908704718 val acc:  0.5576019505237011 \n",
            "\n"
          ]
        }
      ],
      "source": [
        "net = BasicBlockNet().to(device)\n",
        "optimizer = optim.SGD(net.parameters(), lr=0.1, momentum=0.9)\n",
        "scheduler = optim.lr_scheduler.ExponentialLR(optimizer, gamma=0.0001)\n",
        "tr_loss_log, tr_acc_log, val_loss_log, val_acc_log = train(net, optimizer, 20, train_loader, val_loader, scheduler)"
      ]
    },
    {
      "cell_type": "code",
      "source": [
        "test_loss, test_acc = test(net, test_loader)\n",
        "\n",
        "print(\"test loss:\", test_loss, \"test acc: \", test_acc)"
      ],
      "metadata": {
        "colab": {
          "base_uri": "https://localhost:8080/"
        },
        "id": "l2YFbPtUHPej",
        "outputId": "b5d2f279-a078-4294-c8c7-c65c4bda386c"
      },
      "execution_count": 29,
      "outputs": [
        {
          "output_type": "stream",
          "name": "stdout",
          "text": [
            "test loss: 1.2422700801472755 test acc:  0.5648885350318471\n"
          ]
        }
      ]
    },
    {
      "cell_type": "code",
      "source": [
        "net = BasicBlockNet().to(device)\n",
        "optimizer = optim.SGD(net.parameters(), lr=0.1, momentum=0.9)\n",
        "scheduler = optim.lr_scheduler.CosineAnnealingLR(optimizer, T_max=len(train_acc_log))\n",
        "tr_loss_log, tr_acc_log, val_loss_log, val_acc_log = train(net, optimizer, 20, train_loader, val_loader, scheduler)"
      ],
      "metadata": {
        "colab": {
          "base_uri": "https://localhost:8080/"
        },
        "id": "tukwXq_bHPz6",
        "outputId": "ada312f1-8bad-41e5-ebba-14474f7aa837"
      },
      "execution_count": 30,
      "outputs": [
        {
          "output_type": "stream",
          "name": "stdout",
          "text": [
            "Epoch  0\n",
            " train loss:  1.511412029728375 train acc:  0.46333899195059125\n",
            " val loss:  1.251205221896476 val acc:  0.5532358156873824 \n",
            "\n",
            "Epoch  1\n",
            " train loss:  1.2044876067468409 train acc:  0.5778067054216779\n",
            " val loss:  1.1264173867854665 val acc:  0.6051196808510638 \n",
            "\n",
            "Epoch  2\n",
            " train loss:  1.080871874933051 train acc:  0.6223271416135854\n",
            " val loss:  1.0895118097041516 val acc:  0.6250443263256803 \n",
            "\n",
            "Epoch  3\n",
            " train loss:  1.0134823236212651 train acc:  0.6492189540505627\n",
            " val loss:  1.0020035497685695 val acc:  0.6536790781832756 \n",
            "\n",
            "Epoch  4\n",
            " train loss:  0.9781856936772083 train acc:  0.6596614651967664\n",
            " val loss:  1.0006434737367833 val acc:  0.6574911348363186 \n",
            "\n",
            "Epoch  5\n",
            " train loss:  0.9429608958294884 train acc:  0.6711976038908392\n",
            " val loss:  1.00208991842067 val acc:  0.6453235816448293 \n",
            "\n",
            "Epoch  6\n",
            " train loss:  0.9232829787395554 train acc:  0.6800282385057244\n",
            " val loss:  0.9764430378345733 val acc:  0.6602615249917863 \n",
            "\n",
            "Epoch  7\n",
            " train loss:  0.9070647823091399 train acc:  0.6835702860377171\n",
            " val loss:  0.9960975740818268 val acc:  0.6598182624958931 \n",
            "\n",
            "Epoch  8\n",
            " train loss:  0.8862151315595812 train acc:  0.6915602965154422\n",
            " val loss:  0.9424698789068993 val acc:  0.6729609930768926 \n",
            "\n",
            "Epoch  9\n",
            " train loss:  0.8801408902600653 train acc:  0.6944657547818242\n",
            " val loss:  0.939693689853587 val acc:  0.674468085106383 \n",
            "\n",
            "Epoch  10\n",
            " train loss:  0.8625472321479805 train acc:  0.700435818767199\n",
            " val loss:  0.9778852424723037 val acc:  0.6615026595744681 \n",
            "\n",
            "Epoch  11\n",
            " train loss:  0.8440102698380159 train acc:  0.7066425634258626\n",
            " val loss:  0.9218774668713834 val acc:  0.6813164893617021 \n",
            "\n",
            "Epoch  12\n",
            " train loss:  0.8342152065725169 train acc:  0.7089318360663419\n",
            " val loss:  0.8911185652651685 val acc:  0.6950797872340425 \n",
            "\n",
            "Epoch  13\n",
            " train loss:  0.8233839495744304 train acc:  0.7152365174764254\n",
            " val loss:  0.8878139275185606 val acc:  0.694281914893617 \n",
            "\n",
            "Epoch  14\n",
            " train loss:  0.8119294730575255 train acc:  0.718537803650774\n",
            " val loss:  0.8810217616405893 val acc:  0.697163120736467 \n",
            "\n",
            "Epoch  15\n",
            " train loss:  0.8011666796216145 train acc:  0.7233775138201182\n",
            " val loss:  0.8852766562015453 val acc:  0.700376773134191 \n",
            "\n",
            "Epoch  16\n",
            " train loss:  0.784476284788993 train acc:  0.7261075020054358\n",
            " val loss:  0.8646058856172765 val acc:  0.702593085106383 \n",
            "\n",
            "Epoch  17\n",
            " train loss:  0.7878034169865701 train acc:  0.7257198354661791\n",
            " val loss:  0.942220260488226 val acc:  0.6859485816448293 \n",
            "\n",
            "Epoch  18\n",
            " train loss:  0.7707987332365849 train acc:  0.7353870136428359\n",
            " val loss:  0.878953814252894 val acc:  0.7024157803109352 \n",
            "\n",
            "Epoch  19\n",
            " train loss:  0.7674334514511568 train acc:  0.7334731653795817\n",
            " val loss:  0.8970305851165284 val acc:  0.695035461161999 \n",
            "\n"
          ]
        }
      ]
    },
    {
      "cell_type": "code",
      "source": [
        "test_loss, test_acc = test(net, test_loader)\n",
        "\n",
        "print(\"test loss:\", test_loss, \"test acc: \", test_acc)"
      ],
      "metadata": {
        "colab": {
          "base_uri": "https://localhost:8080/"
        },
        "id": "KYNsOLCdHP6K",
        "outputId": "7d489925-a105-458b-b0c1-2facbaeb5e99"
      },
      "execution_count": 31,
      "outputs": [
        {
          "output_type": "stream",
          "name": "stdout",
          "text": [
            "test loss: 0.9061991967213382 test acc:  0.6880971337579618\n"
          ]
        }
      ]
    },
    {
      "cell_type": "code",
      "source": [
        "net = BasicBlockNet().to(device)\n",
        "optimizer = optim.SGD(net.parameters(), lr=0.1, momentum=0.9)\n",
        "scheduler = optim.lr_scheduler.CyclicLR(optimizer, base_lr=0.001, max_lr=0.1)\n",
        "tr_loss_log, tr_acc_log, val_loss_log, val_acc_log = train(net, optimizer, 20, train_loader, val_loader, scheduler)"
      ],
      "metadata": {
        "colab": {
          "base_uri": "https://localhost:8080/"
        },
        "id": "On_qMuAxHQEU",
        "outputId": "aa163d4e-2f3f-45d9-d389-fb94e1fc5dd3"
      },
      "execution_count": 32,
      "outputs": [
        {
          "output_type": "stream",
          "name": "stdout",
          "text": [
            "Epoch  0\n",
            " train loss:  1.815716619901291 train acc:  0.3651859166962137\n",
            " val loss:  1.617500481199711 val acc:  0.4294991135597229 \n",
            "\n",
            "Epoch  1\n",
            " train loss:  1.5191962174131404 train acc:  0.46836233356970974\n",
            " val loss:  1.4326274663844007 val acc:  0.49408244680851066 \n",
            "\n",
            "Epoch  2\n",
            " train loss:  1.3994034829479685 train acc:  0.505292667876214\n",
            " val loss:  1.3515630691609484 val acc:  0.5266843972053934 \n",
            "\n",
            "Epoch  3\n",
            " train loss:  1.327928144055703 train acc:  0.5331312026794476\n",
            " val loss:  1.3077015491242105 val acc:  0.5410460993330529 \n",
            "\n",
            "Epoch  4\n",
            " train loss:  1.2821266457193294 train acc:  0.5493356621461551\n",
            " val loss:  1.2508140678101398 val acc:  0.5554742908224146 \n",
            "\n",
            "Epoch  5\n",
            " train loss:  1.2398838326743578 train acc:  0.5645117851236403\n",
            " val loss:  1.2234463714538737 val acc:  0.5726063829787233 \n",
            "\n",
            "Epoch  6\n",
            " train loss:  1.199711681284024 train acc:  0.5792512732406421\n",
            " val loss:  1.1811309596325488 val acc:  0.5873448582405739 \n",
            "\n",
            "Epoch  7\n",
            " train loss:  1.1664904924807644 train acc:  0.589559121258298\n",
            " val loss:  1.151536972725645 val acc:  0.5971187944107867 \n",
            "\n",
            "Epoch  8\n",
            " train loss:  1.1376538488067265 train acc:  0.6044495952412676\n",
            " val loss:  1.1119887235316825 val acc:  0.6093528369639782 \n",
            "\n",
            "Epoch  9\n",
            " train loss:  1.0992292690974486 train acc:  0.6184096697043675\n",
            " val loss:  1.0849092810711962 val acc:  0.6166666667512123 \n",
            "\n",
            "Epoch  10\n",
            " train loss:  1.0698423670022537 train acc:  0.6264323257658991\n",
            " val loss:  1.0679461489332482 val acc:  0.6250886526513607 \n",
            "\n",
            "Epoch  11\n",
            " train loss:  1.0404769220343455 train acc:  0.6379113345521024\n",
            " val loss:  1.0542534069812044 val acc:  0.6342641844394359 \n",
            "\n",
            "Epoch  12\n",
            " train loss:  1.0148775387943554 train acc:  0.6458115696471177\n",
            " val loss:  1.0337535421899025 val acc:  0.6353945037151905 \n",
            "\n",
            "Epoch  13\n",
            " train loss:  0.9922170996448022 train acc:  0.6540178571584238\n",
            " val loss:  0.9958660825769952 val acc:  0.6558289007937654 \n",
            "\n",
            "Epoch  14\n",
            " train loss:  0.9742086382627051 train acc:  0.6612406960353119\n",
            " val loss:  1.0045808358395354 val acc:  0.6484929079705096 \n",
            "\n",
            "Epoch  15\n",
            " train loss:  0.9590614466388221 train acc:  0.6650928767769166\n",
            " val loss:  0.9935014932713611 val acc:  0.652127659574468 \n",
            "\n",
            "Epoch  16\n",
            " train loss:  0.9465073828723356 train acc:  0.6725850418019338\n",
            " val loss:  1.002993871049678 val acc:  0.6444370569066799 \n",
            "\n",
            "Epoch  17\n",
            " train loss:  0.9324197289712686 train acc:  0.6744621637970264\n",
            " val loss:  0.9362361727876866 val acc:  0.6759751773895102 \n",
            "\n",
            "Epoch  18\n",
            " train loss:  0.9224543548589215 train acc:  0.6789019652650823\n",
            " val loss:  0.9373462715047471 val acc:  0.6762632978723404 \n",
            "\n",
            "Epoch  19\n",
            " train loss:  0.9077155852666503 train acc:  0.6845455733034249\n",
            " val loss:  0.9151200682558912 val acc:  0.6830452127659574 \n",
            "\n"
          ]
        }
      ]
    },
    {
      "cell_type": "code",
      "source": [
        "test_loss, test_acc = test(net, test_loader)\n",
        "\n",
        "print(\"test loss:\", test_loss, \"test acc: \", test_acc)"
      ],
      "metadata": {
        "colab": {
          "base_uri": "https://localhost:8080/"
        },
        "id": "BKHCFvj2HQJR",
        "outputId": "8f1c1ae9-25a9-4b72-fb73-cc3691ce5323"
      },
      "execution_count": 33,
      "outputs": [
        {
          "output_type": "stream",
          "name": "stdout",
          "text": [
            "test loss: 0.9229190782376915 test acc:  0.6836186305732485\n"
          ]
        }
      ]
    },
    {
      "cell_type": "markdown",
      "metadata": {
        "id": "5a_zMNNVO9Du"
      },
      "source": [
        "Your answers here: я бы не сказал что 3 приведеных метода хороши, но из них лучше всего работает CosineAnnealingLR."
      ]
    },
    {
      "cell_type": "markdown",
      "metadata": {
        "id": "7xFXgl_3_E--"
      },
      "source": [
        "## 4. Аугментации данных (2 балла)"
      ]
    },
    {
      "cell_type": "markdown",
      "metadata": {
        "id": "5G0Easo9O9Du"
      },
      "source": [
        "Еще одной стандартной техникой, применяющейся в глубинном обучении, а особенно часто в компьютерном зрении, являются аугментации данных. Суть аугментаций состоит в том, что мы можем некоторым синтетическим образом видоизменять объекты обучающей выборки, тем самым расширяя ее, а также делая итоговую модель более устойчивой к таким изменениям.\n",
        "\n",
        "Простейшая аугментация, которую можно применить к картинкам — разворот картинки по горизонтальной оси. То есть при обучении модели с вероятностью $0.5$ мы будем разворачивать картинку из обучающей выборки."
      ]
    },
    {
      "cell_type": "code",
      "execution_count": 35,
      "metadata": {
        "id": "SzeFpgtfO9Du",
        "colab": {
          "base_uri": "https://localhost:8080/",
          "height": 259
        },
        "outputId": "47ded2e5-4a36-4535-cc19-481ee20a8ad0"
      },
      "outputs": [
        {
          "output_type": "display_data",
          "data": {
            "text/plain": [
              "<Figure size 432x288 with 1 Axes>"
            ],
            "image/png": "[encoded data removed]"
          },
          "metadata": {
            "needs_background": "light"
          }
        },
        {
          "output_type": "display_data",
          "data": {
            "text/plain": [
              "<Figure size 432x288 with 1 Axes>"
            ],
            "image/png": "[encoded data removed]"
          },
          "metadata": {
            "needs_background": "light"
          }
        }
      ],
      "source": [
        "dataiter = iter(train_loader)\n",
        "images, labels = next(dataiter)\n",
        "\n",
        "imshow(torchvision.utils.make_grid(images[:4]))\n",
        "\n",
        "imshow(torchvision.utils.make_grid(transforms.functional.hflip(images[:4])))"
      ]
    },
    {
      "cell_type": "markdown",
      "metadata": {
        "id": "BR4a-XJQO9Du"
      },
      "source": [
        "Наиболее удобным способом работы с аугментациями в PyTorch является их задание в списке <code>transforms</code>, который затем передается в загрузчик данных. Обучим нашу сеть, применяя горизонтальные повороты:"
      ]
    },
    {
      "cell_type": "code",
      "execution_count": 36,
      "metadata": {
        "id": "na0ScBf-_AqX",
        "scrolled": true,
        "colab": {
          "base_uri": "https://localhost:8080/"
        },
        "outputId": "da4f5b99-e030-4b0b-e993-623811ecb64f"
      },
      "outputs": [
        {
          "output_type": "stream",
          "name": "stdout",
          "text": [
            "Files already downloaded and verified\n",
            "Files already downloaded and verified\n",
            "Epoch  0\n",
            " train loss:  1.4815949700650175 train acc:  0.4705577501431244\n",
            " val loss:  1.279400632482894 val acc:  0.5402482269926274 \n",
            "\n",
            "Epoch  1\n",
            " train loss:  1.1865220857712644 train acc:  0.5833197310158278\n",
            " val loss:  1.123468843673138 val acc:  0.6061391845662543 \n",
            "\n",
            "Epoch  2\n",
            " train loss:  1.0565354845859452 train acc:  0.6312230673960837\n",
            " val loss:  1.044895735192806 val acc:  0.6374556739279564 \n",
            "\n",
            "Epoch  3\n",
            " train loss:  0.9950120626681466 train acc:  0.652585531501491\n",
            " val loss:  0.9948244039048539 val acc:  0.6607712765957446 \n",
            "\n",
            "Epoch  4\n",
            " train loss:  0.9539113873973407 train acc:  0.6682799034624257\n",
            " val loss:  1.0005493470963012 val acc:  0.6533244680851064 \n",
            "\n",
            "Epoch  5\n",
            " train loss:  0.9181433409397955 train acc:  0.6830561178475891\n",
            " val loss:  0.9133145530173119 val acc:  0.684064716481148 \n",
            "\n",
            "Epoch  6\n",
            " train loss:  0.898155661997891 train acc:  0.6906503004173474\n",
            " val loss:  0.9815579959686767 val acc:  0.6576019503968827 \n",
            "\n",
            "Epoch  7\n",
            " train loss:  0.8850535177770437 train acc:  0.6944657547818242\n",
            " val loss:  0.8788381401528703 val acc:  0.6986037234042554 \n",
            "\n",
            "Epoch  8\n",
            " train loss:  0.8711485126118773 train acc:  0.6983873074843635\n",
            " val loss:  0.9158380450086391 val acc:  0.6881870569066798 \n",
            "\n",
            "Epoch  9\n",
            " train loss:  0.852173484984438 train acc:  0.7030025790334837\n",
            " val loss:  0.872683691471181 val acc:  0.7050753547790203 \n",
            "\n",
            "Epoch  10\n",
            " train loss:  0.7577273325357838 train acc:  0.7387658331468293\n",
            " val loss:  0.8002640952455237 val acc:  0.7225620569066799 \n",
            "\n",
            "Epoch  11\n",
            " train loss:  0.7462430864953907 train acc:  0.7430179224807558\n",
            " val loss:  0.7904220909514326 val acc:  0.7287012412192974 \n",
            "\n",
            "Epoch  12\n",
            " train loss:  0.7399779335890218 train acc:  0.7443074236404308\n",
            " val loss:  0.7900810027376134 val acc:  0.7286569148936171 \n",
            "\n",
            "Epoch  13\n",
            " train loss:  0.7346948471322138 train acc:  0.7489757444130655\n",
            " val loss:  0.7807996219777046 val acc:  0.7313829787234043 \n",
            "\n",
            "Epoch  14\n",
            " train loss:  0.7320481655366677 train acc:  0.748951260197969\n",
            " val loss:  0.785684696537383 val acc:  0.7289671986661059 \n",
            "\n",
            "Epoch  15\n",
            " train loss:  0.7202000057893436 train acc:  0.7529054583753485\n",
            " val loss:  0.7780585692283956 val acc:  0.7318484042553192 \n",
            "\n",
            "Epoch  16\n",
            " train loss:  0.7169758423045959 train acc:  0.7547132084095064\n",
            " val loss:  0.7733022063336474 val acc:  0.7339095744680851 \n",
            "\n",
            "Epoch  17\n",
            " train loss:  0.7174871278419355 train acc:  0.7547254505715378\n",
            " val loss:  0.7755048622476294 val acc:  0.7336214539852548 \n",
            "\n",
            "Epoch  18\n",
            " train loss:  0.7169122302009157 train acc:  0.7548233873229576\n",
            " val loss:  0.7731474301916488 val acc:  0.7344414893617022 \n",
            "\n",
            "Epoch  19\n",
            " train loss:  0.7168758338286628 train acc:  0.7537583246745401\n",
            " val loss:  0.7745626339252959 val acc:  0.7349512412192973 \n",
            "\n"
          ]
        }
      ],
      "source": [
        "transform = transforms.Compose(\n",
        "        [transforms.RandomHorizontalFlip(),\n",
        "         transforms.ToTensor(),\n",
        "         transforms.Normalize((0.5, 0.5, 0.5), (0.5, 0.5, 0.5))]\n",
        ")\n",
        "\n",
        "train_loader, val_loader, test_loader = get_cifar10_data(batch_size=64, transform_train=transform)\n",
        "\n",
        "net = BasicBlockNet().to(device)\n",
        "optimizer = optim.SGD(net.parameters(), lr=0.1, momentum=0.9)\n",
        "scheduler = optim.lr_scheduler.MultiStepLR(optimizer, milestones=[10, 15], gamma=0.1)\n",
        "tr_loss_log, tr_acc_log, val_loss_log, val_acc_log = train(net, optimizer, 20, train_loader, val_loader, scheduler)"
      ]
    },
    {
      "cell_type": "markdown",
      "metadata": {
        "id": "v3ZIqDQqO9Dv"
      },
      "source": [
        "Посчитайте точность на тестовой выборке:"
      ]
    },
    {
      "cell_type": "code",
      "execution_count": 37,
      "metadata": {
        "id": "nNJizMkM_Auh",
        "colab": {
          "base_uri": "https://localhost:8080/"
        },
        "outputId": "e34e7451-d9e9-4afc-962f-0d25a7112ba3"
      },
      "outputs": [
        {
          "output_type": "stream",
          "name": "stdout",
          "text": [
            "test loss: 0.7905462241856156 test acc:  0.7294984076433121\n"
          ]
        }
      ],
      "source": [
        "test_loss, test_acc = test(net, test_loader)\n",
        "\n",
        "print(\"test loss:\", test_loss, \"test acc: \", test_acc)"
      ]
    },
    {
      "cell_type": "markdown",
      "metadata": {
        "id": "KndehSCHO9Dv"
      },
      "source": [
        "**Задание 4.1 (2 балла).** Изучите, какие еще способы аугментаций изображений представлены в <code>torchvision.transforms</code>. Выберите несколько из них, объясните, как они устроены, и обучите модель с ними (по отдельности и вместе). Удалось ли добиться улучшения качества на тестовой выборке?"
      ]
    },
    {
      "cell_type": "markdown",
      "source": [
        "**Взято с сайта с документацией торча:**\n",
        "\n",
        "*   [RandomCrop](https://pytorch.org/vision/0.11/transforms.html)\n",
        "\n",
        "Crop the given image at a random location. If the image is torch Tensor, it is expected to have […, H, W] shape, where … means an arbitrary number of leading dimensions, but if non-constant padding is used, the input is expected to have at most 2 leading dimensions\n",
        "\n",
        "*   [GaussianBlur](https://pytorch.org/vision/0.11/transforms.html)\n",
        "\n",
        "Blurs image with randomly chosen Gaussian blur. If the image is torch Tensor, it is expected to have […, C, H, W] shape, where … means an arbitrary number of leading dimensions."
      ],
      "metadata": {
        "id": "89NDZ4wRRBnw"
      }
    },
    {
      "cell_type": "code",
      "execution_count": 38,
      "metadata": {
        "id": "Np4rgvdZ_QRF",
        "colab": {
          "base_uri": "https://localhost:8080/"
        },
        "outputId": "5a33c887-5668-48b8-c768-4b3830d3c052"
      },
      "outputs": [
        {
          "output_type": "stream",
          "name": "stdout",
          "text": [
            "Files already downloaded and verified\n",
            "Files already downloaded and verified\n",
            "Epoch  0\n",
            " train loss:  1.557539773161712 train acc:  0.4430252677561814\n",
            " val loss:  1.3556366261015547 val acc:  0.512876773134191 \n",
            "\n",
            "Epoch  1\n",
            " train loss:  1.2614650315514866 train acc:  0.5575133847580096\n",
            " val loss:  1.1934430094475441 val acc:  0.5796542553191489 \n",
            "\n",
            "Epoch  2\n",
            " train loss:  1.1617990543681045 train acc:  0.5944192348494173\n",
            " val loss:  1.2324736290789664 val acc:  0.5867464539852548 \n",
            "\n",
            "Epoch  3\n",
            " train loss:  1.1119461777659176 train acc:  0.6121294725093807\n",
            " val loss:  1.0850783799556976 val acc:  0.623160461161999 \n",
            "\n",
            "Epoch  4\n",
            " train loss:  1.068177495621676 train acc:  0.6289215527025394\n",
            " val loss:  1.1526488709957041 val acc:  0.6011746454746165 \n",
            "\n",
            "Epoch  5\n",
            " train loss:  1.0428315039308678 train acc:  0.6357322408250743\n",
            " val loss:  1.1114333277053021 val acc:  0.6148271276595745 \n",
            "\n",
            "Epoch  6\n",
            " train loss:  1.0169187920403 train acc:  0.6452647558731832\n",
            " val loss:  1.0350985037519578 val acc:  0.6326462765957447 \n",
            "\n",
            "Epoch  7\n",
            " train loss:  1.0113840516132235 train acc:  0.6477050143796304\n",
            " val loss:  1.0040360483717412 val acc:  0.6494902483960415 \n",
            "\n",
            "Epoch  8\n",
            " train loss:  1.0004660238731495 train acc:  0.6516918582497828\n",
            " val loss:  1.0299599469976222 val acc:  0.6438829787234043 \n",
            "\n",
            "Epoch  9\n",
            " train loss:  0.9803324544451573 train acc:  0.6570824628774166\n",
            " val loss:  1.0217088909859353 val acc:  0.6477615249917862 \n",
            "\n",
            "Epoch  10\n",
            " train loss:  0.8850926033321639 train acc:  0.6908543353978633\n",
            " val loss:  0.9187789343773051 val acc:  0.6822251773895102 \n",
            "\n",
            "Epoch  11\n",
            " train loss:  0.8708228450915495 train acc:  0.6962000522796589\n",
            " val loss:  0.9146826320506157 val acc:  0.6879875888215735 \n",
            "\n",
            "Epoch  12\n",
            " train loss:  0.8664699809751737 train acc:  0.6984607600206867\n",
            " val loss:  0.9149085191970175 val acc:  0.6863253547790202 \n",
            "\n",
            "Epoch  13\n",
            " train loss:  0.8615778125618232 train acc:  0.700435818767199\n",
            " val loss:  0.907881101902495 val acc:  0.6867686170212766 \n",
            "\n",
            "Epoch  14\n",
            " train loss:  0.8540226685281646 train acc:  0.7050633324783506\n",
            " val loss:  0.9049721230851843 val acc:  0.6910682624958931 \n",
            "\n",
            "Epoch  15\n",
            " train loss:  0.842854878257354 train acc:  0.7051449464923503\n",
            " val loss:  0.8992168028303917 val acc:  0.6910239361702127 \n",
            "\n",
            "Epoch  16\n",
            " train loss:  0.8435766008262007 train acc:  0.7069282124203782\n",
            " val loss:  0.8953443889922285 val acc:  0.6928191489361702 \n",
            "\n",
            "Epoch  17\n",
            " train loss:  0.8367792791269815 train acc:  0.7125554976123343\n",
            " val loss:  0.8946877816890149 val acc:  0.6920877659574468 \n",
            "\n",
            "Epoch  18\n",
            " train loss:  0.8391027788357499 train acc:  0.7085686537421818\n",
            " val loss:  0.8974993135066742 val acc:  0.6925310284533399 \n",
            "\n",
            "Epoch  19\n",
            " train loss:  0.839270740801935 train acc:  0.7092256464295675\n",
            " val loss:  0.8931629168226364 val acc:  0.6914228723404255 \n",
            "\n"
          ]
        }
      ],
      "source": [
        "transform = transforms.Compose(\n",
        "        [transforms.RandomCrop(28),\n",
        "         transforms.Resize(32),\n",
        "         transforms.ToTensor(),\n",
        "         transforms.Normalize((0.5, 0.5, 0.5), (0.5, 0.5, 0.5))]\n",
        ")\n",
        "\n",
        "train_loader, val_loader, test_loader = get_cifar10_data(batch_size=64, transform_train=transform)\n",
        "\n",
        "net = BasicBlockNet().to(device)\n",
        "optimizer = optim.SGD(net.parameters(), lr=0.1, momentum=0.9)\n",
        "scheduler = optim.lr_scheduler.MultiStepLR(optimizer, milestones=[10, 15], gamma=0.1)\n",
        "tr_loss_log, tr_acc_log, val_loss_log, val_acc_log = train(net, optimizer, 20, train_loader, val_loader, scheduler)"
      ]
    },
    {
      "cell_type": "code",
      "source": [
        "test_loss, test_acc = test(net, test_loader)\n",
        "\n",
        "print(\"test loss:\", test_loss, \"test acc: \", test_acc)"
      ],
      "metadata": {
        "colab": {
          "base_uri": "https://localhost:8080/"
        },
        "id": "BklDVmkCSj1j",
        "outputId": "f29c1841-913d-4335-e039-96fe2ea64a21"
      },
      "execution_count": 39,
      "outputs": [
        {
          "output_type": "stream",
          "name": "stdout",
          "text": [
            "test loss: 1.218393764298433 test acc:  0.6311703821656051\n"
          ]
        }
      ]
    },
    {
      "cell_type": "code",
      "source": [
        "transform = transforms.Compose(\n",
        "        [transforms.GaussianBlur(kernel_size=3),\n",
        "         transforms.ToTensor(),\n",
        "         transforms.Normalize((0.5, 0.5, 0.5), (0.5, 0.5, 0.5))]\n",
        ")\n",
        "\n",
        "train_loader, val_loader, test_loader = get_cifar10_data(batch_size=64, transform_train=transform)\n",
        "\n",
        "net = BasicBlockNet().to(device)\n",
        "optimizer = optim.SGD(net.parameters(), lr=0.1, momentum=0.9)\n",
        "scheduler = optim.lr_scheduler.MultiStepLR(optimizer, milestones=[10, 15], gamma=0.1)\n",
        "tr_loss_log, tr_acc_log, val_loss_log, val_acc_log = train(net, optimizer, 20, train_loader, val_loader, scheduler)"
      ],
      "metadata": {
        "colab": {
          "base_uri": "https://localhost:8080/"
        },
        "id": "EK3Pg7WdSj6x",
        "outputId": "5bcc885c-8102-4356-b887-e3e1597d7242"
      },
      "execution_count": 40,
      "outputs": [
        {
          "output_type": "stream",
          "name": "stdout",
          "text": [
            "Files already downloaded and verified\n",
            "Files already downloaded and verified\n",
            "Epoch  0\n",
            " train loss:  1.5551030513791324 train acc:  0.4464204101065613\n",
            " val loss:  1.3848821878433228 val acc:  0.5024822695458189 \n",
            "\n",
            "Epoch  1\n",
            " train loss:  1.287215516379808 train acc:  0.5459037934186471\n",
            " val loss:  1.1794965186017625 val acc:  0.5850398936170212 \n",
            "\n",
            "Epoch  2\n",
            " train loss:  1.1813686150083593 train acc:  0.585792635215048\n",
            " val loss:  1.1520045678666297 val acc:  0.5941046100981692 \n",
            "\n",
            "Epoch  3\n",
            " train loss:  1.1226601743393014 train acc:  0.6087710564271623\n",
            " val loss:  1.1043768705205714 val acc:  0.6156693263256804 \n",
            "\n",
            "Epoch  4\n",
            " train loss:  1.0772162087438748 train acc:  0.6242858775137111\n",
            " val loss:  1.1373462831720393 val acc:  0.6076241135597229 \n",
            "\n",
            "Epoch  5\n",
            " train loss:  1.0502175723612854 train acc:  0.6306558500914077\n",
            " val loss:  1.0966086453579842 val acc:  0.6153812057160316 \n",
            "\n",
            "Epoch  6\n",
            " train loss:  1.0240398702063551 train acc:  0.6424082659280278\n",
            " val loss:  1.0266612971082647 val acc:  0.6454787234042553 \n",
            "\n",
            "Epoch  7\n",
            " train loss:  1.0061908083162534 train acc:  0.6472683795191471\n",
            " val loss:  1.019224181327414 val acc:  0.6429521276595744 \n",
            "\n",
            "Epoch  8\n",
            " train loss:  0.9938898487544365 train acc:  0.6504390833582695\n",
            " val loss:  1.048883066025186 val acc:  0.6354609930768926 \n",
            "\n",
            "Epoch  9\n",
            " train loss:  0.9746301620926238 train acc:  0.6583270762912534\n",
            " val loss:  1.0301900290428323 val acc:  0.6445257093044038 \n",
            "\n",
            "Epoch  10\n",
            " train loss:  0.8654474958205354 train acc:  0.6979792374143653\n",
            " val loss:  0.9388451030913819 val acc:  0.6732047872340425 \n",
            "\n",
            "Epoch  11\n",
            " train loss:  0.8521281566327843 train acc:  0.7028026247373229\n",
            " val loss:  0.936730856083809 val acc:  0.6773492908224147 \n",
            "\n",
            "Epoch  12\n",
            " train loss:  0.8475362546265234 train acc:  0.7058060198640911\n",
            " val loss:  0.9390260873956883 val acc:  0.6745124114320633 \n",
            "\n",
            "Epoch  13\n",
            " train loss:  0.8410105875248883 train acc:  0.7073730086495715\n",
            " val loss:  0.9289829761423963 val acc:  0.6799867021276595 \n",
            "\n",
            "Epoch  14\n",
            " train loss:  0.8391124596325528 train acc:  0.7071363280852491\n",
            " val loss:  0.929041847015949 val acc:  0.6782136525245424 \n",
            "\n",
            "Epoch  15\n",
            " train loss:  0.8210030205180048 train acc:  0.7151508227780706\n",
            " val loss:  0.919183416062213 val acc:  0.6812943263256803 \n",
            "\n",
            "Epoch  16\n",
            " train loss:  0.8228569638794475 train acc:  0.7133920410651393\n",
            " val loss:  0.9223053232152412 val acc:  0.6826462765957447 \n",
            "\n",
            "Epoch  17\n",
            " train loss:  0.8215933968423708 train acc:  0.7135960760456552\n",
            " val loss:  0.9215404251788525 val acc:  0.6856382978723404 \n",
            "\n",
            "Epoch  18\n",
            " train loss:  0.8189230385820434 train acc:  0.7163464677617144\n",
            " val loss:  0.9231631786265272 val acc:  0.6825132978723404 \n",
            "\n",
            "Epoch  19\n",
            " train loss:  0.8182872866145872 train acc:  0.7158404610492629\n",
            " val loss:  0.9218017484279389 val acc:  0.6826684397585848 \n",
            "\n"
          ]
        }
      ]
    },
    {
      "cell_type": "code",
      "source": [
        "test_loss, test_acc = test(net, test_loader)\n",
        "\n",
        "print(\"test loss:\", test_loss, \"test acc: \", test_acc)"
      ],
      "metadata": {
        "colab": {
          "base_uri": "https://localhost:8080/"
        },
        "id": "sNeTAWpkSkF9",
        "outputId": "d56991f7-27b6-4504-cc08-c8f1911c99b8"
      },
      "execution_count": 41,
      "outputs": [
        {
          "output_type": "stream",
          "name": "stdout",
          "text": [
            "test loss: 0.9428682862573369 test acc:  0.6859076433121019\n"
          ]
        }
      ]
    },
    {
      "cell_type": "markdown",
      "metadata": {
        "id": "4K-MptLiO9Dv"
      },
      "source": [
        "Your answers here: В данном задании, в отличии от предыдущего, рассматриваемые варианты показали себя очень недурственно."
      ]
    },
    {
      "cell_type": "markdown",
      "metadata": {
        "id": "HCENjLw5O9Dv"
      },
      "source": [
        "## Бонус. Логирование в wandb (2 балла)"
      ]
    },
    {
      "cell_type": "markdown",
      "metadata": {
        "id": "xOyzc1mnO9Dv"
      },
      "source": [
        "На практике специалиста по глубинному обучению часто встречаются ситуации, когда нейросеть учится на каком-то удаленном сервере. И обычно вам хочется отслеживать прогресс обучения, особенно когда время обучения модели исчисляется днями или неделями. Для таких целей существует несколько инструментов. Вероятно, самый популярный из них — [wandb](https://wandb.ai/site).\n",
        "\n",
        "Ваша задача состоит в том, чтобы разобраться как им пользоваться, и повторить задания 2.1 и 2.2 с его использованием. Обучение вы можете запускать в этом же ноутбуке, но теперь вам необходимо через wandb логировать значения функции потерь и точности на обучающей выборке и на валидационной. Результатом работы должны быть ваш код и публичная ссылка на страничку с графиками, идентичными графикам в задании 2.2."
      ]
    },
    {
      "cell_type": "code",
      "execution_count": null,
      "metadata": {
        "id": "m5gSTLAr_QS4"
      },
      "outputs": [],
      "source": [
        "# <your code here>"
      ]
    }
  ],
  "metadata": {
    "accelerator": "GPU",
    "colab": {
      "provenance": [],
      "collapsed_sections": [
        "HCENjLw5O9Dv"
      ]
    },
    "kernelspec": {
      "display_name": "Python 3 (ipykernel)",
      "language": "python",
      "name": "python3"
    },
    "language_info": {
      "codemirror_mode": {
        "name": "ipython",
        "version": 3
      },
      "file_extension": ".py",
      "mimetype": "text/x-python",
      "name": "python",
      "nbconvert_exporter": "python",
      "pygments_lexer": "ipython3",
      "version": "3.10.4"
    },
    "widgets": {
      "application/vnd.jupyter.widget-state+json": {
        "2b1d1cd4fd0f41c39ebc37280c2fdd1d": {
          "model_module": "@jupyter-widgets/controls",
          "model_name": "HBoxModel",
          "model_module_version": "1.5.0",
          "state": {
            "_dom_classes": [],
            "_model_module": "@jupyter-widgets/controls",
            "_model_module_version": "1.5.0",
            "_model_name": "HBoxModel",
            "_view_count": null,
            "_view_module": "@jupyter-widgets/controls",
            "_view_module_version": "1.5.0",
            "_view_name": "HBoxView",
            "box_style": "",
            "children": [
              "IPY_MODEL_fc466022148d44c8af559aeabfe83f0e",
              "IPY_MODEL_24381801b31e4daeb8c30c3980e6e5e5",
              "IPY_MODEL_48643c2ae05846cc8b52d40a02f71406"
            ],
            "layout": "IPY_MODEL_c532869b04f348a7a4d0cb5748144af0"
          }
        },
        "fc466022148d44c8af559aeabfe83f0e": {
          "model_module": "@jupyter-widgets/controls",
          "model_name": "HTMLModel",
          "model_module_version": "1.5.0",
          "state": {
            "_dom_classes": [],
            "_model_module": "@jupyter-widgets/controls",
            "_model_module_version": "1.5.0",
            "_model_name": "HTMLModel",
            "_view_count": null,
            "_view_module": "@jupyter-widgets/controls",
            "_view_module_version": "1.5.0",
            "_view_name": "HTMLView",
            "description": "",
            "description_tooltip": null,
            "layout": "IPY_MODEL_5e51d32d463e4c96af69f549328f47c1",
            "placeholder": "​",
            "style": "IPY_MODEL_6eec80126b0d49259b8b02867e1d08ef",
            "value": "100%"
          }
        },
        "24381801b31e4daeb8c30c3980e6e5e5": {
          "model_module": "@jupyter-widgets/controls",
          "model_name": "FloatProgressModel",
          "model_module_version": "1.5.0",
          "state": {
            "_dom_classes": [],
            "_model_module": "@jupyter-widgets/controls",
            "_model_module_version": "1.5.0",
            "_model_name": "FloatProgressModel",
            "_view_count": null,
            "_view_module": "@jupyter-widgets/controls",
            "_view_module_version": "1.5.0",
            "_view_name": "ProgressView",
            "bar_style": "success",
            "description": "",
            "description_tooltip": null,
            "layout": "IPY_MODEL_cb87da8a318d41519deb4c7885953b70",
            "max": 170498071,
            "min": 0,
            "orientation": "horizontal",
            "style": "IPY_MODEL_097adbcff1584ab0939d32aec137a595",
            "value": 170498071
          }
        },
        "48643c2ae05846cc8b52d40a02f71406": {
          "model_module": "@jupyter-widgets/controls",
          "model_name": "HTMLModel",
          "model_module_version": "1.5.0",
          "state": {
            "_dom_classes": [],
            "_model_module": "@jupyter-widgets/controls",
            "_model_module_version": "1.5.0",
            "_model_name": "HTMLModel",
            "_view_count": null,
            "_view_module": "@jupyter-widgets/controls",
            "_view_module_version": "1.5.0",
            "_view_name": "HTMLView",
            "description": "",
            "description_tooltip": null,
            "layout": "IPY_MODEL_91aa1abd413e4e9a8454210f588cb73b",
            "placeholder": "​",
            "style": "IPY_MODEL_c289eeba8c914f0f9cb3d6a914ddf49f",
            "value": " 170498071/170498071 [00:06&lt;00:00, 31033895.86it/s]"
          }
        },
        "c532869b04f348a7a4d0cb5748144af0": {
          "model_module": "@jupyter-widgets/base",
          "model_name": "LayoutModel",
          "model_module_version": "1.2.0",
          "state": {
            "_model_module": "@jupyter-widgets/base",
            "_model_module_version": "1.2.0",
            "_model_name": "LayoutModel",
            "_view_count": null,
            "_view_module": "@jupyter-widgets/base",
            "_view_module_version": "1.2.0",
            "_view_name": "LayoutView",
            "align_content": null,
            "align_items": null,
            "align_self": null,
            "border": null,
            "bottom": null,
            "display": null,
            "flex": null,
            "flex_flow": null,
            "grid_area": null,
            "grid_auto_columns": null,
            "grid_auto_flow": null,
            "grid_auto_rows": null,
            "grid_column": null,
            "grid_gap": null,
            "grid_row": null,
            "grid_template_areas": null,
            "grid_template_columns": null,
            "grid_template_rows": null,
            "height": null,
            "justify_content": null,
            "justify_items": null,
            "left": null,
            "margin": null,
            "max_height": null,
            "max_width": null,
            "min_height": null,
            "min_width": null,
            "object_fit": null,
            "object_position": null,
            "order": null,
            "overflow": null,
            "overflow_x": null,
            "overflow_y": null,
            "padding": null,
            "right": null,
            "top": null,
            "visibility": null,
            "width": null
          }
        },
        "5e51d32d463e4c96af69f549328f47c1": {
          "model_module": "@jupyter-widgets/base",
          "model_name": "LayoutModel",
          "model_module_version": "1.2.0",
          "state": {
            "_model_module": "@jupyter-widgets/base",
            "_model_module_version": "1.2.0",
            "_model_name": "LayoutModel",
            "_view_count": null,
            "_view_module": "@jupyter-widgets/base",
            "_view_module_version": "1.2.0",
            "_view_name": "LayoutView",
            "align_content": null,
            "align_items": null,
            "align_self": null,
            "border": null,
            "bottom": null,
            "display": null,
            "flex": null,
            "flex_flow": null,
            "grid_area": null,
            "grid_auto_columns": null,
            "grid_auto_flow": null,
            "grid_auto_rows": null,
            "grid_column": null,
            "grid_gap": null,
            "grid_row": null,
            "grid_template_areas": null,
            "grid_template_columns": null,
            "grid_template_rows": null,
            "height": null,
            "justify_content": null,
            "justify_items": null,
            "left": null,
            "margin": null,
            "max_height": null,
            "max_width": null,
            "min_height": null,
            "min_width": null,
            "object_fit": null,
            "object_position": null,
            "order": null,
            "overflow": null,
            "overflow_x": null,
            "overflow_y": null,
            "padding": null,
            "right": null,
            "top": null,
            "visibility": null,
            "width": null
          }
        },
        "6eec80126b0d49259b8b02867e1d08ef": {
          "model_module": "@jupyter-widgets/controls",
          "model_name": "DescriptionStyleModel",
          "model_module_version": "1.5.0",
          "state": {
            "_model_module": "@jupyter-widgets/controls",
            "_model_module_version": "1.5.0",
            "_model_name": "DescriptionStyleModel",
            "_view_count": null,
            "_view_module": "@jupyter-widgets/base",
            "_view_module_version": "1.2.0",
            "_view_name": "StyleView",
            "description_width": ""
          }
        },
        "cb87da8a318d41519deb4c7885953b70": {
          "model_module": "@jupyter-widgets/base",
          "model_name": "LayoutModel",
          "model_module_version": "1.2.0",
          "state": {
            "_model_module": "@jupyter-widgets/base",
            "_model_module_version": "1.2.0",
            "_model_name": "LayoutModel",
            "_view_count": null,
            "_view_module": "@jupyter-widgets/base",
            "_view_module_version": "1.2.0",
            "_view_name": "LayoutView",
            "align_content": null,
            "align_items": null,
            "align_self": null,
            "border": null,
            "bottom": null,
            "display": null,
            "flex": null,
            "flex_flow": null,
            "grid_area": null,
            "grid_auto_columns": null,
            "grid_auto_flow": null,
            "grid_auto_rows": null,
            "grid_column": null,
            "grid_gap": null,
            "grid_row": null,
            "grid_template_areas": null,
            "grid_template_columns": null,
            "grid_template_rows": null,
            "height": null,
            "justify_content": null,
            "justify_items": null,
            "left": null,
            "margin": null,
            "max_height": null,
            "max_width": null,
            "min_height": null,
            "min_width": null,
            "object_fit": null,
            "object_position": null,
            "order": null,
            "overflow": null,
            "overflow_x": null,
            "overflow_y": null,
            "padding": null,
            "right": null,
            "top": null,
            "visibility": null,
            "width": null
          }
        },
        "097adbcff1584ab0939d32aec137a595": {
          "model_module": "@jupyter-widgets/controls",
          "model_name": "ProgressStyleModel",
          "model_module_version": "1.5.0",
          "state": {
            "_model_module": "@jupyter-widgets/controls",
            "_model_module_version": "1.5.0",
            "_model_name": "ProgressStyleModel",
            "_view_count": null,
            "_view_module": "@jupyter-widgets/base",
            "_view_module_version": "1.2.0",
            "_view_name": "StyleView",
            "bar_color": null,
            "description_width": ""
          }
        },
        "91aa1abd413e4e9a8454210f588cb73b": {
          "model_module": "@jupyter-widgets/base",
          "model_name": "LayoutModel",
          "model_module_version": "1.2.0",
          "state": {
            "_model_module": "@jupyter-widgets/base",
            "_model_module_version": "1.2.0",
            "_model_name": "LayoutModel",
            "_view_count": null,
            "_view_module": "@jupyter-widgets/base",
            "_view_module_version": "1.2.0",
            "_view_name": "LayoutView",
            "align_content": null,
            "align_items": null,
            "align_self": null,
            "border": null,
            "bottom": null,
            "display": null,
            "flex": null,
            "flex_flow": null,
            "grid_area": null,
            "grid_auto_columns": null,
            "grid_auto_flow": null,
            "grid_auto_rows": null,
            "grid_column": null,
            "grid_gap": null,
            "grid_row": null,
            "grid_template_areas": null,
            "grid_template_columns": null,
            "grid_template_rows": null,
            "height": null,
            "justify_content": null,
            "justify_items": null,
            "left": null,
            "margin": null,
            "max_height": null,
            "max_width": null,
            "min_height": null,
            "min_width": null,
            "object_fit": null,
            "object_position": null,
            "order": null,
            "overflow": null,
            "overflow_x": null,
            "overflow_y": null,
            "padding": null,
            "right": null,
            "top": null,
            "visibility": null,
            "width": null
          }
        },
        "c289eeba8c914f0f9cb3d6a914ddf49f": {
          "model_module": "@jupyter-widgets/controls",
          "model_name": "DescriptionStyleModel",
          "model_module_version": "1.5.0",
          "state": {
            "_model_module": "@jupyter-widgets/controls",
            "_model_module_version": "1.5.0",
            "_model_name": "DescriptionStyleModel",
            "_view_count": null,
            "_view_module": "@jupyter-widgets/base",
            "_view_module_version": "1.2.0",
            "_view_name": "StyleView",
            "description_width": ""
          }
        }
      }
    },
    "gpuClass": "standard"
  },
  "nbformat": 4,
  "nbformat_minor": 0
}